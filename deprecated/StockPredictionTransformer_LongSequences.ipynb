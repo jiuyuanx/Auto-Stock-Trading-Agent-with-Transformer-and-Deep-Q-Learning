{
  "cells": [
    {
      "cell_type": "markdown",
      "metadata": {
        "id": "vwIdDTTmmZVe"
      },
      "source": [
        "# Read this section importantly!"
      ]
    },
    {
      "cell_type": "code",
      "execution_count": 9,
      "metadata": {
        "colab": {
          "base_uri": "https://localhost:8080/"
        },
        "id": "8UK7J-dp5iN5",
        "outputId": "c072e841-b9c6-4dd4-f20f-a885a2c64963"
      },
      "outputs": [
        {
          "output_type": "stream",
          "name": "stdout",
          "text": [
            "Tue May  2 19:07:50 2023       \n",
            "+-----------------------------------------------------------------------------+\n",
            "| NVIDIA-SMI 525.85.12    Driver Version: 525.85.12    CUDA Version: 12.0     |\n",
            "|-------------------------------+----------------------+----------------------+\n",
            "| GPU  Name        Persistence-M| Bus-Id        Disp.A | Volatile Uncorr. ECC |\n",
            "| Fan  Temp  Perf  Pwr:Usage/Cap|         Memory-Usage | GPU-Util  Compute M. |\n",
            "|                               |                      |               MIG M. |\n",
            "|===============================+======================+======================|\n",
            "|   0  Tesla T4            Off  | 00000000:00:04.0 Off |                    0 |\n",
            "| N/A   48C    P8     9W /  70W |      3MiB / 15360MiB |      0%      Default |\n",
            "|                               |                      |                  N/A |\n",
            "+-------------------------------+----------------------+----------------------+\n",
            "                                                                               \n",
            "+-----------------------------------------------------------------------------+\n",
            "| Processes:                                                                  |\n",
            "|  GPU   GI   CI        PID   Type   Process name                  GPU Memory |\n",
            "|        ID   ID                                                   Usage      |\n",
            "|=============================================================================|\n",
            "|  No running processes found                                                 |\n",
            "+-----------------------------------------------------------------------------+\n"
          ]
        }
      ],
      "source": [
        "!nvidia-smi"
      ]
    },
    {
      "cell_type": "code",
      "execution_count": 2,
      "metadata": {
        "id": "nYgaLmgy5iqR",
        "colab": {
          "base_uri": "https://localhost:8080/"
        },
        "outputId": "04aa6551-8beb-4736-cc39-51b85d853caa"
      },
      "outputs": [
        {
          "output_type": "stream",
          "name": "stdout",
          "text": [
            "\u001b[2K     \u001b[90m━━━━━━━━━━━━━━━━━━━━━━━━━━━━━━━━━━━━━━\u001b[0m \u001b[32m174.1/174.1 kB\u001b[0m \u001b[31m15.9 MB/s\u001b[0m eta \u001b[36m0:00:00\u001b[0m\n",
            "\u001b[2K     \u001b[90m━━━━━━━━━━━━━━━━━━━━━━━━━━━━━━━━━━━━━━━━\u001b[0m \u001b[32m3.0/3.0 MB\u001b[0m \u001b[31m55.4 MB/s\u001b[0m eta \u001b[36m0:00:00\u001b[0m\n",
            "\u001b[?25h"
          ]
        }
      ],
      "source": [
        "# Install some required libraries\n",
        "# Feel free to add more if you want\n",
        "!pip install -q python-levenshtein torchsummaryX"
      ]
    },
    {
      "cell_type": "code",
      "execution_count": 3,
      "metadata": {
        "id": "YSCjc2_m6rQ2",
        "colab": {
          "base_uri": "https://localhost:8080/"
        },
        "outputId": "53a910bd-58fe-40d2-fe6e-b4142a1a131e"
      },
      "outputs": [
        {
          "output_type": "stream",
          "name": "stdout",
          "text": [
            "\u001b[2K     \u001b[90m━━━━━━━━━━━━━━━━━━━━━━━━━━━━━━━━━━━━━━━━\u001b[0m \u001b[32m7.0/7.0 MB\u001b[0m \u001b[31m76.7 MB/s\u001b[0m eta \u001b[36m0:00:00\u001b[0m\n",
            "\u001b[2K     \u001b[90m━━━━━━━━━━━━━━━━━━━━━━━━━━━━━━━━━━━━━━\u001b[0m \u001b[32m224.5/224.5 kB\u001b[0m \u001b[31m24.1 MB/s\u001b[0m eta \u001b[36m0:00:00\u001b[0m\n",
            "\u001b[2K     \u001b[90m━━━━━━━━━━━━━━━━━━━━━━━━━━━━━━━━━━━━━━━━\u001b[0m \u001b[32m7.8/7.8 MB\u001b[0m \u001b[31m111.0 MB/s\u001b[0m eta \u001b[36m0:00:00\u001b[0m\n",
            "\u001b[?25h"
          ]
        }
      ],
      "source": [
        "pip install transformers --quiet"
      ]
    },
    {
      "cell_type": "code",
      "execution_count": 4,
      "metadata": {
        "colab": {
          "base_uri": "https://localhost:8080/"
        },
        "id": "qp6m8Z2jyCyx",
        "outputId": "f8876673-d202-43d9-a3d3-6500aa95f389"
      },
      "outputs": [
        {
          "output_type": "stream",
          "name": "stdout",
          "text": [
            "Device:  cuda\n",
            "Device:  cuda\n"
          ]
        }
      ],
      "source": [
        "import torch\n",
        "import random\n",
        "import numpy as np\n",
        "import torch.nn as nn\n",
        "import torch.nn.functional as F\n",
        "from torchsummaryX import summary\n",
        "from torch.utils.data import Dataset, DataLoader\n",
        "from torch.nn.utils.rnn import pad_sequence, pack_padded_sequence, pad_packed_sequence\n",
        "import torchvision.transforms as tvt\n",
        "import torchaudio.transforms as tat\n",
        "import pandas as pd\n",
        "\n",
        "from matplotlib import pyplot as plt\n",
        "from sklearn.metrics import accuracy_score\n",
        "from sklearn.metrics import r2_score\n",
        "from sklearn.preprocessing import StandardScaler\n",
        "import gc\n",
        "\n",
        "import zipfile\n",
        "import pandas as pd\n",
        "from tqdm import tqdm\n",
        "import os\n",
        "import datetime\n",
        "\n",
        "import warnings\n",
        "warnings.filterwarnings('ignore')\n",
        "\n",
        "device = 'cuda' if torch.cuda.is_available() else 'cpu'\n",
        "print(\"Device: \", device)\n",
        "DEVICE = \"cuda\" if torch.cuda.is_available() else \"cpu\"\n",
        "print(\"Device: \", DEVICE)"
      ]
    },
    {
      "cell_type": "markdown",
      "metadata": {
        "id": "zUJyBBwIqQs6"
      },
      "source": [
        "# Dataset and Dataloaders\n",
        "\n",
        "In terms of the dataset, the dataset structure for HW3P2 and HW4P2 dataset are very similar. Can you spot out the differences? What all will be required?? \n",
        "\n",
        "Hints:\n",
        "\n",
        "- Check how big is the dataset (do you require memory efficient loading techniques??)\n",
        "- How do we load mfccs? Do we need to normalise them? \n",
        "- Does the data have \\<SOS> and \\<EOS> tokens in each sequences? Do we remove them or do we not remove them? (Read writeup)\n",
        "- Would we want a collating function? Ask yourself: Why did we need a collate function last time?\n",
        "- Observe the VOCAB, is the dataset same as HW3P2? \n",
        "- Should you add augmentations, if yes which augmentations? When should you add augmentations? (Check bootcamp for answer)\n"
      ]
    },
    {
      "cell_type": "code",
      "execution_count": 10,
      "metadata": {
        "colab": {
          "base_uri": "https://localhost:8080/",
          "height": 442
        },
        "id": "IU8XXOzGWWfX",
        "outputId": "296b2df1-9528-4bda-a9a3-e51a2f789fd3"
      },
      "outputs": [
        {
          "output_type": "stream",
          "name": "stdout",
          "text": [
            "Index(['Open', 'High', 'Low', 'Close', 'Volume', 'change', 'delta', 'SMA10'], dtype='object')\n"
          ]
        },
        {
          "output_type": "execute_result",
          "data": {
            "text/plain": [
              "            Open        High         Low       Close     Volume    change  \\\n",
              "0       7.622500    7.660714    7.585000    7.643214  493729600  0.013215   \n",
              "1       7.664286    7.699643    7.616071    7.656429  601904800  0.013215   \n",
              "2       7.656429    7.686786    7.526786    7.534643  552160000 -0.121786   \n",
              "3       7.562500    7.571429    7.466071    7.520714  477131200 -0.013929   \n",
              "4       7.510714    7.571429    7.466429    7.570714  447610800  0.050000   \n",
              "...          ...         ...         ...         ...        ...       ...   \n",
              "3348  165.000000  165.600006  163.889999  165.330002   41949600  0.309998   \n",
              "3349  165.190002  166.309998  163.729996  163.770004   48714100 -1.559998   \n",
              "3350  163.059998  165.279999  162.800003  163.759995   45498800 -0.010009   \n",
              "3351  165.190002  168.559998  165.190002  168.410004   64902300  4.650009   \n",
              "3352  168.490005  169.850006  167.880005  169.679993   55209200  1.269989   \n",
              "\n",
              "      delta       SMA10  \n",
              "0       0.0    7.520571  \n",
              "1       1.0    7.520571  \n",
              "2       0.0    7.520571  \n",
              "3       0.0    7.520571  \n",
              "4       1.0    7.520571  \n",
              "...     ...         ...  \n",
              "3348    1.0  164.800002  \n",
              "3349    0.0  165.097002  \n",
              "3350    0.0  165.463001  \n",
              "3351    1.0  165.748001  \n",
              "3352    1.0  166.195000  \n",
              "\n",
              "[3353 rows x 8 columns]"
            ],
            "text/html": [
              "\n",
              "  <div id=\"df-ccbcaadb-2125-4d2f-8197-b717de7d44eb\">\n",
              "    <div class=\"colab-df-container\">\n",
              "      <div>\n",
              "<style scoped>\n",
              "    .dataframe tbody tr th:only-of-type {\n",
              "        vertical-align: middle;\n",
              "    }\n",
              "\n",
              "    .dataframe tbody tr th {\n",
              "        vertical-align: top;\n",
              "    }\n",
              "\n",
              "    .dataframe thead th {\n",
              "        text-align: right;\n",
              "    }\n",
              "</style>\n",
              "<table border=\"1\" class=\"dataframe\">\n",
              "  <thead>\n",
              "    <tr style=\"text-align: right;\">\n",
              "      <th></th>\n",
              "      <th>Open</th>\n",
              "      <th>High</th>\n",
              "      <th>Low</th>\n",
              "      <th>Close</th>\n",
              "      <th>Volume</th>\n",
              "      <th>change</th>\n",
              "      <th>delta</th>\n",
              "      <th>SMA10</th>\n",
              "    </tr>\n",
              "  </thead>\n",
              "  <tbody>\n",
              "    <tr>\n",
              "      <th>0</th>\n",
              "      <td>7.622500</td>\n",
              "      <td>7.660714</td>\n",
              "      <td>7.585000</td>\n",
              "      <td>7.643214</td>\n",
              "      <td>493729600</td>\n",
              "      <td>0.013215</td>\n",
              "      <td>0.0</td>\n",
              "      <td>7.520571</td>\n",
              "    </tr>\n",
              "    <tr>\n",
              "      <th>1</th>\n",
              "      <td>7.664286</td>\n",
              "      <td>7.699643</td>\n",
              "      <td>7.616071</td>\n",
              "      <td>7.656429</td>\n",
              "      <td>601904800</td>\n",
              "      <td>0.013215</td>\n",
              "      <td>1.0</td>\n",
              "      <td>7.520571</td>\n",
              "    </tr>\n",
              "    <tr>\n",
              "      <th>2</th>\n",
              "      <td>7.656429</td>\n",
              "      <td>7.686786</td>\n",
              "      <td>7.526786</td>\n",
              "      <td>7.534643</td>\n",
              "      <td>552160000</td>\n",
              "      <td>-0.121786</td>\n",
              "      <td>0.0</td>\n",
              "      <td>7.520571</td>\n",
              "    </tr>\n",
              "    <tr>\n",
              "      <th>3</th>\n",
              "      <td>7.562500</td>\n",
              "      <td>7.571429</td>\n",
              "      <td>7.466071</td>\n",
              "      <td>7.520714</td>\n",
              "      <td>477131200</td>\n",
              "      <td>-0.013929</td>\n",
              "      <td>0.0</td>\n",
              "      <td>7.520571</td>\n",
              "    </tr>\n",
              "    <tr>\n",
              "      <th>4</th>\n",
              "      <td>7.510714</td>\n",
              "      <td>7.571429</td>\n",
              "      <td>7.466429</td>\n",
              "      <td>7.570714</td>\n",
              "      <td>447610800</td>\n",
              "      <td>0.050000</td>\n",
              "      <td>1.0</td>\n",
              "      <td>7.520571</td>\n",
              "    </tr>\n",
              "    <tr>\n",
              "      <th>...</th>\n",
              "      <td>...</td>\n",
              "      <td>...</td>\n",
              "      <td>...</td>\n",
              "      <td>...</td>\n",
              "      <td>...</td>\n",
              "      <td>...</td>\n",
              "      <td>...</td>\n",
              "      <td>...</td>\n",
              "    </tr>\n",
              "    <tr>\n",
              "      <th>3348</th>\n",
              "      <td>165.000000</td>\n",
              "      <td>165.600006</td>\n",
              "      <td>163.889999</td>\n",
              "      <td>165.330002</td>\n",
              "      <td>41949600</td>\n",
              "      <td>0.309998</td>\n",
              "      <td>1.0</td>\n",
              "      <td>164.800002</td>\n",
              "    </tr>\n",
              "    <tr>\n",
              "      <th>3349</th>\n",
              "      <td>165.190002</td>\n",
              "      <td>166.309998</td>\n",
              "      <td>163.729996</td>\n",
              "      <td>163.770004</td>\n",
              "      <td>48714100</td>\n",
              "      <td>-1.559998</td>\n",
              "      <td>0.0</td>\n",
              "      <td>165.097002</td>\n",
              "    </tr>\n",
              "    <tr>\n",
              "      <th>3350</th>\n",
              "      <td>163.059998</td>\n",
              "      <td>165.279999</td>\n",
              "      <td>162.800003</td>\n",
              "      <td>163.759995</td>\n",
              "      <td>45498800</td>\n",
              "      <td>-0.010009</td>\n",
              "      <td>0.0</td>\n",
              "      <td>165.463001</td>\n",
              "    </tr>\n",
              "    <tr>\n",
              "      <th>3351</th>\n",
              "      <td>165.190002</td>\n",
              "      <td>168.559998</td>\n",
              "      <td>165.190002</td>\n",
              "      <td>168.410004</td>\n",
              "      <td>64902300</td>\n",
              "      <td>4.650009</td>\n",
              "      <td>1.0</td>\n",
              "      <td>165.748001</td>\n",
              "    </tr>\n",
              "    <tr>\n",
              "      <th>3352</th>\n",
              "      <td>168.490005</td>\n",
              "      <td>169.850006</td>\n",
              "      <td>167.880005</td>\n",
              "      <td>169.679993</td>\n",
              "      <td>55209200</td>\n",
              "      <td>1.269989</td>\n",
              "      <td>1.0</td>\n",
              "      <td>166.195000</td>\n",
              "    </tr>\n",
              "  </tbody>\n",
              "</table>\n",
              "<p>3353 rows × 8 columns</p>\n",
              "</div>\n",
              "      <button class=\"colab-df-convert\" onclick=\"convertToInteractive('df-ccbcaadb-2125-4d2f-8197-b717de7d44eb')\"\n",
              "              title=\"Convert this dataframe to an interactive table.\"\n",
              "              style=\"display:none;\">\n",
              "        \n",
              "  <svg xmlns=\"http://www.w3.org/2000/svg\" height=\"24px\"viewBox=\"0 0 24 24\"\n",
              "       width=\"24px\">\n",
              "    <path d=\"M0 0h24v24H0V0z\" fill=\"none\"/>\n",
              "    <path d=\"M18.56 5.44l.94 2.06.94-2.06 2.06-.94-2.06-.94-.94-2.06-.94 2.06-2.06.94zm-11 1L8.5 8.5l.94-2.06 2.06-.94-2.06-.94L8.5 2.5l-.94 2.06-2.06.94zm10 10l.94 2.06.94-2.06 2.06-.94-2.06-.94-.94-2.06-.94 2.06-2.06.94z\"/><path d=\"M17.41 7.96l-1.37-1.37c-.4-.4-.92-.59-1.43-.59-.52 0-1.04.2-1.43.59L10.3 9.45l-7.72 7.72c-.78.78-.78 2.05 0 2.83L4 21.41c.39.39.9.59 1.41.59.51 0 1.02-.2 1.41-.59l7.78-7.78 2.81-2.81c.8-.78.8-2.07 0-2.86zM5.41 20L4 18.59l7.72-7.72 1.47 1.35L5.41 20z\"/>\n",
              "  </svg>\n",
              "      </button>\n",
              "      \n",
              "  <style>\n",
              "    .colab-df-container {\n",
              "      display:flex;\n",
              "      flex-wrap:wrap;\n",
              "      gap: 12px;\n",
              "    }\n",
              "\n",
              "    .colab-df-convert {\n",
              "      background-color: #E8F0FE;\n",
              "      border: none;\n",
              "      border-radius: 50%;\n",
              "      cursor: pointer;\n",
              "      display: none;\n",
              "      fill: #1967D2;\n",
              "      height: 32px;\n",
              "      padding: 0 0 0 0;\n",
              "      width: 32px;\n",
              "    }\n",
              "\n",
              "    .colab-df-convert:hover {\n",
              "      background-color: #E2EBFA;\n",
              "      box-shadow: 0px 1px 2px rgba(60, 64, 67, 0.3), 0px 1px 3px 1px rgba(60, 64, 67, 0.15);\n",
              "      fill: #174EA6;\n",
              "    }\n",
              "\n",
              "    [theme=dark] .colab-df-convert {\n",
              "      background-color: #3B4455;\n",
              "      fill: #D2E3FC;\n",
              "    }\n",
              "\n",
              "    [theme=dark] .colab-df-convert:hover {\n",
              "      background-color: #434B5C;\n",
              "      box-shadow: 0px 1px 3px 1px rgba(0, 0, 0, 0.15);\n",
              "      filter: drop-shadow(0px 1px 2px rgba(0, 0, 0, 0.3));\n",
              "      fill: #FFFFFF;\n",
              "    }\n",
              "  </style>\n",
              "\n",
              "      <script>\n",
              "        const buttonEl =\n",
              "          document.querySelector('#df-ccbcaadb-2125-4d2f-8197-b717de7d44eb button.colab-df-convert');\n",
              "        buttonEl.style.display =\n",
              "          google.colab.kernel.accessAllowed ? 'block' : 'none';\n",
              "\n",
              "        async function convertToInteractive(key) {\n",
              "          const element = document.querySelector('#df-ccbcaadb-2125-4d2f-8197-b717de7d44eb');\n",
              "          const dataTable =\n",
              "            await google.colab.kernel.invokeFunction('convertToInteractive',\n",
              "                                                     [key], {});\n",
              "          if (!dataTable) return;\n",
              "\n",
              "          const docLinkHtml = 'Like what you see? Visit the ' +\n",
              "            '<a target=\"_blank\" href=https://colab.research.google.com/notebooks/data_table.ipynb>data table notebook</a>'\n",
              "            + ' to learn more about interactive tables.';\n",
              "          element.innerHTML = '';\n",
              "          dataTable['output_type'] = 'display_data';\n",
              "          await google.colab.output.renderOutput(dataTable, element);\n",
              "          const docLink = document.createElement('div');\n",
              "          docLink.innerHTML = docLinkHtml;\n",
              "          element.appendChild(docLink);\n",
              "        }\n",
              "      </script>\n",
              "    </div>\n",
              "  </div>\n",
              "  "
            ]
          },
          "metadata": {},
          "execution_count": 10
        }
      ],
      "source": [
        "def technical_indicators(df):\n",
        "  df_close=df['Close']\n",
        "  df_close=pd.DataFrame(df_close, columns=['Close'])\n",
        "  df11=df_close.reset_index()\n",
        "  #RSI\n",
        "  df11['change'] = df11['Close'].diff()\n",
        "  df['change']=df11['change']\n",
        "  df['delta']=(df['change']>0)*1.\n",
        "  def rma(x, n):\n",
        "      \"\"\"Running moving average\"\"\"\n",
        "      a = np.full_like(x, np.nan)\n",
        "      a[n] = x[1:n+1].mean()\n",
        "      for i in range(n+1, len(x)):\n",
        "          a[i] = (a[i-1] * (n - 1) + x[i]) / n\n",
        "      return a\n",
        "\n",
        "  #SMA  #10days\n",
        "  df11['SMA10'] = df11['Close'].rolling(10).mean()\n",
        "\n",
        "  df11.drop(columns=['Close','change','index'], inplace=True)\n",
        "  df_cat=pd.concat([df, df11], axis=1)\n",
        "  df_cat.fillna(method='bfill', axis=0, inplace=True)\n",
        "  df_cat.fillna(method='ffill', axis=0, inplace=True)\n",
        "  return df_cat\n",
        "APPL_price = pd.read_csv(\"AAPL.csv\")\n",
        "APPL=technical_indicators(APPL_price).drop(columns=['Date','Adj Close'])\n",
        "print(APPL.columns)\n",
        "# APPL=APPL.reset_index()\n",
        "APPL"
      ]
    },
    {
      "cell_type": "markdown",
      "source": [
        "### **Standardize**"
      ],
      "metadata": {
        "id": "svYzSCUD-OkG"
      }
    },
    {
      "cell_type": "code",
      "source": [
        "#Normalize time series\n",
        "Scaler = StandardScaler()\n",
        "dataset_standard = Scaler.fit_transform(APPL)\n",
        "dataset=dataset_standard\n",
        "dataset_standard"
      ],
      "metadata": {
        "colab": {
          "base_uri": "https://localhost:8080/"
        },
        "id": "ZVcn_XLs4X9R",
        "outputId": "e85e273a-f1f9-4a36-a328-5d1f0b5a7b78"
      },
      "execution_count": 18,
      "outputs": [
        {
          "output_type": "execute_result",
          "data": {
            "text/plain": [
              "array([[-0.93627478, -0.93569616, -0.93641179, ..., -0.02453614,\n",
              "        -1.0548893 , -0.93705031],\n",
              "       [-0.93542584, -0.93491534, -0.93577291, ..., -0.02453614,\n",
              "         0.94796677, -0.93705031],\n",
              "       [-0.93558547, -0.93517322, -0.93760877, ..., -0.11886667,\n",
              "        -1.0548893 , -0.93705031],\n",
              "       ...,\n",
              "       [ 2.22166273,  2.22575885,  2.25507752, ..., -0.04076366,\n",
              "        -1.0548893 ,  2.27957072],\n",
              "       [ 2.26493684,  2.29154756,  2.30422004, ...,  3.21537522,\n",
              "         0.94796677,  2.28537498],\n",
              "       [ 2.33198118,  2.31742194,  2.35953116, ...,  0.85362156,\n",
              "         0.94796677,  2.29447845]])"
            ]
          },
          "metadata": {},
          "execution_count": 18
        }
      ]
    },
    {
      "cell_type": "code",
      "source": [
        "plt.plot(dataset_standard[:,3]) #plot closing price"
      ],
      "metadata": {
        "colab": {
          "base_uri": "https://localhost:8080/",
          "height": 448
        },
        "id": "JgwOQFt74X_y",
        "outputId": "e261e64b-e170-4473-c449-83a2ec5aac7a"
      },
      "execution_count": 19,
      "outputs": [
        {
          "output_type": "execute_result",
          "data": {
            "text/plain": [
              "[<matplotlib.lines.Line2D at 0x7f6932135270>]"
            ]
          },
          "metadata": {},
          "execution_count": 19
        },
        {
          "output_type": "display_data",
          "data": {
            "text/plain": [
              "<Figure size 640x480 with 1 Axes>"
            ],
            "image/png": "[encoded data removed]"
          },
          "metadata": {}
        }
      ]
    },
    {
      "cell_type": "markdown",
      "source": [
        "### **Train Test Split**"
      ],
      "metadata": {
        "id": "dKIRuE-X-Ua6"
      }
    },
    {
      "cell_type": "code",
      "source": [
        "# dataset=np.array(APPL)\n",
        "dataset=dataset.tolist()*1  #TODO: try to Tune, to repeat stock price make longer dataset\n",
        "len(dataset)\n",
        "a=int(0.8*len(dataset))\n",
        "X_train=dataset[0:a]\n",
        "X_test=dataset[a:]\n",
        "print(len(X_train))\n",
        "len(X_test)\n"
      ],
      "metadata": {
        "colab": {
          "base_uri": "https://localhost:8080/"
        },
        "id": "zjgb711y4YCU",
        "outputId": "0fc52ce9-ee1e-4143-b0ba-24e4efbe156d"
      },
      "execution_count": 20,
      "outputs": [
        {
          "output_type": "stream",
          "name": "stdout",
          "text": [
            "2682\n"
          ]
        },
        {
          "output_type": "execute_result",
          "data": {
            "text/plain": [
              "671"
            ]
          },
          "metadata": {},
          "execution_count": 20
        }
      ]
    },
    {
      "cell_type": "code",
      "source": [
        "# data=dataset[]"
      ],
      "metadata": {
        "id": "FaVXqu1Qr6-i"
      },
      "execution_count": null,
      "outputs": []
    },
    {
      "cell_type": "code",
      "execution_count": 21,
      "metadata": {
        "id": "MBMLGYX-kZcd"
      },
      "outputs": [],
      "source": [
        "#TODO: try to tune this\n",
        "config = {\n",
        "  'batch_size': 64,\n",
        "  'lr':1e-4,\n",
        "  'epochs': 30,\n",
        "}"
      ]
    },
    {
      "cell_type": "markdown",
      "source": [
        "### **Dataset**"
      ],
      "metadata": {
        "id": "PAQgMC_b-Zfq"
      }
    },
    {
      "cell_type": "code",
      "execution_count": 22,
      "metadata": {
        "id": "3gJPgHByLn0l"
      },
      "outputs": [],
      "source": [
        "class TransformerDataset(Dataset):\n",
        "    def __init__(self, data, indices, enc_seq_len, pred_seq_len) :\n",
        "        super().__init__()\n",
        "        self.data = data\n",
        "        self.indices = indices\n",
        "        self.enc_seq_len = enc_seq_len\n",
        "        self.pred_seq_len = pred_seq_len\n",
        "\n",
        "    def __len__(self):\n",
        "        return len(self.indices)\n",
        "\n",
        "    def __getitem__(self, index):\n",
        "        start, end = self.indices[index]\n",
        "\n",
        "        sequence = self.data[start:end]\n",
        "\n",
        "        src = sequence[:self.enc_seq_len]      #0~59 inclusive\n",
        "        tgt = sequence[self.enc_seq_len-self.pred_seq_len+1 : self.enc_seq_len+1]     #56~60 inclusive\n",
        "        true = sequence[self.enc_seq_len+1:]     #61~65 inclusive\n",
        "\n",
        "        return src, tgt, true\n",
        "    "
      ]
    },
    {
      "cell_type": "code",
      "source": [
        "def get_windows(data, window_size, step_size):\n",
        "    start = 0\n",
        "    end = window_size\n",
        "    \n",
        "    indices = []\n",
        "    while end < len(data):      #proceed window by step size, count how many sequences \n",
        "        indices.append( (start, end) )\n",
        "        start += step_size\n",
        "        end += step_size\n",
        "    return indices"
      ],
      "metadata": {
        "id": "Nv70lWYHnUxX"
      },
      "execution_count": 23,
      "outputs": []
    },
    {
      "cell_type": "code",
      "source": [
        "# plt.plot(np.array(X_train)[:,4])"
      ],
      "metadata": {
        "id": "u-JhxF5sLg6p"
      },
      "execution_count": null,
      "outputs": []
    },
    {
      "cell_type": "code",
      "execution_count": 24,
      "metadata": {
        "colab": {
          "base_uri": "https://localhost:8080/",
          "height": 555
        },
        "id": "RqcG5tHjNK58",
        "outputId": "0c77ffae-d84b-4742-caf1-2f033ba9f267"
      },
      "outputs": [
        {
          "output_type": "stream",
          "name": "stdout",
          "text": [
            "torch.Size([128, 30, 8]) torch.Size([128, 7, 8])\n",
            "x:  tensor([-0.7411, -0.7393, -0.7385, -0.7374, -0.7376, -0.7382, -0.7378, -0.7376,\n",
            "        -0.7368, -0.7354, -0.7347, -0.7338, -0.7323, -0.7304, -0.7280, -0.7251,\n",
            "        -0.7223, -0.7193, -0.7168, -0.7144, -0.7131, -0.7113, -0.7100, -0.7092,\n",
            "        -0.7088, -0.7084, -0.7087, -0.7101, -0.7105, -0.7113])\n",
            "tgt:  tensor([-0.7088, -0.7084, -0.7087, -0.7101, -0.7105, -0.7113, -0.7111])\n",
            "y_train:  tensor([-0.7114, -0.7110, -0.7106, -0.7112, -0.7116, -0.7121, -0.7114])\n"
          ]
        },
        {
          "output_type": "display_data",
          "data": {
            "text/plain": [
              "<Figure size 640x480 with 1 Axes>"
            ],
            "image/png": "[encoded data removed]"
          },
          "metadata": {}
        }
      ],
      "source": [
        "# Dataset Dataloader:\n",
        "#TODO: tune context_len and pred_len\n",
        "context_len=30\n",
        "pred_len=7\n",
        "window_size=context_len+pred_len+1\n",
        "training_indices = get_windows(X_train, window_size, step_size=3) #TODO: Tune step size... \n",
        "val_indices = get_windows(X_test, window_size, step_size=1) #TODO: Tune step size... \n",
        "test_indices = get_windows(dataset, window_size, step_size=1) \n",
        "\n",
        "# print(training_indices)\n",
        "train_data=TransformerDataset(torch.FloatTensor(X_train), training_indices, context_len, pred_len) \n",
        "val_data=TransformerDataset(torch.FloatTensor(X_test), val_indices, context_len, pred_len) \n",
        "test_data=TransformerDataset(torch.FloatTensor(dataset), test_indices, context_len, pred_len) \n",
        "\n",
        "train_loader = torch.utils.data.DataLoader(\n",
        "    dataset     = train_data, \n",
        "    batch_size  = 128,\n",
        "    shuffle=True\n",
        ")\n",
        "val_loader = torch.utils.data.DataLoader(\n",
        "    dataset     = val_data, \n",
        "    batch_size  = 24,\n",
        "    drop_last=True\n",
        ")\n",
        "test_loader = torch.utils.data.DataLoader(\n",
        "    dataset     = test_data, \n",
        "    batch_size  = 1,\n",
        "    pin_memory  = False\n",
        ")\n",
        "\n",
        "for batch in train_loader: \n",
        "    src, tgt, y_train=batch\n",
        "    print(src.shape, tgt.shape)\n",
        "    print(\"x: \", src[0,:,-1])   #60 days context  \n",
        "    print(\"tgt: \", tgt[0,:,-1]) #should be next five days \n",
        "    print(\"y_train: \", y_train[0,:,-1])  #True label should shift by one to right\n",
        "    plt.plot(src[0,:,3])\n",
        "    plt.plot(src[1,:,3])\n",
        "    plt.plot(src[2,:,3]) #\n",
        "    break"
      ]
    },
    {
      "cell_type": "markdown",
      "source": [
        "### **Positional Encoding and Transformer**"
      ],
      "metadata": {
        "id": "WmGqRuHu-ffF"
      }
    },
    {
      "cell_type": "code",
      "source": [
        "class PositionalEncoder(nn.Module):\n",
        "    def __init__(self,  max_seq_len = 5000, d_model = 512, dropout= 0.1,):\n",
        "        super().__init__()\n",
        "        self.dropout = nn.Dropout(dropout)\n",
        "        time = torch.arange(0, max_seq_len).unsqueeze(1)\n",
        "        self.positional_encoding = torch.zeros(1,max_seq_len, d_model).to(DEVICE)\n",
        "        xx= (torch.arange(0,max_seq_len).reshape(-1, 1).to(DEVICE)) / torch.pow(10000, torch.arange(0, d_model, 2)/d_model).to(DEVICE)\n",
        "        self.positional_encoding[:, :, 0::2] = torch.sin(xx)\n",
        "        self.positional_encoding[:, :, 1::2] = torch.cos(xx)\n",
        "\n",
        "        self.register_buffer('pe', self.positional_encoding)\n",
        "\n",
        "    def forward(self, x) :\n",
        "        x = x + self.positional_encoding[:,:x.shape[1]]\n",
        "        x=self.dropout(x)\n",
        "        return x\n"
      ],
      "metadata": {
        "id": "pD45S1-QC7yO"
      },
      "execution_count": 25,
      "outputs": []
    },
    {
      "cell_type": "code",
      "execution_count": 39,
      "metadata": {
        "id": "771TXxn7ViOW"
      },
      "outputs": [],
      "source": [
        "class Transformer(nn.Module):\n",
        "    def __init__(self, input_dim=8, output_dim=1, d_model=512, nhead=8, num_encoder_layers=6, num_decoder_layers=6, dim_feedforward=2048, dropout=0.1,encode_seq_len=60,pred_seq_len=10):\n",
        "        super(Transformer, self).__init__()\n",
        "        self.nhead=nhead\n",
        "        self.d_model=d_model\n",
        "        self.encode_seq_len=encode_seq_len\n",
        "        self.embedding = nn.Linear(input_dim, d_model) \n",
        "        \n",
        "        encoder_layer = nn.TransformerEncoderLayer(d_model=d_model, nhead=nhead, dim_feedforward=dim_feedforward, dropout=dropout, batch_first=True)\n",
        "        self.encoder = nn.TransformerEncoder(encoder_layer, num_layers=num_encoder_layers)\n",
        "\n",
        "        decoder_layer = nn.TransformerDecoderLayer(d_model=d_model, nhead=nhead, dim_feedforward=dim_feedforward, dropout=dropout, batch_first=True)\n",
        "        self.decoder = nn.TransformerDecoder(decoder_layer, num_layers=num_decoder_layers)\n",
        "        self.pred_seq_len=pred_seq_len\n",
        "        self.linear_out = nn.Linear(d_model, 1)\n",
        "        self.positional_encoding_layer = PositionalEncoder(encode_seq_len, d_model, dropout  )\n",
        "\n",
        "    def forward(self, x, query, src_mask=None, tgt_mask=None):\n",
        "        # print(\"in,\",x.shape) #32 10 29, batch len feature\n",
        "        batch_size, seq_len, feature=x.shape\n",
        "\n",
        "        # #encode x\n",
        "        x = self.embedding(x) \n",
        "        x = self.positional_encoding_layer(x)\n",
        "\n",
        "        #encode query\n",
        "        query=self.embedding(query) \n",
        "\n",
        "        encoder_out = self.encoder(x)\n",
        "        decoder_out = self.decoder(query, encoder_out,tgt_mask=tgt_mask, memory_mask=src_mask )\n",
        "        # print(\"asdasdasdasdasd\",decoder_out.shape)\n",
        "\n",
        "        # attn_weights = self.decoder.layers[-1].multihead_attn.attn_output_weights\n",
        "\n",
        "        decoder_out = self.linear_out(decoder_out)\n",
        "        \n",
        "        return decoder_out\n"
      ]
    },
    {
      "cell_type": "code",
      "source": [
        "gc.collect()\n",
        "torch.cuda.empty_cache()"
      ],
      "metadata": {
        "id": "pCh0X5XcjGc0"
      },
      "execution_count": 40,
      "outputs": []
    },
    {
      "cell_type": "markdown",
      "source": [
        "### **Define Model**"
      ],
      "metadata": {
        "id": "E8Y_tYVJ_I-9"
      }
    },
    {
      "cell_type": "code",
      "execution_count": 85,
      "metadata": {
        "colab": {
          "base_uri": "https://localhost:8080/"
        },
        "id": "w9Y5XE_0vKIf",
        "outputId": "f3202c5f-33b8-468f-de4b-e8910fa26c81"
      },
      "outputs": [
        {
          "output_type": "stream",
          "name": "stdout",
          "text": [
            "x shape: torch.Size([128, 30, 8]) y shape: torch.Size([128, 7, 8])\n",
            "out shape: torch.Size([128, 7, 1])\n",
            "=============================================================================================\n",
            "                                            Kernel Shape    Output Shape  \\\n",
            "Layer                                                                      \n",
            "0_embedding                                     [8, 512]  [128, 30, 512]   \n",
            "1_positional_encoding_layer.Dropout_dropout            -  [128, 30, 512]   \n",
            "2_embedding                                     [8, 512]   [128, 7, 512]   \n",
            "3_encoder.layers.0.Dropout_dropout1                    -  [128, 30, 512]   \n",
            "4_encoder.layers.0.LayerNorm_norm1                 [512]  [128, 30, 512]   \n",
            "5_encoder.layers.0.Linear_linear1             [512, 256]  [128, 30, 256]   \n",
            "6_encoder.layers.0.Dropout_dropout                     -  [128, 30, 256]   \n",
            "7_encoder.layers.0.Linear_linear2             [256, 512]  [128, 30, 512]   \n",
            "8_encoder.layers.0.Dropout_dropout2                    -  [128, 30, 512]   \n",
            "9_encoder.layers.0.LayerNorm_norm2                 [512]  [128, 30, 512]   \n",
            "10_encoder.layers.1.Dropout_dropout1                   -  [128, 30, 512]   \n",
            "11_encoder.layers.1.LayerNorm_norm1                [512]  [128, 30, 512]   \n",
            "12_encoder.layers.1.Linear_linear1            [512, 256]  [128, 30, 256]   \n",
            "13_encoder.layers.1.Dropout_dropout                    -  [128, 30, 256]   \n",
            "14_encoder.layers.1.Linear_linear2            [256, 512]  [128, 30, 512]   \n",
            "15_encoder.layers.1.Dropout_dropout2                   -  [128, 30, 512]   \n",
            "16_encoder.layers.1.LayerNorm_norm2                [512]  [128, 30, 512]   \n",
            "17_encoder.layers.2.Dropout_dropout1                   -  [128, 30, 512]   \n",
            "18_encoder.layers.2.LayerNorm_norm1                [512]  [128, 30, 512]   \n",
            "19_encoder.layers.2.Linear_linear1            [512, 256]  [128, 30, 256]   \n",
            "20_encoder.layers.2.Dropout_dropout                    -  [128, 30, 256]   \n",
            "21_encoder.layers.2.Linear_linear2            [256, 512]  [128, 30, 512]   \n",
            "22_encoder.layers.2.Dropout_dropout2                   -  [128, 30, 512]   \n",
            "23_encoder.layers.2.LayerNorm_norm2                [512]  [128, 30, 512]   \n",
            "24_encoder.layers.3.Dropout_dropout1                   -  [128, 30, 512]   \n",
            "25_encoder.layers.3.LayerNorm_norm1                [512]  [128, 30, 512]   \n",
            "26_encoder.layers.3.Linear_linear1            [512, 256]  [128, 30, 256]   \n",
            "27_encoder.layers.3.Dropout_dropout                    -  [128, 30, 256]   \n",
            "28_encoder.layers.3.Linear_linear2            [256, 512]  [128, 30, 512]   \n",
            "29_encoder.layers.3.Dropout_dropout2                   -  [128, 30, 512]   \n",
            "30_encoder.layers.3.LayerNorm_norm2                [512]  [128, 30, 512]   \n",
            "31_decoder.layers.0.Dropout_dropout1                   -   [128, 7, 512]   \n",
            "32_decoder.layers.0.LayerNorm_norm1                [512]   [128, 7, 512]   \n",
            "33_decoder.layers.0.Dropout_dropout2                   -   [128, 7, 512]   \n",
            "34_decoder.layers.0.LayerNorm_norm2                [512]   [128, 7, 512]   \n",
            "35_decoder.layers.0.Linear_linear1            [512, 256]   [128, 7, 256]   \n",
            "36_decoder.layers.0.Dropout_dropout                    -   [128, 7, 256]   \n",
            "37_decoder.layers.0.Linear_linear2            [256, 512]   [128, 7, 512]   \n",
            "38_decoder.layers.0.Dropout_dropout3                   -   [128, 7, 512]   \n",
            "39_decoder.layers.0.LayerNorm_norm3                [512]   [128, 7, 512]   \n",
            "40_decoder.layers.1.Dropout_dropout1                   -   [128, 7, 512]   \n",
            "41_decoder.layers.1.LayerNorm_norm1                [512]   [128, 7, 512]   \n",
            "42_decoder.layers.1.Dropout_dropout2                   -   [128, 7, 512]   \n",
            "43_decoder.layers.1.LayerNorm_norm2                [512]   [128, 7, 512]   \n",
            "44_decoder.layers.1.Linear_linear1            [512, 256]   [128, 7, 256]   \n",
            "45_decoder.layers.1.Dropout_dropout                    -   [128, 7, 256]   \n",
            "46_decoder.layers.1.Linear_linear2            [256, 512]   [128, 7, 512]   \n",
            "47_decoder.layers.1.Dropout_dropout3                   -   [128, 7, 512]   \n",
            "48_decoder.layers.1.LayerNorm_norm3                [512]   [128, 7, 512]   \n",
            "49_decoder.layers.2.Dropout_dropout1                   -   [128, 7, 512]   \n",
            "50_decoder.layers.2.LayerNorm_norm1                [512]   [128, 7, 512]   \n",
            "51_decoder.layers.2.Dropout_dropout2                   -   [128, 7, 512]   \n",
            "52_decoder.layers.2.LayerNorm_norm2                [512]   [128, 7, 512]   \n",
            "53_decoder.layers.2.Linear_linear1            [512, 256]   [128, 7, 256]   \n",
            "54_decoder.layers.2.Dropout_dropout                    -   [128, 7, 256]   \n",
            "55_decoder.layers.2.Linear_linear2            [256, 512]   [128, 7, 512]   \n",
            "56_decoder.layers.2.Dropout_dropout3                   -   [128, 7, 512]   \n",
            "57_decoder.layers.2.LayerNorm_norm3                [512]   [128, 7, 512]   \n",
            "58_decoder.layers.3.Dropout_dropout1                   -   [128, 7, 512]   \n",
            "59_decoder.layers.3.LayerNorm_norm1                [512]   [128, 7, 512]   \n",
            "60_decoder.layers.3.Dropout_dropout2                   -   [128, 7, 512]   \n",
            "61_decoder.layers.3.LayerNorm_norm2                [512]   [128, 7, 512]   \n",
            "62_decoder.layers.3.Linear_linear1            [512, 256]   [128, 7, 256]   \n",
            "63_decoder.layers.3.Dropout_dropout                    -   [128, 7, 256]   \n",
            "64_decoder.layers.3.Linear_linear2            [256, 512]   [128, 7, 512]   \n",
            "65_decoder.layers.3.Dropout_dropout3                   -   [128, 7, 512]   \n",
            "66_decoder.layers.3.LayerNorm_norm3                [512]   [128, 7, 512]   \n",
            "67_linear_out                                   [512, 1]     [128, 7, 1]   \n",
            "\n",
            "                                               Params Mult-Adds  \n",
            "Layer                                                            \n",
            "0_embedding                                    4.608k    4.096k  \n",
            "1_positional_encoding_layer.Dropout_dropout         -         -  \n",
            "2_embedding                                         -    4.096k  \n",
            "3_encoder.layers.0.Dropout_dropout1                 -         -  \n",
            "4_encoder.layers.0.LayerNorm_norm1             1.024k     512.0  \n",
            "5_encoder.layers.0.Linear_linear1            131.328k  131.072k  \n",
            "6_encoder.layers.0.Dropout_dropout                  -         -  \n",
            "7_encoder.layers.0.Linear_linear2            131.584k  131.072k  \n",
            "8_encoder.layers.0.Dropout_dropout2                 -         -  \n",
            "9_encoder.layers.0.LayerNorm_norm2             1.024k     512.0  \n",
            "10_encoder.layers.1.Dropout_dropout1                -         -  \n",
            "11_encoder.layers.1.LayerNorm_norm1            1.024k     512.0  \n",
            "12_encoder.layers.1.Linear_linear1           131.328k  131.072k  \n",
            "13_encoder.layers.1.Dropout_dropout                 -         -  \n",
            "14_encoder.layers.1.Linear_linear2           131.584k  131.072k  \n",
            "15_encoder.layers.1.Dropout_dropout2                -         -  \n",
            "16_encoder.layers.1.LayerNorm_norm2            1.024k     512.0  \n",
            "17_encoder.layers.2.Dropout_dropout1                -         -  \n",
            "18_encoder.layers.2.LayerNorm_norm1            1.024k     512.0  \n",
            "19_encoder.layers.2.Linear_linear1           131.328k  131.072k  \n",
            "20_encoder.layers.2.Dropout_dropout                 -         -  \n",
            "21_encoder.layers.2.Linear_linear2           131.584k  131.072k  \n",
            "22_encoder.layers.2.Dropout_dropout2                -         -  \n",
            "23_encoder.layers.2.LayerNorm_norm2            1.024k     512.0  \n",
            "24_encoder.layers.3.Dropout_dropout1                -         -  \n",
            "25_encoder.layers.3.LayerNorm_norm1            1.024k     512.0  \n",
            "26_encoder.layers.3.Linear_linear1           131.328k  131.072k  \n",
            "27_encoder.layers.3.Dropout_dropout                 -         -  \n",
            "28_encoder.layers.3.Linear_linear2           131.584k  131.072k  \n",
            "29_encoder.layers.3.Dropout_dropout2                -         -  \n",
            "30_encoder.layers.3.LayerNorm_norm2            1.024k     512.0  \n",
            "31_decoder.layers.0.Dropout_dropout1                -         -  \n",
            "32_decoder.layers.0.LayerNorm_norm1            1.024k     512.0  \n",
            "33_decoder.layers.0.Dropout_dropout2                -         -  \n",
            "34_decoder.layers.0.LayerNorm_norm2            1.024k     512.0  \n",
            "35_decoder.layers.0.Linear_linear1           131.328k  131.072k  \n",
            "36_decoder.layers.0.Dropout_dropout                 -         -  \n",
            "37_decoder.layers.0.Linear_linear2           131.584k  131.072k  \n",
            "38_decoder.layers.0.Dropout_dropout3                -         -  \n",
            "39_decoder.layers.0.LayerNorm_norm3            1.024k     512.0  \n",
            "40_decoder.layers.1.Dropout_dropout1                -         -  \n",
            "41_decoder.layers.1.LayerNorm_norm1            1.024k     512.0  \n",
            "42_decoder.layers.1.Dropout_dropout2                -         -  \n",
            "43_decoder.layers.1.LayerNorm_norm2            1.024k     512.0  \n",
            "44_decoder.layers.1.Linear_linear1           131.328k  131.072k  \n",
            "45_decoder.layers.1.Dropout_dropout                 -         -  \n",
            "46_decoder.layers.1.Linear_linear2           131.584k  131.072k  \n",
            "47_decoder.layers.1.Dropout_dropout3                -         -  \n",
            "48_decoder.layers.1.LayerNorm_norm3            1.024k     512.0  \n",
            "49_decoder.layers.2.Dropout_dropout1                -         -  \n",
            "50_decoder.layers.2.LayerNorm_norm1            1.024k     512.0  \n",
            "51_decoder.layers.2.Dropout_dropout2                -         -  \n",
            "52_decoder.layers.2.LayerNorm_norm2            1.024k     512.0  \n",
            "53_decoder.layers.2.Linear_linear1           131.328k  131.072k  \n",
            "54_decoder.layers.2.Dropout_dropout                 -         -  \n",
            "55_decoder.layers.2.Linear_linear2           131.584k  131.072k  \n",
            "56_decoder.layers.2.Dropout_dropout3                -         -  \n",
            "57_decoder.layers.2.LayerNorm_norm3            1.024k     512.0  \n",
            "58_decoder.layers.3.Dropout_dropout1                -         -  \n",
            "59_decoder.layers.3.LayerNorm_norm1            1.024k     512.0  \n",
            "60_decoder.layers.3.Dropout_dropout2                -         -  \n",
            "61_decoder.layers.3.LayerNorm_norm2            1.024k     512.0  \n",
            "62_decoder.layers.3.Linear_linear1           131.328k  131.072k  \n",
            "63_decoder.layers.3.Dropout_dropout                 -         -  \n",
            "64_decoder.layers.3.Linear_linear2           131.584k  131.072k  \n",
            "65_decoder.layers.3.Dropout_dropout3                -         -  \n",
            "66_decoder.layers.3.LayerNorm_norm3            1.024k     512.0  \n",
            "67_linear_out                                   513.0     512.0  \n",
            "---------------------------------------------------------------------------------------------\n",
            "                         Totals\n",
            "Total params          2.128897M\n",
            "Trainable params      2.128897M\n",
            "Non-trainable params        0.0\n",
            "Mult-Adds             2.116096M\n",
            "=============================================================================================\n",
            "context len: 30 pred_len: 7\n"
          ]
        }
      ],
      "source": [
        "#TODO: tune model parameters\n",
        "model=Transformer(input_dim=8, output_dim=1, d_model=512, nhead=4, \n",
        "                  num_encoder_layers=4, num_decoder_layers=4, dim_feedforward=256, \n",
        "                  dropout=0.3, encode_seq_len=context_len, pred_seq_len=pred_len).to(device)\n",
        "# print(x.size)\n",
        "for x, y,z in train_loader: \n",
        "    x=torch.FloatTensor(x).to(device)\n",
        "    y=torch.FloatTensor(y).to(device)\n",
        "    out=model(x,y)\n",
        "    print(\"x shape:\", x.shape, \"y shape:\", y.shape)\n",
        "    print(\"out shape:\", out.shape)\n",
        "    summary(model, x, y)\n",
        "    break\n",
        "print(\"context len:\",model.encode_seq_len,\"pred_len:\", model.pred_seq_len)"
      ]
    },
    {
      "cell_type": "markdown",
      "metadata": {
        "id": "bPZD3vqdUisj"
      },
      "source": [
        "# Model Setup "
      ]
    },
    {
      "cell_type": "markdown",
      "metadata": {
        "id": "23DMfXsaU6kj"
      },
      "source": [
        "# Loss Function, Optimizers, Scheduler"
      ]
    },
    {
      "cell_type": "code",
      "execution_count": 42,
      "metadata": {
        "id": "216ukmHbU-ol"
      },
      "outputs": [],
      "source": [
        "optimizer   = torch.optim.Adam(model.parameters(), lr= config['lr'])\n",
        "criterion   = torch.nn.SmoothL1Loss() \n",
        "scaler      = torch.cuda.amp.GradScaler()\n",
        "\n",
        "# Optional (but Recommended): Create a custom class for a Teacher Force Schedule"
      ]
    },
    {
      "cell_type": "markdown",
      "metadata": {
        "id": "Pu4MrSMUUIyp"
      },
      "source": [
        "# Train and Validation functions \n"
      ]
    },
    {
      "cell_type": "code",
      "execution_count": 43,
      "metadata": {
        "id": "sKOdI0J5Tpem"
      },
      "outputs": [],
      "source": [
        "class Trainer():\n",
        "  def __init__(self, model, loader, optimizer, criterion, scheduler, val_loader):\n",
        "    self.model      = model\n",
        "    self.loader     = loader\n",
        "    self.optimizer  = optimizer\n",
        "    self.criterion  = criterion\n",
        "    self.train_plot=[]\n",
        "    self.teacher=True\n",
        "    self.val_loader=val_loader\n",
        "    \n",
        "  def train(self, teacher_forcing_rate):\n",
        "      self.model.train() # set to training mode\n",
        "      self.model.to(device)\n",
        "\n",
        "      batch_bar = tqdm(total=len(self.loader), dynamic_ncols=True, leave=False, position=0, desc='Train')\n",
        "      running_loss        = 0.0\n",
        "\n",
        "      for i, batch in enumerate(self.loader):\n",
        "          self.optimizer.zero_grad()\n",
        "\n",
        "          src, trg, y_train = batch\n",
        "\n",
        "          src = src.to(device)\n",
        "          trg = trg.to(device)\n",
        "          y_train = y_train.to(device)\n",
        "\n",
        "          batch_size = src.shape[0]\n",
        "\n",
        "          tgt_mask = torch.triu(torch.ones( batch_size*self.model.nhead, pred_len, pred_len) * float('-inf'), diagonal=1).to(device)\n",
        "          y_pred = self.model(src, trg, src_mask=None, tgt_mask=tgt_mask).reshape(-1,1)\n",
        "\n",
        "          #0,'Time',1,'Open',2,'High',3,'Low',4,'Close',5,'Volume',6,'change',7,'delta',8,'Moving Average'\n",
        "          pred_what=3\n",
        "          loss = criterion(y_pred, y_train[:,:,pred_what].reshape(-1,1))    #TODO: try changing 8 to others, if want the model to learn other columns\n",
        "          \n",
        "          loss.backward()\n",
        "          torch.nn.utils.clip_grad_norm_(self.model.parameters(), 1e+6)\n",
        "          optimizer.step()\n",
        "          \n",
        "          self.train_plot.append(loss.item())\n",
        "          running_loss += loss.item()\n",
        "          \n",
        "          batch_bar.set_postfix(\n",
        "              loss=\"{:.04f}\".format(running_loss/(i+1)),\n",
        "              lr=\"{:.04f}\".format(float(self.optimizer.param_groups[0]['lr'])),\n",
        "              # teacher_time=\"{:.04f}\".format(teach/10)\n",
        "               )\n",
        "          batch_bar.update()\n",
        "\n",
        "          del src, trg, y_train\n",
        "          torch.cuda.empty_cache()\n",
        "\n",
        "      batch_bar.close()\n",
        "\n",
        "      return running_loss/len(self.loader)\n",
        "\n",
        "  def validate(self):\n",
        "      self.model.eval() # set to training mode\n",
        "      self.model.to(device)\n",
        "\n",
        "      batch_bar = tqdm(total=len(self.loader), dynamic_ncols=True, leave=False, position=0, desc='Train')\n",
        "      running_loss        = 0.0\n",
        "\n",
        "      for i, batch in enumerate(self.val_loader):\n",
        "          self.optimizer.zero_grad()\n",
        "\n",
        "          src, trg, y_test = batch\n",
        "\n",
        "          src = src.to(device)\n",
        "          trg = trg.to(device)\n",
        "          y_test = y_test.to(device)\n",
        "\n",
        "          batch_size = src.shape[0]\n",
        "\n",
        "          tgt_mask = torch.triu(torch.ones( batch_size*self.model.nhead, pred_len, pred_len) * float('-inf'), diagonal=1).to(device)\n",
        "\n",
        "          y_pred = self.model(src, trg, src_mask=None, tgt_mask=tgt_mask).reshape(-1,1)\n",
        "\n",
        "          #0,'Time',1,'Open',2,'High',3,'Low',4,'Close',5,'Volume',6,'change',7,'delta',8,'Moving Average'\n",
        "          pred_what=3\n",
        "          # print(y_pred[:,1].shape,y_test[:,1,pred_what].shape)\n",
        "          val_loss = criterion(y_pred[:,0], y_test[:,0,pred_what].reshape(-1,1))    #TODO: try changing 8 to others, if want the model to learn other columns\n",
        "\n",
        "          running_loss += val_loss.item()\n",
        "          \n",
        "          batch_bar.set_postfix(\n",
        "              loss=\"{:.04f}\".format(running_loss/(i+1))\n",
        "               )\n",
        "          batch_bar.update()\n",
        "\n",
        "          del src, trg, y_test\n",
        "          torch.cuda.empty_cache()\n",
        "\n",
        "      batch_bar.close()\n",
        "\n",
        "      return running_loss/len(self.loader)\n",
        "\n",
        "  def test(self, test_loader):\n",
        "        self.model.eval() # set to training mode\n",
        "        self.model.to(device)\n",
        "        batch_bar = tqdm(total=len(test_loader), dynamic_ncols=True, leave=False, position=0, desc='Train')\n",
        "        prediction=[]\n",
        "        for i, batch in enumerate(test_loader):\n",
        "            self.optimizer.zero_grad()\n",
        "\n",
        "            src, trg, y_test = batch\n",
        "\n",
        "            src = src.to(device)\n",
        "            trg = trg.to(device)\n",
        "\n",
        "            batch_size = src.shape[0]\n",
        "\n",
        "            tgt_mask = torch.triu(torch.ones( batch_size*self.model.nhead, pred_len, pred_len) * float('-inf'), diagonal=1).to(device)\n",
        "\n",
        "            y_pred = self.model(src, trg, src_mask=None, tgt_mask=tgt_mask)\n",
        "            prediction.append(y_pred[0])\n",
        "\n",
        "            #0,'Time',1,'Open',2,'High',3,'Low',4,'Close',5,'Volume',6,'change',7,'delta',8,'Moving Average'\n",
        "            del src, trg, y_test\n",
        "            torch.cuda.empty_cache()\n",
        "            batch_bar.update()\n",
        "\n",
        "        batch_bar.close()\n",
        "\n",
        "        return prediction"
      ]
    },
    {
      "cell_type": "code",
      "execution_count": 44,
      "metadata": {
        "id": "2RubmNuG6Yzd"
      },
      "outputs": [],
      "source": [
        "gc.collect()\n",
        "torch.cuda.empty_cache()"
      ]
    },
    {
      "cell_type": "code",
      "source": [
        "scheduler   = torch.optim.lr_scheduler.StepLR(optimizer, step_size=1, gamma=0.995)\n",
        "trainer=Trainer(model, train_loader, optimizer, criterion,  scheduler, val_loader=val_loader)"
      ],
      "metadata": {
        "id": "pdBl0JwgZDrE"
      },
      "execution_count": 45,
      "outputs": []
    },
    {
      "cell_type": "code",
      "execution_count": 46,
      "metadata": {
        "colab": {
          "base_uri": "https://localhost:8080/",
          "height": 1000
        },
        "id": "eDWGFIcjddz-",
        "outputId": "7c5ce97c-96f6-4c6c-9c44-8d79b73660b0"
      },
      "outputs": [
        {
          "output_type": "stream",
          "name": "stdout",
          "text": [
            "\n",
            "Epoch: 1/100\n"
          ]
        },
        {
          "output_type": "stream",
          "name": "stderr",
          "text": []
        },
        {
          "output_type": "stream",
          "name": "stdout",
          "text": [
            "\tTrain Loss 0.6438\t Learning Rate 0.0001000\t Validation Loss 0.4549\n",
            "\n",
            "Epoch: 2/100\n"
          ]
        },
        {
          "output_type": "stream",
          "name": "stderr",
          "text": []
        },
        {
          "output_type": "stream",
          "name": "stdout",
          "text": [
            "\tTrain Loss 0.1325\t Learning Rate 0.0000995\t Validation Loss 0.1885\n",
            "\n",
            "Epoch: 3/100\n"
          ]
        },
        {
          "output_type": "stream",
          "name": "stderr",
          "text": []
        },
        {
          "output_type": "stream",
          "name": "stdout",
          "text": [
            "\tTrain Loss 0.0757\t Learning Rate 0.0000990\t Validation Loss 0.1293\n",
            "\n",
            "Epoch: 4/100\n"
          ]
        },
        {
          "output_type": "stream",
          "name": "stderr",
          "text": []
        },
        {
          "output_type": "stream",
          "name": "stdout",
          "text": [
            "\tTrain Loss 0.0500\t Learning Rate 0.0000985\t Validation Loss 0.1343\n",
            "\n",
            "Epoch: 5/100\n"
          ]
        },
        {
          "output_type": "stream",
          "name": "stderr",
          "text": []
        },
        {
          "output_type": "stream",
          "name": "stdout",
          "text": [
            "\tTrain Loss 0.0355\t Learning Rate 0.0000980\t Validation Loss 0.1532\n",
            "\n",
            "Epoch: 6/100\n"
          ]
        },
        {
          "output_type": "stream",
          "name": "stderr",
          "text": []
        },
        {
          "output_type": "stream",
          "name": "stdout",
          "text": [
            "\tTrain Loss 0.0296\t Learning Rate 0.0000975\t Validation Loss 0.1436\n",
            "\n",
            "Epoch: 7/100\n"
          ]
        },
        {
          "output_type": "stream",
          "name": "stderr",
          "text": []
        },
        {
          "output_type": "stream",
          "name": "stdout",
          "text": [
            "\tTrain Loss 0.0255\t Learning Rate 0.0000970\t Validation Loss 0.1904\n",
            "\n",
            "Epoch: 8/100\n"
          ]
        },
        {
          "output_type": "stream",
          "name": "stderr",
          "text": []
        },
        {
          "output_type": "stream",
          "name": "stdout",
          "text": [
            "\tTrain Loss 0.0229\t Learning Rate 0.0000966\t Validation Loss 0.1660\n",
            "\n",
            "Epoch: 9/100\n"
          ]
        },
        {
          "output_type": "stream",
          "name": "stderr",
          "text": []
        },
        {
          "output_type": "stream",
          "name": "stdout",
          "text": [
            "\tTrain Loss 0.0228\t Learning Rate 0.0000961\t Validation Loss 0.2168\n",
            "\n",
            "Epoch: 10/100\n"
          ]
        },
        {
          "output_type": "stream",
          "name": "stderr",
          "text": []
        },
        {
          "output_type": "stream",
          "name": "stdout",
          "text": [
            "\tTrain Loss 0.0208\t Learning Rate 0.0000956\t Validation Loss 0.2077\n",
            "\n",
            "Epoch: 11/100\n"
          ]
        },
        {
          "output_type": "stream",
          "name": "stderr",
          "text": []
        },
        {
          "output_type": "stream",
          "name": "stdout",
          "text": [
            "\tTrain Loss 0.0214\t Learning Rate 0.0000951\t Validation Loss 0.2006\n",
            "\n",
            "Epoch: 12/100\n"
          ]
        },
        {
          "output_type": "stream",
          "name": "stderr",
          "text": []
        },
        {
          "output_type": "stream",
          "name": "stdout",
          "text": [
            "\tTrain Loss 0.0194\t Learning Rate 0.0000946\t Validation Loss 0.1836\n",
            "\n",
            "Epoch: 13/100\n"
          ]
        },
        {
          "output_type": "stream",
          "name": "stderr",
          "text": []
        },
        {
          "output_type": "stream",
          "name": "stdout",
          "text": [
            "\tTrain Loss 0.0185\t Learning Rate 0.0000942\t Validation Loss 0.1799\n",
            "\n",
            "Epoch: 14/100\n"
          ]
        },
        {
          "output_type": "stream",
          "name": "stderr",
          "text": []
        },
        {
          "output_type": "stream",
          "name": "stdout",
          "text": [
            "\tTrain Loss 0.0180\t Learning Rate 0.0000937\t Validation Loss 0.2078\n",
            "\n",
            "Epoch: 15/100\n"
          ]
        },
        {
          "output_type": "stream",
          "name": "stderr",
          "text": []
        },
        {
          "output_type": "stream",
          "name": "stdout",
          "text": [
            "\tTrain Loss 0.0180\t Learning Rate 0.0000932\t Validation Loss 0.1878\n",
            "\n",
            "Epoch: 16/100\n"
          ]
        },
        {
          "output_type": "stream",
          "name": "stderr",
          "text": []
        },
        {
          "output_type": "stream",
          "name": "stdout",
          "text": [
            "\tTrain Loss 0.0168\t Learning Rate 0.0000928\t Validation Loss 0.1665\n",
            "\n",
            "Epoch: 17/100\n"
          ]
        },
        {
          "output_type": "stream",
          "name": "stderr",
          "text": []
        },
        {
          "output_type": "stream",
          "name": "stdout",
          "text": [
            "\tTrain Loss 0.0157\t Learning Rate 0.0000923\t Validation Loss 0.1680\n",
            "\n",
            "Epoch: 18/100\n"
          ]
        },
        {
          "output_type": "stream",
          "name": "stderr",
          "text": []
        },
        {
          "output_type": "stream",
          "name": "stdout",
          "text": [
            "\tTrain Loss 0.0157\t Learning Rate 0.0000918\t Validation Loss 0.1473\n",
            "\n",
            "Epoch: 19/100\n"
          ]
        },
        {
          "output_type": "stream",
          "name": "stderr",
          "text": []
        },
        {
          "output_type": "stream",
          "name": "stdout",
          "text": [
            "\tTrain Loss 0.0152\t Learning Rate 0.0000914\t Validation Loss 0.1462\n",
            "\n",
            "Epoch: 20/100\n"
          ]
        },
        {
          "output_type": "stream",
          "name": "stderr",
          "text": []
        },
        {
          "output_type": "stream",
          "name": "stdout",
          "text": [
            "\tTrain Loss 0.0150\t Learning Rate 0.0000909\t Validation Loss 0.1313\n",
            "\n",
            "Epoch: 21/100\n"
          ]
        },
        {
          "output_type": "stream",
          "name": "stderr",
          "text": []
        },
        {
          "output_type": "stream",
          "name": "stdout",
          "text": [
            "\tTrain Loss 0.0140\t Learning Rate 0.0000905\t Validation Loss 0.1595\n",
            "\n",
            "Epoch: 22/100\n"
          ]
        },
        {
          "output_type": "stream",
          "name": "stderr",
          "text": []
        },
        {
          "output_type": "stream",
          "name": "stdout",
          "text": [
            "\tTrain Loss 0.0137\t Learning Rate 0.0000900\t Validation Loss 0.1433\n",
            "\n",
            "Epoch: 23/100\n"
          ]
        },
        {
          "output_type": "stream",
          "name": "stderr",
          "text": []
        },
        {
          "output_type": "stream",
          "name": "stdout",
          "text": [
            "\tTrain Loss 0.0130\t Learning Rate 0.0000896\t Validation Loss 0.1397\n",
            "\n",
            "Epoch: 24/100\n"
          ]
        },
        {
          "output_type": "stream",
          "name": "stderr",
          "text": []
        },
        {
          "output_type": "stream",
          "name": "stdout",
          "text": [
            "\tTrain Loss 0.0122\t Learning Rate 0.0000891\t Validation Loss 0.0970\n",
            "\n",
            "Epoch: 25/100\n"
          ]
        },
        {
          "output_type": "stream",
          "name": "stderr",
          "text": []
        },
        {
          "output_type": "stream",
          "name": "stdout",
          "text": [
            "\tTrain Loss 0.0125\t Learning Rate 0.0000887\t Validation Loss 0.1244\n",
            "\n",
            "Epoch: 26/100\n"
          ]
        },
        {
          "output_type": "stream",
          "name": "stderr",
          "text": []
        },
        {
          "output_type": "stream",
          "name": "stdout",
          "text": [
            "\tTrain Loss 0.0116\t Learning Rate 0.0000882\t Validation Loss 0.1026\n",
            "\n",
            "Epoch: 27/100\n"
          ]
        },
        {
          "output_type": "stream",
          "name": "stderr",
          "text": []
        },
        {
          "output_type": "stream",
          "name": "stdout",
          "text": [
            "\tTrain Loss 0.0119\t Learning Rate 0.0000878\t Validation Loss 0.0973\n",
            "\n",
            "Epoch: 28/100\n"
          ]
        },
        {
          "output_type": "stream",
          "name": "stderr",
          "text": []
        },
        {
          "output_type": "stream",
          "name": "stdout",
          "text": [
            "\tTrain Loss 0.0112\t Learning Rate 0.0000873\t Validation Loss 0.0952\n",
            "\n",
            "Epoch: 29/100\n"
          ]
        },
        {
          "output_type": "stream",
          "name": "stderr",
          "text": []
        },
        {
          "output_type": "stream",
          "name": "stdout",
          "text": [
            "\tTrain Loss 0.0105\t Learning Rate 0.0000869\t Validation Loss 0.1053\n",
            "\n",
            "Epoch: 30/100\n"
          ]
        },
        {
          "output_type": "stream",
          "name": "stderr",
          "text": []
        },
        {
          "output_type": "stream",
          "name": "stdout",
          "text": [
            "\tTrain Loss 0.0103\t Learning Rate 0.0000865\t Validation Loss 0.0843\n",
            "\n",
            "Epoch: 31/100\n"
          ]
        },
        {
          "output_type": "stream",
          "name": "stderr",
          "text": []
        },
        {
          "output_type": "stream",
          "name": "stdout",
          "text": [
            "\tTrain Loss 0.0100\t Learning Rate 0.0000860\t Validation Loss 0.0735\n",
            "\n",
            "Epoch: 32/100\n"
          ]
        },
        {
          "output_type": "stream",
          "name": "stderr",
          "text": []
        },
        {
          "output_type": "stream",
          "name": "stdout",
          "text": [
            "\tTrain Loss 0.0097\t Learning Rate 0.0000856\t Validation Loss 0.0760\n",
            "\n",
            "Epoch: 33/100\n"
          ]
        },
        {
          "output_type": "stream",
          "name": "stderr",
          "text": []
        },
        {
          "output_type": "stream",
          "name": "stdout",
          "text": [
            "\tTrain Loss 0.0096\t Learning Rate 0.0000852\t Validation Loss 0.0769\n",
            "\n",
            "Epoch: 34/100\n"
          ]
        },
        {
          "output_type": "stream",
          "name": "stderr",
          "text": []
        },
        {
          "output_type": "stream",
          "name": "stdout",
          "text": [
            "\tTrain Loss 0.0090\t Learning Rate 0.0000848\t Validation Loss 0.0804\n",
            "\n",
            "Epoch: 35/100\n"
          ]
        },
        {
          "output_type": "stream",
          "name": "stderr",
          "text": []
        },
        {
          "output_type": "stream",
          "name": "stdout",
          "text": [
            "\tTrain Loss 0.0088\t Learning Rate 0.0000843\t Validation Loss 0.0818\n",
            "\n",
            "Epoch: 36/100\n"
          ]
        },
        {
          "output_type": "stream",
          "name": "stderr",
          "text": []
        },
        {
          "output_type": "stream",
          "name": "stdout",
          "text": [
            "\tTrain Loss 0.0085\t Learning Rate 0.0000839\t Validation Loss 0.0755\n",
            "\n",
            "Epoch: 37/100\n"
          ]
        },
        {
          "output_type": "stream",
          "name": "stderr",
          "text": []
        },
        {
          "output_type": "stream",
          "name": "stdout",
          "text": [
            "\tTrain Loss 0.0082\t Learning Rate 0.0000835\t Validation Loss 0.0697\n",
            "\n",
            "Epoch: 38/100\n"
          ]
        },
        {
          "output_type": "stream",
          "name": "stderr",
          "text": []
        },
        {
          "output_type": "stream",
          "name": "stdout",
          "text": [
            "\tTrain Loss 0.0080\t Learning Rate 0.0000831\t Validation Loss 0.0675\n",
            "\n",
            "Epoch: 39/100\n"
          ]
        },
        {
          "output_type": "stream",
          "name": "stderr",
          "text": []
        },
        {
          "output_type": "stream",
          "name": "stdout",
          "text": [
            "\tTrain Loss 0.0077\t Learning Rate 0.0000827\t Validation Loss 0.0680\n",
            "\n",
            "Epoch: 40/100\n"
          ]
        },
        {
          "output_type": "stream",
          "name": "stderr",
          "text": []
        },
        {
          "output_type": "stream",
          "name": "stdout",
          "text": [
            "\tTrain Loss 0.0075\t Learning Rate 0.0000822\t Validation Loss 0.0638\n",
            "\n",
            "Epoch: 41/100\n"
          ]
        },
        {
          "output_type": "stream",
          "name": "stderr",
          "text": []
        },
        {
          "output_type": "stream",
          "name": "stdout",
          "text": [
            "\tTrain Loss 0.0073\t Learning Rate 0.0000818\t Validation Loss 0.0639\n",
            "\n",
            "Epoch: 42/100\n"
          ]
        },
        {
          "output_type": "stream",
          "name": "stderr",
          "text": []
        },
        {
          "output_type": "stream",
          "name": "stdout",
          "text": [
            "\tTrain Loss 0.0071\t Learning Rate 0.0000814\t Validation Loss 0.0613\n",
            "\n",
            "Epoch: 43/100\n"
          ]
        },
        {
          "output_type": "stream",
          "name": "stderr",
          "text": []
        },
        {
          "output_type": "stream",
          "name": "stdout",
          "text": [
            "\tTrain Loss 0.0070\t Learning Rate 0.0000810\t Validation Loss 0.0689\n",
            "\n",
            "Epoch: 44/100\n"
          ]
        },
        {
          "output_type": "stream",
          "name": "stderr",
          "text": []
        },
        {
          "output_type": "stream",
          "name": "stdout",
          "text": [
            "\tTrain Loss 0.0066\t Learning Rate 0.0000806\t Validation Loss 0.0732\n",
            "\n",
            "Epoch: 45/100\n"
          ]
        },
        {
          "output_type": "stream",
          "name": "stderr",
          "text": []
        },
        {
          "output_type": "stream",
          "name": "stdout",
          "text": [
            "\tTrain Loss 0.0067\t Learning Rate 0.0000802\t Validation Loss 0.0617\n",
            "\n",
            "Epoch: 46/100\n"
          ]
        },
        {
          "output_type": "stream",
          "name": "stderr",
          "text": []
        },
        {
          "output_type": "stream",
          "name": "stdout",
          "text": [
            "\tTrain Loss 0.0063\t Learning Rate 0.0000798\t Validation Loss 0.0589\n",
            "\n",
            "Epoch: 47/100\n"
          ]
        },
        {
          "output_type": "stream",
          "name": "stderr",
          "text": []
        },
        {
          "output_type": "stream",
          "name": "stdout",
          "text": [
            "\tTrain Loss 0.0061\t Learning Rate 0.0000794\t Validation Loss 0.0606\n",
            "\n",
            "Epoch: 48/100\n"
          ]
        },
        {
          "output_type": "stream",
          "name": "stderr",
          "text": []
        },
        {
          "output_type": "stream",
          "name": "stdout",
          "text": [
            "\tTrain Loss 0.0061\t Learning Rate 0.0000790\t Validation Loss 0.0582\n",
            "\n",
            "Epoch: 49/100\n"
          ]
        },
        {
          "output_type": "stream",
          "name": "stderr",
          "text": []
        },
        {
          "output_type": "stream",
          "name": "stdout",
          "text": [
            "\tTrain Loss 0.0060\t Learning Rate 0.0000786\t Validation Loss 0.0622\n",
            "\n",
            "Epoch: 50/100\n"
          ]
        },
        {
          "output_type": "stream",
          "name": "stderr",
          "text": []
        },
        {
          "output_type": "stream",
          "name": "stdout",
          "text": [
            "\tTrain Loss 0.0060\t Learning Rate 0.0000782\t Validation Loss 0.0578\n",
            "\n",
            "Epoch: 51/100\n"
          ]
        },
        {
          "output_type": "stream",
          "name": "stderr",
          "text": []
        },
        {
          "output_type": "stream",
          "name": "stdout",
          "text": [
            "\tTrain Loss 0.0058\t Learning Rate 0.0000778\t Validation Loss 0.0578\n",
            "\n",
            "Epoch: 52/100\n"
          ]
        },
        {
          "output_type": "stream",
          "name": "stderr",
          "text": []
        },
        {
          "output_type": "stream",
          "name": "stdout",
          "text": [
            "\tTrain Loss 0.0056\t Learning Rate 0.0000774\t Validation Loss 0.0572\n",
            "\n",
            "Epoch: 53/100\n"
          ]
        },
        {
          "output_type": "stream",
          "name": "stderr",
          "text": []
        },
        {
          "output_type": "stream",
          "name": "stdout",
          "text": [
            "\tTrain Loss 0.0054\t Learning Rate 0.0000771\t Validation Loss 0.0564\n",
            "\n",
            "Epoch: 54/100\n"
          ]
        },
        {
          "output_type": "stream",
          "name": "stderr",
          "text": []
        },
        {
          "output_type": "stream",
          "name": "stdout",
          "text": [
            "\tTrain Loss 0.0052\t Learning Rate 0.0000767\t Validation Loss 0.0568\n",
            "\n",
            "Epoch: 55/100\n"
          ]
        },
        {
          "output_type": "stream",
          "name": "stderr",
          "text": []
        },
        {
          "output_type": "stream",
          "name": "stdout",
          "text": [
            "\tTrain Loss 0.0050\t Learning Rate 0.0000763\t Validation Loss 0.0667\n",
            "\n",
            "Epoch: 56/100\n"
          ]
        },
        {
          "output_type": "stream",
          "name": "stderr",
          "text": []
        },
        {
          "output_type": "stream",
          "name": "stdout",
          "text": [
            "\tTrain Loss 0.0050\t Learning Rate 0.0000759\t Validation Loss 0.0626\n",
            "\n",
            "Epoch: 57/100\n"
          ]
        },
        {
          "output_type": "stream",
          "name": "stderr",
          "text": []
        },
        {
          "output_type": "stream",
          "name": "stdout",
          "text": [
            "\tTrain Loss 0.0050\t Learning Rate 0.0000755\t Validation Loss 0.0595\n",
            "\n",
            "Epoch: 58/100\n"
          ]
        },
        {
          "output_type": "stream",
          "name": "stderr",
          "text": []
        },
        {
          "output_type": "stream",
          "name": "stdout",
          "text": [
            "\tTrain Loss 0.0049\t Learning Rate 0.0000751\t Validation Loss 0.0724\n",
            "\n",
            "Epoch: 59/100\n"
          ]
        },
        {
          "output_type": "stream",
          "name": "stderr",
          "text": []
        },
        {
          "output_type": "stream",
          "name": "stdout",
          "text": [
            "\tTrain Loss 0.0048\t Learning Rate 0.0000748\t Validation Loss 0.0579\n",
            "\n",
            "Epoch: 60/100\n"
          ]
        },
        {
          "output_type": "stream",
          "name": "stderr",
          "text": []
        },
        {
          "output_type": "stream",
          "name": "stdout",
          "text": [
            "\tTrain Loss 0.0046\t Learning Rate 0.0000744\t Validation Loss 0.0570\n",
            "\n",
            "Epoch: 61/100\n"
          ]
        },
        {
          "output_type": "stream",
          "name": "stderr",
          "text": []
        },
        {
          "output_type": "stream",
          "name": "stdout",
          "text": [
            "\tTrain Loss 0.0045\t Learning Rate 0.0000740\t Validation Loss 0.0624\n",
            "\n",
            "Epoch: 62/100\n"
          ]
        },
        {
          "output_type": "stream",
          "name": "stderr",
          "text": []
        },
        {
          "output_type": "stream",
          "name": "stdout",
          "text": [
            "\tTrain Loss 0.0045\t Learning Rate 0.0000737\t Validation Loss 0.0581\n",
            "\n",
            "Epoch: 63/100\n"
          ]
        },
        {
          "output_type": "stream",
          "name": "stderr",
          "text": []
        },
        {
          "output_type": "stream",
          "name": "stdout",
          "text": [
            "\tTrain Loss 0.0044\t Learning Rate 0.0000733\t Validation Loss 0.0547\n",
            "\n",
            "Epoch: 64/100\n"
          ]
        },
        {
          "output_type": "stream",
          "name": "stderr",
          "text": []
        },
        {
          "output_type": "stream",
          "name": "stdout",
          "text": [
            "\tTrain Loss 0.0045\t Learning Rate 0.0000729\t Validation Loss 0.0549\n",
            "\n",
            "Epoch: 65/100\n"
          ]
        },
        {
          "output_type": "stream",
          "name": "stderr",
          "text": []
        },
        {
          "output_type": "stream",
          "name": "stdout",
          "text": [
            "\tTrain Loss 0.0043\t Learning Rate 0.0000726\t Validation Loss 0.0573\n",
            "\n",
            "Epoch: 66/100\n"
          ]
        },
        {
          "output_type": "stream",
          "name": "stderr",
          "text": []
        },
        {
          "output_type": "stream",
          "name": "stdout",
          "text": [
            "\tTrain Loss 0.0041\t Learning Rate 0.0000722\t Validation Loss 0.0560\n",
            "\n",
            "Epoch: 67/100\n"
          ]
        },
        {
          "output_type": "stream",
          "name": "stderr",
          "text": []
        },
        {
          "output_type": "stream",
          "name": "stdout",
          "text": [
            "\tTrain Loss 0.0040\t Learning Rate 0.0000718\t Validation Loss 0.0577\n",
            "\n",
            "Epoch: 68/100\n"
          ]
        },
        {
          "output_type": "stream",
          "name": "stderr",
          "text": []
        },
        {
          "output_type": "stream",
          "name": "stdout",
          "text": [
            "\tTrain Loss 0.0040\t Learning Rate 0.0000715\t Validation Loss 0.0539\n",
            "\n",
            "Epoch: 69/100\n"
          ]
        },
        {
          "output_type": "stream",
          "name": "stderr",
          "text": []
        },
        {
          "output_type": "stream",
          "name": "stdout",
          "text": [
            "\tTrain Loss 0.0039\t Learning Rate 0.0000711\t Validation Loss 0.0562\n",
            "\n",
            "Epoch: 70/100\n"
          ]
        },
        {
          "output_type": "stream",
          "name": "stderr",
          "text": []
        },
        {
          "output_type": "stream",
          "name": "stdout",
          "text": [
            "\tTrain Loss 0.0039\t Learning Rate 0.0000708\t Validation Loss 0.0535\n",
            "\n",
            "Epoch: 71/100\n"
          ]
        },
        {
          "output_type": "stream",
          "name": "stderr",
          "text": []
        },
        {
          "output_type": "stream",
          "name": "stdout",
          "text": [
            "\tTrain Loss 0.0038\t Learning Rate 0.0000704\t Validation Loss 0.0558\n",
            "\n",
            "Epoch: 72/100\n"
          ]
        },
        {
          "output_type": "stream",
          "name": "stderr",
          "text": []
        },
        {
          "output_type": "stream",
          "name": "stdout",
          "text": [
            "\tTrain Loss 0.0037\t Learning Rate 0.0000701\t Validation Loss 0.0546\n",
            "\n",
            "Epoch: 73/100\n"
          ]
        },
        {
          "output_type": "stream",
          "name": "stderr",
          "text": []
        },
        {
          "output_type": "stream",
          "name": "stdout",
          "text": [
            "\tTrain Loss 0.0038\t Learning Rate 0.0000697\t Validation Loss 0.0621\n",
            "\n",
            "Epoch: 74/100\n"
          ]
        },
        {
          "output_type": "stream",
          "name": "stderr",
          "text": []
        },
        {
          "output_type": "stream",
          "name": "stdout",
          "text": [
            "\tTrain Loss 0.0036\t Learning Rate 0.0000694\t Validation Loss 0.0580\n",
            "\n",
            "Epoch: 75/100\n"
          ]
        },
        {
          "output_type": "stream",
          "name": "stderr",
          "text": []
        },
        {
          "output_type": "stream",
          "name": "stdout",
          "text": [
            "\tTrain Loss 0.0036\t Learning Rate 0.0000690\t Validation Loss 0.0711\n",
            "\n",
            "Epoch: 76/100\n"
          ]
        },
        {
          "output_type": "stream",
          "name": "stderr",
          "text": []
        },
        {
          "output_type": "stream",
          "name": "stdout",
          "text": [
            "\tTrain Loss 0.0036\t Learning Rate 0.0000687\t Validation Loss 0.0574\n",
            "\n",
            "Epoch: 77/100\n"
          ]
        },
        {
          "output_type": "stream",
          "name": "stderr",
          "text": []
        },
        {
          "output_type": "stream",
          "name": "stdout",
          "text": [
            "\tTrain Loss 0.0037\t Learning Rate 0.0000683\t Validation Loss 0.0572\n",
            "\n",
            "Epoch: 78/100\n"
          ]
        },
        {
          "output_type": "stream",
          "name": "stderr",
          "text": []
        },
        {
          "output_type": "stream",
          "name": "stdout",
          "text": [
            "\tTrain Loss 0.0034\t Learning Rate 0.0000680\t Validation Loss 0.0573\n",
            "\n",
            "Epoch: 79/100\n"
          ]
        },
        {
          "output_type": "stream",
          "name": "stderr",
          "text": []
        },
        {
          "output_type": "stream",
          "name": "stdout",
          "text": [
            "\tTrain Loss 0.0034\t Learning Rate 0.0000676\t Validation Loss 0.0543\n",
            "\n",
            "Epoch: 80/100\n"
          ]
        },
        {
          "output_type": "stream",
          "name": "stderr",
          "text": []
        },
        {
          "output_type": "stream",
          "name": "stdout",
          "text": [
            "\tTrain Loss 0.0034\t Learning Rate 0.0000673\t Validation Loss 0.0736\n",
            "\n",
            "Epoch: 81/100\n"
          ]
        },
        {
          "output_type": "stream",
          "name": "stderr",
          "text": []
        },
        {
          "output_type": "stream",
          "name": "stdout",
          "text": [
            "\tTrain Loss 0.0033\t Learning Rate 0.0000670\t Validation Loss 0.0546\n",
            "\n",
            "Epoch: 82/100\n"
          ]
        },
        {
          "output_type": "stream",
          "name": "stderr",
          "text": []
        },
        {
          "output_type": "stream",
          "name": "stdout",
          "text": [
            "\tTrain Loss 0.0033\t Learning Rate 0.0000666\t Validation Loss 0.0720\n",
            "\n",
            "Epoch: 83/100\n"
          ]
        },
        {
          "output_type": "stream",
          "name": "stderr",
          "text": []
        },
        {
          "output_type": "stream",
          "name": "stdout",
          "text": [
            "\tTrain Loss 0.0034\t Learning Rate 0.0000663\t Validation Loss 0.0548\n",
            "\n",
            "Epoch: 84/100\n"
          ]
        },
        {
          "output_type": "stream",
          "name": "stderr",
          "text": []
        },
        {
          "output_type": "stream",
          "name": "stdout",
          "text": [
            "\tTrain Loss 0.0032\t Learning Rate 0.0000660\t Validation Loss 0.0831\n",
            "\n",
            "Epoch: 85/100\n"
          ]
        },
        {
          "output_type": "stream",
          "name": "stderr",
          "text": []
        },
        {
          "output_type": "stream",
          "name": "stdout",
          "text": [
            "\tTrain Loss 0.0033\t Learning Rate 0.0000656\t Validation Loss 0.0545\n",
            "\n",
            "Epoch: 86/100\n"
          ]
        },
        {
          "output_type": "stream",
          "name": "stderr",
          "text": []
        },
        {
          "output_type": "stream",
          "name": "stdout",
          "text": [
            "\tTrain Loss 0.0033\t Learning Rate 0.0000653\t Validation Loss 0.0678\n",
            "\n",
            "Epoch: 87/100\n"
          ]
        },
        {
          "output_type": "stream",
          "name": "stderr",
          "text": []
        },
        {
          "output_type": "stream",
          "name": "stdout",
          "text": [
            "\tTrain Loss 0.0031\t Learning Rate 0.0000650\t Validation Loss 0.0680\n",
            "\n",
            "Epoch: 88/100\n"
          ]
        },
        {
          "output_type": "stream",
          "name": "stderr",
          "text": []
        },
        {
          "output_type": "stream",
          "name": "stdout",
          "text": [
            "\tTrain Loss 0.0031\t Learning Rate 0.0000647\t Validation Loss 0.0592\n",
            "\n",
            "Epoch: 89/100\n"
          ]
        },
        {
          "output_type": "stream",
          "name": "stderr",
          "text": []
        },
        {
          "output_type": "stream",
          "name": "stdout",
          "text": [
            "\tTrain Loss 0.0029\t Learning Rate 0.0000643\t Validation Loss 0.0589\n",
            "\n",
            "Epoch: 90/100\n"
          ]
        },
        {
          "output_type": "stream",
          "name": "stderr",
          "text": []
        },
        {
          "output_type": "stream",
          "name": "stdout",
          "text": [
            "\tTrain Loss 0.0031\t Learning Rate 0.0000640\t Validation Loss 0.0569\n",
            "\n",
            "Epoch: 91/100\n"
          ]
        },
        {
          "output_type": "stream",
          "name": "stderr",
          "text": []
        },
        {
          "output_type": "stream",
          "name": "stdout",
          "text": [
            "\tTrain Loss 0.0029\t Learning Rate 0.0000637\t Validation Loss 0.0565\n",
            "\n",
            "Epoch: 92/100\n"
          ]
        },
        {
          "output_type": "stream",
          "name": "stderr",
          "text": []
        },
        {
          "output_type": "stream",
          "name": "stdout",
          "text": [
            "\tTrain Loss 0.0029\t Learning Rate 0.0000634\t Validation Loss 0.0544\n",
            "\n",
            "Epoch: 93/100\n"
          ]
        },
        {
          "output_type": "stream",
          "name": "stderr",
          "text": []
        },
        {
          "output_type": "stream",
          "name": "stdout",
          "text": [
            "\tTrain Loss 0.0030\t Learning Rate 0.0000631\t Validation Loss 0.0731\n",
            "\n",
            "Epoch: 94/100\n"
          ]
        },
        {
          "output_type": "stream",
          "name": "stderr",
          "text": []
        },
        {
          "output_type": "stream",
          "name": "stdout",
          "text": [
            "\tTrain Loss 0.0029\t Learning Rate 0.0000627\t Validation Loss 0.0656\n",
            "\n",
            "Epoch: 95/100\n"
          ]
        },
        {
          "output_type": "stream",
          "name": "stderr",
          "text": []
        },
        {
          "output_type": "stream",
          "name": "stdout",
          "text": [
            "\tTrain Loss 0.0027\t Learning Rate 0.0000624\t Validation Loss 0.0659\n",
            "\n",
            "Epoch: 96/100\n"
          ]
        },
        {
          "output_type": "stream",
          "name": "stderr",
          "text": []
        },
        {
          "output_type": "stream",
          "name": "stdout",
          "text": [
            "\tTrain Loss 0.0029\t Learning Rate 0.0000621\t Validation Loss 0.0622\n",
            "\n",
            "Epoch: 97/100\n"
          ]
        },
        {
          "output_type": "stream",
          "name": "stderr",
          "text": []
        },
        {
          "output_type": "stream",
          "name": "stdout",
          "text": [
            "\tTrain Loss 0.0028\t Learning Rate 0.0000618\t Validation Loss 0.0544\n",
            "\n",
            "Epoch: 98/100\n"
          ]
        },
        {
          "output_type": "stream",
          "name": "stderr",
          "text": []
        },
        {
          "output_type": "stream",
          "name": "stdout",
          "text": [
            "\tTrain Loss 0.0027\t Learning Rate 0.0000615\t Validation Loss 0.0576\n",
            "\n",
            "Epoch: 99/100\n"
          ]
        },
        {
          "output_type": "stream",
          "name": "stderr",
          "text": []
        },
        {
          "output_type": "stream",
          "name": "stdout",
          "text": [
            "\tTrain Loss 0.0029\t Learning Rate 0.0000612\t Validation Loss 0.0898\n",
            "\n",
            "Epoch: 100/100\n"
          ]
        },
        {
          "output_type": "stream",
          "name": "stderr",
          "text": []
        },
        {
          "output_type": "stream",
          "name": "stdout",
          "text": [
            "\tTrain Loss 0.0028\t Learning Rate 0.0000609\t Validation Loss 0.0778\n"
          ]
        },
        {
          "output_type": "execute_result",
          "data": {
            "text/plain": [
              "Text(0.5, 1.0, 'Validation loss')"
            ]
          },
          "metadata": {},
          "execution_count": 46
        },
        {
          "output_type": "display_data",
          "data": {
            "text/plain": [
              "<Figure size 2000x800 with 2 Axes>"
            ],
            "image/png": "[encoded data removed]"
          },
          "metadata": {}
        }
      ],
      "source": [
        "optimizer.param_groups[0]['lr']=0.0001\n",
        "\n",
        "epoch_plot=[]\n",
        "val_plot=[]\n",
        "num_epochs=100\n",
        "counter=0\n",
        "teacher_forcing_rate=1.\n",
        "for epoch in range(0, num_epochs):\n",
        "\n",
        "    # Call train and validate \n",
        "    print(\"\\nEpoch: {}/{}\".format(epoch+1, num_epochs))\n",
        "    \n",
        "    curr_lr = float(optimizer.param_groups[0]['lr'])\n",
        "    \n",
        "    train_loss              = trainer.train(teacher_forcing_rate=teacher_forcing_rate)\n",
        "    epoch_plot.append(train_loss)\n",
        "\n",
        "    val_loss              = trainer.validate()\n",
        "\n",
        "    val_plot.append(val_loss)\n",
        "\n",
        "    teacher_forcing_rate=max(teacher_forcing_rate-0.05, 0.5)\n",
        "    if teacher_forcing_rate<0.5:\n",
        "      teacher_forcing_rate=0.9\n",
        "\n",
        "    # trainer.teacher_forcing_ratio=max(trainer.teacher_forcing_ratio-0.05,0.1)\n",
        "    scheduler.step()\n",
        "\n",
        "    print(\"\\tTrain Loss {:.04f}\\t Learning Rate {:.07f}\\t Validation Loss {:.04f}\".format(train_loss, curr_lr, val_loss))\n",
        "\n",
        "fig, ax=plt.subplots(1,2, figsize=(20,8))\n",
        "# ax[0].plot(trainer.train_plot)\n",
        "ax[0].plot(epoch_plot)\n",
        "ax[0].set_ylabel(\"Smooth L1 Loss\")\n",
        "ax[0].set_xlabel(\"Epoch\")\n",
        "ax[0].set_title(\"Training loss\")\n",
        "\n",
        "ax[1].plot(val_plot, color='tomato')\n",
        "ax[1].set_ylabel(\"Smooth L1 Loss\")\n",
        "ax[1].set_xlabel(\"Epoch\")\n",
        "ax[1].set_title(\"Validation loss\")\n"
      ]
    },
    {
      "cell_type": "code",
      "source": [
        "from google.colab import drive\n",
        "drive.mount('/content/drive')"
      ],
      "metadata": {
        "colab": {
          "base_uri": "https://localhost:8080/"
        },
        "id": "Siv9KjrhEhKT",
        "outputId": "a745d9ee-2d6f-44e5-8eac-3dc78ae72895"
      },
      "execution_count": 83,
      "outputs": [
        {
          "output_type": "stream",
          "name": "stdout",
          "text": [
            "Mounted at /content/drive\n"
          ]
        }
      ]
    },
    {
      "cell_type": "code",
      "source": [
        "path=\"/content/drive/MyDrive/stockprices/checkpoint_AAPL.pth\"\n",
        "torch.save({'model_state_dict':trainer.model.state_dict(),\n",
        "                  'optimizer_state_dict':trainer.optimizer.state_dict(),\n",
        "                  'epoch': epoch}, path)"
      ],
      "metadata": {
        "id": "L6P4w-ixEa3f"
      },
      "execution_count": 84,
      "outputs": []
    },
    {
      "cell_type": "code",
      "source": [
        "# path=\"/content/drive/MyDrive/stockprices/checkpoint_GOOGL.pth\"\n",
        "# checkpoint = torch.load(path)\n",
        "# model.load_state_dict(checkpoint['model_state_dict'])\n",
        "# trainer.model=model"
      ],
      "metadata": {
        "id": "0-oNchzVck5-"
      },
      "execution_count": null,
      "outputs": []
    },
    {
      "cell_type": "markdown",
      "metadata": {
        "id": "hgFYFaBGeBqM"
      },
      "source": [
        "# Testing"
      ]
    },
    {
      "cell_type": "code",
      "source": [
        "#window size: 65, context_len:5, pred_len: 5 \n",
        "prediction=trainer.test(test_loader)\n",
        "prediction=[i.cpu().detach().numpy() for i in prediction]"
      ],
      "metadata": {
        "colab": {
          "base_uri": "https://localhost:8080/"
        },
        "id": "G55fqZkxYKMq",
        "outputId": "b6bcfde1-c12d-433b-fe44-2ba96a29958e"
      },
      "execution_count": 47,
      "outputs": [
        {
          "output_type": "stream",
          "name": "stderr",
          "text": []
        }
      ]
    },
    {
      "cell_type": "code",
      "source": [
        "gc.collect()\n",
        "torch.cuda.empty_cache()\n",
        "print(len(prediction))\n",
        "print(np.array(prediction).shape)\n"
      ],
      "metadata": {
        "id": "XIOWV31224MK",
        "colab": {
          "base_uri": "https://localhost:8080/"
        },
        "outputId": "b5456244-9c34-44c3-df8e-ac7aed124e2d"
      },
      "execution_count": 49,
      "outputs": [
        {
          "output_type": "stream",
          "name": "stdout",
          "text": [
            "3315\n",
            "(3315, 7, 1)\n"
          ]
        }
      ]
    },
    {
      "cell_type": "code",
      "source": [
        "prediction=np.squeeze(prediction)\n",
        "prediction_padded=np.pad(prediction,((context_len+1, pred_len),(0,0)),'edge')\n",
        "print(prediction_padded.shape)"
      ],
      "metadata": {
        "colab": {
          "base_uri": "https://localhost:8080/"
        },
        "id": "Jo4ITYzNvmD1",
        "outputId": "bfcc8ae6-4615-4899-8cbb-0456e594d368"
      },
      "execution_count": 58,
      "outputs": [
        {
          "output_type": "stream",
          "name": "stdout",
          "text": [
            "(3353, 7)\n"
          ]
        }
      ]
    },
    {
      "cell_type": "markdown",
      "source": [
        "### **Inverse Transform**"
      ],
      "metadata": {
        "id": "rRuQsUvX-vLF"
      }
    },
    {
      "cell_type": "code",
      "source": [
        "prediction_window=np.zeros_like(prediction_padded)\n",
        "for i in range(pred_len):\n",
        "  dataset_copy=dataset_standard.copy()\n",
        "  dataset_copy[:,3]=prediction_padded[:,i]\n",
        "  dataset_inverse=Scaler.inverse_transform(dataset_copy)\n",
        "  prediction_window[:,i]=dataset_inverse[:,3]\n",
        "\n",
        "print(prediction_window.shape)"
      ],
      "metadata": {
        "colab": {
          "base_uri": "https://localhost:8080/"
        },
        "id": "-jHpJgeduP4i",
        "outputId": "7051c6ff-1d46-4a82-caf5-54f9160b0f3a"
      },
      "execution_count": 72,
      "outputs": [
        {
          "output_type": "stream",
          "name": "stdout",
          "text": [
            "(3353, 7)\n"
          ]
        }
      ]
    },
    {
      "cell_type": "code",
      "source": [
        "actual_data=Scaler.inverse_transform(dataset_standard)\n",
        "print(actual_data.shape)"
      ],
      "metadata": {
        "colab": {
          "base_uri": "https://localhost:8080/"
        },
        "id": "QybEtOap65o2",
        "outputId": "34cc1934-1848-4fe6-82de-038cc6ce76c3"
      },
      "execution_count": 73,
      "outputs": [
        {
          "output_type": "stream",
          "name": "stdout",
          "text": [
            "(3353, 8)\n"
          ]
        }
      ]
    },
    {
      "cell_type": "markdown",
      "source": [
        "### **Plot Results**"
      ],
      "metadata": {
        "id": "I53vrJxb-y56"
      }
    },
    {
      "cell_type": "code",
      "source": [
        "plt.figure(figsize=(18,10))\n",
        "plt.plot(np.array(actual_data)[:,3], label='Actual Price', color='darkorange', linewidth=0.5)\n",
        "plt.plot(np.array(actual_data)[:,7], label='Moving Average', color='cyan',linewidth=0.5)\n",
        "plt.bar(x=np.arange(0,len(dataset)), height=np.array(actual_data)[:,4]/10000000 , label='Volume', color='lightskyblue', alpha=0.3)\n",
        "\n",
        "plt.plot( prediction_window[:,0], label='Predicted Price',color='royalblue', linewidth=0.5)\n",
        "plt.axvline(x = int(len(dataset)*0.8), color='r', label=\"Model Blind-Generated After\")\n",
        "plt.legend()\n",
        "plt.xlabel(\"Days\")\n",
        "plt.ylabel(\"Prices\")\n",
        "plt.annotate(\"AAPL\",xy=(0.3,70),textcoords='offset points', fontsize=30)\n",
        "plt.savefig(\"AAPL1.png\", transparent = False)"
      ],
      "metadata": {
        "colab": {
          "base_uri": "https://localhost:8080/",
          "height": 709
        },
        "id": "vgUeJvKzaIsb",
        "outputId": "5d5142f0-8cb8-4cac-b407-64557c7d2104"
      },
      "execution_count": 82,
      "outputs": [
        {
          "output_type": "display_data",
          "data": {
            "text/plain": [
              "<Figure size 1800x1000 with 1 Axes>"
            ],
            "image/png": "[encoded data removed]"
          },
          "metadata": {}
        }
      ]
    },
    {
      "cell_type": "markdown",
      "source": [
        "### **Retrieve all predictions for DQN**"
      ],
      "metadata": {
        "id": "fNA5Fvlf-7MV"
      }
    },
    {
      "cell_type": "code",
      "source": [
        "dff=pd.DataFrame(prediction_window)\n",
        "dff.to_csv(\"AAPL_Pred.csv\")\n",
        "dff"
      ],
      "metadata": {
        "colab": {
          "base_uri": "https://localhost:8080/",
          "height": 424
        },
        "id": "WeHuJnv42awn",
        "outputId": "9f7f12f5-bce6-4158-8971-5cd612a58821"
      },
      "execution_count": 79,
      "outputs": [
        {
          "output_type": "execute_result",
          "data": {
            "text/plain": [
              "               0           1           2           3           4           5  \\\n",
              "0       4.495150    4.467840    4.479853    4.422995    4.493061    4.411793   \n",
              "1       4.495150    4.467840    4.479853    4.422995    4.493061    4.411793   \n",
              "2       4.495150    4.467840    4.479853    4.422995    4.493061    4.411793   \n",
              "3       4.495150    4.467840    4.479853    4.422995    4.493061    4.411793   \n",
              "4       4.495150    4.467840    4.479853    4.422995    4.493061    4.411793   \n",
              "...          ...         ...         ...         ...         ...         ...   \n",
              "3348  165.002884  166.625488  167.236221  166.629028  167.515930  167.248215   \n",
              "3349  165.002884  166.625488  167.236221  166.629028  167.515930  167.248215   \n",
              "3350  165.002884  166.625488  167.236221  166.629028  167.515930  167.248215   \n",
              "3351  165.002884  166.625488  167.236221  166.629028  167.515930  167.248215   \n",
              "3352  165.002884  166.625488  167.236221  166.629028  167.515930  167.248215   \n",
              "\n",
              "               6  \n",
              "0       4.482191  \n",
              "1       4.482191  \n",
              "2       4.482191  \n",
              "3       4.482191  \n",
              "4       4.482191  \n",
              "...          ...  \n",
              "3348  167.660156  \n",
              "3349  167.660156  \n",
              "3350  167.660156  \n",
              "3351  167.660156  \n",
              "3352  167.660156  \n",
              "\n",
              "[3353 rows x 7 columns]"
            ],
            "text/html": [
              "\n",
              "  <div id=\"df-87b1edd8-9190-4c90-8302-8aaf494496b4\">\n",
              "    <div class=\"colab-df-container\">\n",
              "      <div>\n",
              "<style scoped>\n",
              "    .dataframe tbody tr th:only-of-type {\n",
              "        vertical-align: middle;\n",
              "    }\n",
              "\n",
              "    .dataframe tbody tr th {\n",
              "        vertical-align: top;\n",
              "    }\n",
              "\n",
              "    .dataframe thead th {\n",
              "        text-align: right;\n",
              "    }\n",
              "</style>\n",
              "<table border=\"1\" class=\"dataframe\">\n",
              "  <thead>\n",
              "    <tr style=\"text-align: right;\">\n",
              "      <th></th>\n",
              "      <th>0</th>\n",
              "      <th>1</th>\n",
              "      <th>2</th>\n",
              "      <th>3</th>\n",
              "      <th>4</th>\n",
              "      <th>5</th>\n",
              "      <th>6</th>\n",
              "    </tr>\n",
              "  </thead>\n",
              "  <tbody>\n",
              "    <tr>\n",
              "      <th>0</th>\n",
              "      <td>4.495150</td>\n",
              "      <td>4.467840</td>\n",
              "      <td>4.479853</td>\n",
              "      <td>4.422995</td>\n",
              "      <td>4.493061</td>\n",
              "      <td>4.411793</td>\n",
              "      <td>4.482191</td>\n",
              "    </tr>\n",
              "    <tr>\n",
              "      <th>1</th>\n",
              "      <td>4.495150</td>\n",
              "      <td>4.467840</td>\n",
              "      <td>4.479853</td>\n",
              "      <td>4.422995</td>\n",
              "      <td>4.493061</td>\n",
              "      <td>4.411793</td>\n",
              "      <td>4.482191</td>\n",
              "    </tr>\n",
              "    <tr>\n",
              "      <th>2</th>\n",
              "      <td>4.495150</td>\n",
              "      <td>4.467840</td>\n",
              "      <td>4.479853</td>\n",
              "      <td>4.422995</td>\n",
              "      <td>4.493061</td>\n",
              "      <td>4.411793</td>\n",
              "      <td>4.482191</td>\n",
              "    </tr>\n",
              "    <tr>\n",
              "      <th>3</th>\n",
              "      <td>4.495150</td>\n",
              "      <td>4.467840</td>\n",
              "      <td>4.479853</td>\n",
              "      <td>4.422995</td>\n",
              "      <td>4.493061</td>\n",
              "      <td>4.411793</td>\n",
              "      <td>4.482191</td>\n",
              "    </tr>\n",
              "    <tr>\n",
              "      <th>4</th>\n",
              "      <td>4.495150</td>\n",
              "      <td>4.467840</td>\n",
              "      <td>4.479853</td>\n",
              "      <td>4.422995</td>\n",
              "      <td>4.493061</td>\n",
              "      <td>4.411793</td>\n",
              "      <td>4.482191</td>\n",
              "    </tr>\n",
              "    <tr>\n",
              "      <th>...</th>\n",
              "      <td>...</td>\n",
              "      <td>...</td>\n",
              "      <td>...</td>\n",
              "      <td>...</td>\n",
              "      <td>...</td>\n",
              "      <td>...</td>\n",
              "      <td>...</td>\n",
              "    </tr>\n",
              "    <tr>\n",
              "      <th>3348</th>\n",
              "      <td>165.002884</td>\n",
              "      <td>166.625488</td>\n",
              "      <td>167.236221</td>\n",
              "      <td>166.629028</td>\n",
              "      <td>167.515930</td>\n",
              "      <td>167.248215</td>\n",
              "      <td>167.660156</td>\n",
              "    </tr>\n",
              "    <tr>\n",
              "      <th>3349</th>\n",
              "      <td>165.002884</td>\n",
              "      <td>166.625488</td>\n",
              "      <td>167.236221</td>\n",
              "      <td>166.629028</td>\n",
              "      <td>167.515930</td>\n",
              "      <td>167.248215</td>\n",
              "      <td>167.660156</td>\n",
              "    </tr>\n",
              "    <tr>\n",
              "      <th>3350</th>\n",
              "      <td>165.002884</td>\n",
              "      <td>166.625488</td>\n",
              "      <td>167.236221</td>\n",
              "      <td>166.629028</td>\n",
              "      <td>167.515930</td>\n",
              "      <td>167.248215</td>\n",
              "      <td>167.660156</td>\n",
              "    </tr>\n",
              "    <tr>\n",
              "      <th>3351</th>\n",
              "      <td>165.002884</td>\n",
              "      <td>166.625488</td>\n",
              "      <td>167.236221</td>\n",
              "      <td>166.629028</td>\n",
              "      <td>167.515930</td>\n",
              "      <td>167.248215</td>\n",
              "      <td>167.660156</td>\n",
              "    </tr>\n",
              "    <tr>\n",
              "      <th>3352</th>\n",
              "      <td>165.002884</td>\n",
              "      <td>166.625488</td>\n",
              "      <td>167.236221</td>\n",
              "      <td>166.629028</td>\n",
              "      <td>167.515930</td>\n",
              "      <td>167.248215</td>\n",
              "      <td>167.660156</td>\n",
              "    </tr>\n",
              "  </tbody>\n",
              "</table>\n",
              "<p>3353 rows × 7 columns</p>\n",
              "</div>\n",
              "      <button class=\"colab-df-convert\" onclick=\"convertToInteractive('df-87b1edd8-9190-4c90-8302-8aaf494496b4')\"\n",
              "              title=\"Convert this dataframe to an interactive table.\"\n",
              "              style=\"display:none;\">\n",
              "        \n",
              "  <svg xmlns=\"http://www.w3.org/2000/svg\" height=\"24px\"viewBox=\"0 0 24 24\"\n",
              "       width=\"24px\">\n",
              "    <path d=\"M0 0h24v24H0V0z\" fill=\"none\"/>\n",
              "    <path d=\"M18.56 5.44l.94 2.06.94-2.06 2.06-.94-2.06-.94-.94-2.06-.94 2.06-2.06.94zm-11 1L8.5 8.5l.94-2.06 2.06-.94-2.06-.94L8.5 2.5l-.94 2.06-2.06.94zm10 10l.94 2.06.94-2.06 2.06-.94-2.06-.94-.94-2.06-.94 2.06-2.06.94z\"/><path d=\"M17.41 7.96l-1.37-1.37c-.4-.4-.92-.59-1.43-.59-.52 0-1.04.2-1.43.59L10.3 9.45l-7.72 7.72c-.78.78-.78 2.05 0 2.83L4 21.41c.39.39.9.59 1.41.59.51 0 1.02-.2 1.41-.59l7.78-7.78 2.81-2.81c.8-.78.8-2.07 0-2.86zM5.41 20L4 18.59l7.72-7.72 1.47 1.35L5.41 20z\"/>\n",
              "  </svg>\n",
              "      </button>\n",
              "      \n",
              "  <style>\n",
              "    .colab-df-container {\n",
              "      display:flex;\n",
              "      flex-wrap:wrap;\n",
              "      gap: 12px;\n",
              "    }\n",
              "\n",
              "    .colab-df-convert {\n",
              "      background-color: #E8F0FE;\n",
              "      border: none;\n",
              "      border-radius: 50%;\n",
              "      cursor: pointer;\n",
              "      display: none;\n",
              "      fill: #1967D2;\n",
              "      height: 32px;\n",
              "      padding: 0 0 0 0;\n",
              "      width: 32px;\n",
              "    }\n",
              "\n",
              "    .colab-df-convert:hover {\n",
              "      background-color: #E2EBFA;\n",
              "      box-shadow: 0px 1px 2px rgba(60, 64, 67, 0.3), 0px 1px 3px 1px rgba(60, 64, 67, 0.15);\n",
              "      fill: #174EA6;\n",
              "    }\n",
              "\n",
              "    [theme=dark] .colab-df-convert {\n",
              "      background-color: #3B4455;\n",
              "      fill: #D2E3FC;\n",
              "    }\n",
              "\n",
              "    [theme=dark] .colab-df-convert:hover {\n",
              "      background-color: #434B5C;\n",
              "      box-shadow: 0px 1px 3px 1px rgba(0, 0, 0, 0.15);\n",
              "      filter: drop-shadow(0px 1px 2px rgba(0, 0, 0, 0.3));\n",
              "      fill: #FFFFFF;\n",
              "    }\n",
              "  </style>\n",
              "\n",
              "      <script>\n",
              "        const buttonEl =\n",
              "          document.querySelector('#df-87b1edd8-9190-4c90-8302-8aaf494496b4 button.colab-df-convert');\n",
              "        buttonEl.style.display =\n",
              "          google.colab.kernel.accessAllowed ? 'block' : 'none';\n",
              "\n",
              "        async function convertToInteractive(key) {\n",
              "          const element = document.querySelector('#df-87b1edd8-9190-4c90-8302-8aaf494496b4');\n",
              "          const dataTable =\n",
              "            await google.colab.kernel.invokeFunction('convertToInteractive',\n",
              "                                                     [key], {});\n",
              "          if (!dataTable) return;\n",
              "\n",
              "          const docLinkHtml = 'Like what you see? Visit the ' +\n",
              "            '<a target=\"_blank\" href=https://colab.research.google.com/notebooks/data_table.ipynb>data table notebook</a>'\n",
              "            + ' to learn more about interactive tables.';\n",
              "          element.innerHTML = '';\n",
              "          dataTable['output_type'] = 'display_data';\n",
              "          await google.colab.output.renderOutput(dataTable, element);\n",
              "          const docLink = document.createElement('div');\n",
              "          docLink.innerHTML = docLinkHtml;\n",
              "          element.appendChild(docLink);\n",
              "        }\n",
              "      </script>\n",
              "    </div>\n",
              "  </div>\n",
              "  "
            ]
          },
          "metadata": {},
          "execution_count": 79
        }
      ]
    },
    {
      "cell_type": "markdown",
      "metadata": {
        "id": "JmZhxhNseaIr"
      },
      "source": [
        "# Experiment"
      ]
    },
    {
      "cell_type": "code",
      "execution_count": null,
      "metadata": {
        "id": "sZcCV2BIW2R6"
      },
      "outputs": [],
      "source": [
        "# Login to Wandb\n",
        "# Initialize your Wandb Run Here\n",
        "# Save your model architecture in a txt file, and save the file to Wandb"
      ]
    },
    {
      "cell_type": "code",
      "execution_count": null,
      "metadata": {
        "id": "VxEFx7ipeCqJ"
      },
      "outputs": [],
      "source": [
        "# Optional: Load your best model Checkpoint here\n",
        "\n",
        "# TODO: Create a testing function similar to validation \n",
        "# TODO: Create a file with all predictions \n",
        "# TODO: Submit to Kaggle"
      ]
    }
  ],
  "metadata": {
    "accelerator": "GPU",
    "colab": {
      "provenance": []
    },
    "gpuClass": "standard",
    "kernelspec": {
      "display_name": "Python 3",
      "name": "python3"
    },
    "language_info": {
      "name": "python"
    }
  },
  "nbformat": 4,
  "nbformat_minor": 0
}