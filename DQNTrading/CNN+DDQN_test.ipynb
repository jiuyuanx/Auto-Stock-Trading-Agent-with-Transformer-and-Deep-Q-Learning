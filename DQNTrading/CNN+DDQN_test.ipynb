{
  "cells": [
    {
      "cell_type": "code",
      "execution_count": null,
      "metadata": {
        "colab": {
          "base_uri": "https://localhost:8080/"
        },
        "id": "oWuQvqUikqFJ",
        "outputId": "194c381d-a8ed-441c-a00c-9e8d0b882be2"
      },
      "outputs": [
        {
          "name": "stdout",
          "output_type": "stream",
          "text": [
            "ERROR: unknown command \"yfinance\"\n"
          ]
        }
      ],
      "source": [
        "# !pip yfinance -q"
      ]
    },
    {
      "cell_type": "code",
      "execution_count": 710,
      "metadata": {
        "id": "fpUiw8lKIIPg"
      },
      "outputs": [],
      "source": [
        "import yfinance as yf\n",
        "import random \n",
        "import numpy as np\n",
        "import pandas as pd\n",
        "import random\n",
        "import numpy as np\n",
        "from collections import deque, namedtuple\n",
        "import torch\n",
        "import torch.nn as nn\n",
        "import torch.optim as optim\n",
        "import torch.nn.functional as F\n",
        "from torchsummary import summary\n",
        "from tqdm import tqdm\n",
        "import os\n",
        "import gc\n",
        "from matplotlib import pyplot as plt\n",
        "device = torch.device(\"cuda:0\" if torch.cuda.is_available() else \"cpu\")\n",
        "%matplotlib inline\n"
      ]
    },
    {
      "cell_type": "markdown",
      "source": [
        "### **Stock Indicators**"
      ],
      "metadata": {
        "id": "1smLGbdbC6Li"
      }
    },
    {
      "cell_type": "code",
      "execution_count": 814,
      "metadata": {
        "colab": {
          "base_uri": "https://localhost:8080/",
          "height": 595
        },
        "id": "6DSu-oIc6dXz",
        "outputId": "1be2f750-fdc7-43d5-b3ed-164c2e382ff1"
      },
      "outputs": [
        {
          "output_type": "stream",
          "name": "stdout",
          "text": [
            "Used length 1676\n",
            "22\n",
            "Index(['Open', 'High', 'Low', 'Close', 'Volume', 'change', 'SMA10', '14-high',\n",
            "       '14-low', '%K', '%D', 'macd', 'macd_h', 'macd_s', 'cmfv', 'A/D', 'obv',\n",
            "       'ROC', 'wr', 'disparity', 'EWMA30', 'rsi'],\n",
            "      dtype='object')\n"
          ]
        },
        {
          "output_type": "execute_result",
          "data": {
            "text/plain": [
              "            Open        High         Low       Close    Volume    change  \\\n",
              "0      26.450001   26.625000   26.375000   26.500000   99.4556  0.025000   \n",
              "1      26.415001   26.642500   26.410000   26.525000  118.6496  0.025000   \n",
              "2      26.535000   26.700001   26.405001   26.682501  106.8060  0.157501   \n",
              "3      26.924999   27.000000   26.705000   26.932501  107.2100  0.250000   \n",
              "4      26.975000   27.075001   26.877501   26.924999  107.5216 -0.007502   \n",
              "...          ...         ...         ...         ...       ...       ...   \n",
              "1672  165.000000  165.600006  163.889999  165.330002   41.9496  0.309998   \n",
              "1673  165.190002  166.309998  163.729996  163.770004   48.7141 -1.559998   \n",
              "1674  163.059998  165.279999  162.800003  163.759995   45.4988 -0.010009   \n",
              "1675  165.190002  168.559998  165.190002  168.410004   64.9023  4.650009   \n",
              "1676  168.490005  169.850006  167.880005  169.679993   55.2092  1.269989   \n",
              "\n",
              "           SMA10     14-high      14-low         %K  ...    macd_h    macd_s  \\\n",
              "0      26.616500   29.045000   25.632500  80.952381  ...  0.061421  0.440894   \n",
              "1      26.616500   29.045000   25.632500  80.952381  ...  0.061421  0.440894   \n",
              "2      26.616500   29.045000   25.632500  80.952381  ...  0.061421  0.440894   \n",
              "3      26.616500   29.045000   25.632500  80.952381  ...  0.061421  0.440894   \n",
              "4      26.616500   29.045000   25.632500  80.952381  ...  0.061421  0.440894   \n",
              "...          ...         ...         ...        ...  ...       ...       ...   \n",
              "1672  164.800002  168.160004  159.779999  66.229113  ... -0.260908  3.000341   \n",
              "1673  165.097002  168.160004  159.779999  47.613396  ... -0.432403  2.892241   \n",
              "1674  165.463001  168.160004  159.779999  47.493957  ... -0.544232  2.756183   \n",
              "1675  165.748001  168.559998  159.779999  98.291640  ... -0.314170  2.677640   \n",
              "1676  166.195000  169.850006  159.779999  98.311689  ... -0.096866  2.653424   \n",
              "\n",
              "              cmfv           A/D        obv       ROC         wr  disparity  \\\n",
              "0     -2623.141450 -2.623141e+03     0.0000  7.150943 -19.047619  45.787575   \n",
              "1     -3133.536030 -5.756677e+03   118.6496  7.150943 -19.047619  45.787575   \n",
              "2     -2820.202799 -8.576880e+03   225.4556  7.150943 -19.047619  45.787575   \n",
              "3     -2863.037124 -1.143992e+04   332.6656  7.150943 -19.047619  45.787575   \n",
              "4     -2889.915697 -1.432983e+04   225.1440  7.150943 -19.047619  45.787575   \n",
              "...            ...           ...        ...       ...        ...        ...   \n",
              "1672  -6875.112837 -1.527152e+07  6815.6364 -0.181128 -33.770887   4.574498   \n",
              "1673  -7975.974430 -1.527950e+07  6766.9223  0.006112 -52.386604  -4.100374   \n",
              "1674  -7407.208165 -1.528691e+07  6721.4235 -0.546586 -52.506043  -4.161239   \n",
              "1675 -10721.192854 -1.529763e+07  6786.3258  3.937546  -1.708360  22.450438   \n",
              "1676  -9268.511175 -1.530690e+07  6841.5350  5.522382  -1.688311  26.754562   \n",
              "\n",
              "          EWMA30        rsi  \n",
              "0      26.500000  67.134431  \n",
              "1      26.513750  67.134431  \n",
              "2      26.581587  67.134431  \n",
              "3      26.697197  67.134431  \n",
              "4      26.762593  67.134431  \n",
              "...          ...        ...  \n",
              "1672  165.053623  59.225082  \n",
              "1673  164.820238  54.771877  \n",
              "1674  164.627466  54.743436  \n",
              "1675  165.315200  64.076414  \n",
              "1676  166.108799  66.130766  \n",
              "\n",
              "[1677 rows x 22 columns]"
            ],
            "text/html": [
              "\n",
              "  <div id=\"df-5fb81c96-57f7-4a90-a902-5debbf225bd8\">\n",
              "    <div class=\"colab-df-container\">\n",
              "      <div>\n",
              "<style scoped>\n",
              "    .dataframe tbody tr th:only-of-type {\n",
              "        vertical-align: middle;\n",
              "    }\n",
              "\n",
              "    .dataframe tbody tr th {\n",
              "        vertical-align: top;\n",
              "    }\n",
              "\n",
              "    .dataframe thead th {\n",
              "        text-align: right;\n",
              "    }\n",
              "</style>\n",
              "<table border=\"1\" class=\"dataframe\">\n",
              "  <thead>\n",
              "    <tr style=\"text-align: right;\">\n",
              "      <th></th>\n",
              "      <th>Open</th>\n",
              "      <th>High</th>\n",
              "      <th>Low</th>\n",
              "      <th>Close</th>\n",
              "      <th>Volume</th>\n",
              "      <th>change</th>\n",
              "      <th>SMA10</th>\n",
              "      <th>14-high</th>\n",
              "      <th>14-low</th>\n",
              "      <th>%K</th>\n",
              "      <th>...</th>\n",
              "      <th>macd_h</th>\n",
              "      <th>macd_s</th>\n",
              "      <th>cmfv</th>\n",
              "      <th>A/D</th>\n",
              "      <th>obv</th>\n",
              "      <th>ROC</th>\n",
              "      <th>wr</th>\n",
              "      <th>disparity</th>\n",
              "      <th>EWMA30</th>\n",
              "      <th>rsi</th>\n",
              "    </tr>\n",
              "  </thead>\n",
              "  <tbody>\n",
              "    <tr>\n",
              "      <th>0</th>\n",
              "      <td>26.450001</td>\n",
              "      <td>26.625000</td>\n",
              "      <td>26.375000</td>\n",
              "      <td>26.500000</td>\n",
              "      <td>99.4556</td>\n",
              "      <td>0.025000</td>\n",
              "      <td>26.616500</td>\n",
              "      <td>29.045000</td>\n",
              "      <td>25.632500</td>\n",
              "      <td>80.952381</td>\n",
              "      <td>...</td>\n",
              "      <td>0.061421</td>\n",
              "      <td>0.440894</td>\n",
              "      <td>-2623.141450</td>\n",
              "      <td>-2.623141e+03</td>\n",
              "      <td>0.0000</td>\n",
              "      <td>7.150943</td>\n",
              "      <td>-19.047619</td>\n",
              "      <td>45.787575</td>\n",
              "      <td>26.500000</td>\n",
              "      <td>67.134431</td>\n",
              "    </tr>\n",
              "    <tr>\n",
              "      <th>1</th>\n",
              "      <td>26.415001</td>\n",
              "      <td>26.642500</td>\n",
              "      <td>26.410000</td>\n",
              "      <td>26.525000</td>\n",
              "      <td>118.6496</td>\n",
              "      <td>0.025000</td>\n",
              "      <td>26.616500</td>\n",
              "      <td>29.045000</td>\n",
              "      <td>25.632500</td>\n",
              "      <td>80.952381</td>\n",
              "      <td>...</td>\n",
              "      <td>0.061421</td>\n",
              "      <td>0.440894</td>\n",
              "      <td>-3133.536030</td>\n",
              "      <td>-5.756677e+03</td>\n",
              "      <td>118.6496</td>\n",
              "      <td>7.150943</td>\n",
              "      <td>-19.047619</td>\n",
              "      <td>45.787575</td>\n",
              "      <td>26.513750</td>\n",
              "      <td>67.134431</td>\n",
              "    </tr>\n",
              "    <tr>\n",
              "      <th>2</th>\n",
              "      <td>26.535000</td>\n",
              "      <td>26.700001</td>\n",
              "      <td>26.405001</td>\n",
              "      <td>26.682501</td>\n",
              "      <td>106.8060</td>\n",
              "      <td>0.157501</td>\n",
              "      <td>26.616500</td>\n",
              "      <td>29.045000</td>\n",
              "      <td>25.632500</td>\n",
              "      <td>80.952381</td>\n",
              "      <td>...</td>\n",
              "      <td>0.061421</td>\n",
              "      <td>0.440894</td>\n",
              "      <td>-2820.202799</td>\n",
              "      <td>-8.576880e+03</td>\n",
              "      <td>225.4556</td>\n",
              "      <td>7.150943</td>\n",
              "      <td>-19.047619</td>\n",
              "      <td>45.787575</td>\n",
              "      <td>26.581587</td>\n",
              "      <td>67.134431</td>\n",
              "    </tr>\n",
              "    <tr>\n",
              "      <th>3</th>\n",
              "      <td>26.924999</td>\n",
              "      <td>27.000000</td>\n",
              "      <td>26.705000</td>\n",
              "      <td>26.932501</td>\n",
              "      <td>107.2100</td>\n",
              "      <td>0.250000</td>\n",
              "      <td>26.616500</td>\n",
              "      <td>29.045000</td>\n",
              "      <td>25.632500</td>\n",
              "      <td>80.952381</td>\n",
              "      <td>...</td>\n",
              "      <td>0.061421</td>\n",
              "      <td>0.440894</td>\n",
              "      <td>-2863.037124</td>\n",
              "      <td>-1.143992e+04</td>\n",
              "      <td>332.6656</td>\n",
              "      <td>7.150943</td>\n",
              "      <td>-19.047619</td>\n",
              "      <td>45.787575</td>\n",
              "      <td>26.697197</td>\n",
              "      <td>67.134431</td>\n",
              "    </tr>\n",
              "    <tr>\n",
              "      <th>4</th>\n",
              "      <td>26.975000</td>\n",
              "      <td>27.075001</td>\n",
              "      <td>26.877501</td>\n",
              "      <td>26.924999</td>\n",
              "      <td>107.5216</td>\n",
              "      <td>-0.007502</td>\n",
              "      <td>26.616500</td>\n",
              "      <td>29.045000</td>\n",
              "      <td>25.632500</td>\n",
              "      <td>80.952381</td>\n",
              "      <td>...</td>\n",
              "      <td>0.061421</td>\n",
              "      <td>0.440894</td>\n",
              "      <td>-2889.915697</td>\n",
              "      <td>-1.432983e+04</td>\n",
              "      <td>225.1440</td>\n",
              "      <td>7.150943</td>\n",
              "      <td>-19.047619</td>\n",
              "      <td>45.787575</td>\n",
              "      <td>26.762593</td>\n",
              "      <td>67.134431</td>\n",
              "    </tr>\n",
              "    <tr>\n",
              "      <th>...</th>\n",
              "      <td>...</td>\n",
              "      <td>...</td>\n",
              "      <td>...</td>\n",
              "      <td>...</td>\n",
              "      <td>...</td>\n",
              "      <td>...</td>\n",
              "      <td>...</td>\n",
              "      <td>...</td>\n",
              "      <td>...</td>\n",
              "      <td>...</td>\n",
              "      <td>...</td>\n",
              "      <td>...</td>\n",
              "      <td>...</td>\n",
              "      <td>...</td>\n",
              "      <td>...</td>\n",
              "      <td>...</td>\n",
              "      <td>...</td>\n",
              "      <td>...</td>\n",
              "      <td>...</td>\n",
              "      <td>...</td>\n",
              "      <td>...</td>\n",
              "    </tr>\n",
              "    <tr>\n",
              "      <th>1672</th>\n",
              "      <td>165.000000</td>\n",
              "      <td>165.600006</td>\n",
              "      <td>163.889999</td>\n",
              "      <td>165.330002</td>\n",
              "      <td>41.9496</td>\n",
              "      <td>0.309998</td>\n",
              "      <td>164.800002</td>\n",
              "      <td>168.160004</td>\n",
              "      <td>159.779999</td>\n",
              "      <td>66.229113</td>\n",
              "      <td>...</td>\n",
              "      <td>-0.260908</td>\n",
              "      <td>3.000341</td>\n",
              "      <td>-6875.112837</td>\n",
              "      <td>-1.527152e+07</td>\n",
              "      <td>6815.6364</td>\n",
              "      <td>-0.181128</td>\n",
              "      <td>-33.770887</td>\n",
              "      <td>4.574498</td>\n",
              "      <td>165.053623</td>\n",
              "      <td>59.225082</td>\n",
              "    </tr>\n",
              "    <tr>\n",
              "      <th>1673</th>\n",
              "      <td>165.190002</td>\n",
              "      <td>166.309998</td>\n",
              "      <td>163.729996</td>\n",
              "      <td>163.770004</td>\n",
              "      <td>48.7141</td>\n",
              "      <td>-1.559998</td>\n",
              "      <td>165.097002</td>\n",
              "      <td>168.160004</td>\n",
              "      <td>159.779999</td>\n",
              "      <td>47.613396</td>\n",
              "      <td>...</td>\n",
              "      <td>-0.432403</td>\n",
              "      <td>2.892241</td>\n",
              "      <td>-7975.974430</td>\n",
              "      <td>-1.527950e+07</td>\n",
              "      <td>6766.9223</td>\n",
              "      <td>0.006112</td>\n",
              "      <td>-52.386604</td>\n",
              "      <td>-4.100374</td>\n",
              "      <td>164.820238</td>\n",
              "      <td>54.771877</td>\n",
              "    </tr>\n",
              "    <tr>\n",
              "      <th>1674</th>\n",
              "      <td>163.059998</td>\n",
              "      <td>165.279999</td>\n",
              "      <td>162.800003</td>\n",
              "      <td>163.759995</td>\n",
              "      <td>45.4988</td>\n",
              "      <td>-0.010009</td>\n",
              "      <td>165.463001</td>\n",
              "      <td>168.160004</td>\n",
              "      <td>159.779999</td>\n",
              "      <td>47.493957</td>\n",
              "      <td>...</td>\n",
              "      <td>-0.544232</td>\n",
              "      <td>2.756183</td>\n",
              "      <td>-7407.208165</td>\n",
              "      <td>-1.528691e+07</td>\n",
              "      <td>6721.4235</td>\n",
              "      <td>-0.546586</td>\n",
              "      <td>-52.506043</td>\n",
              "      <td>-4.161239</td>\n",
              "      <td>164.627466</td>\n",
              "      <td>54.743436</td>\n",
              "    </tr>\n",
              "    <tr>\n",
              "      <th>1675</th>\n",
              "      <td>165.190002</td>\n",
              "      <td>168.559998</td>\n",
              "      <td>165.190002</td>\n",
              "      <td>168.410004</td>\n",
              "      <td>64.9023</td>\n",
              "      <td>4.650009</td>\n",
              "      <td>165.748001</td>\n",
              "      <td>168.559998</td>\n",
              "      <td>159.779999</td>\n",
              "      <td>98.291640</td>\n",
              "      <td>...</td>\n",
              "      <td>-0.314170</td>\n",
              "      <td>2.677640</td>\n",
              "      <td>-10721.192854</td>\n",
              "      <td>-1.529763e+07</td>\n",
              "      <td>6786.3258</td>\n",
              "      <td>3.937546</td>\n",
              "      <td>-1.708360</td>\n",
              "      <td>22.450438</td>\n",
              "      <td>165.315200</td>\n",
              "      <td>64.076414</td>\n",
              "    </tr>\n",
              "    <tr>\n",
              "      <th>1676</th>\n",
              "      <td>168.490005</td>\n",
              "      <td>169.850006</td>\n",
              "      <td>167.880005</td>\n",
              "      <td>169.679993</td>\n",
              "      <td>55.2092</td>\n",
              "      <td>1.269989</td>\n",
              "      <td>166.195000</td>\n",
              "      <td>169.850006</td>\n",
              "      <td>159.779999</td>\n",
              "      <td>98.311689</td>\n",
              "      <td>...</td>\n",
              "      <td>-0.096866</td>\n",
              "      <td>2.653424</td>\n",
              "      <td>-9268.511175</td>\n",
              "      <td>-1.530690e+07</td>\n",
              "      <td>6841.5350</td>\n",
              "      <td>5.522382</td>\n",
              "      <td>-1.688311</td>\n",
              "      <td>26.754562</td>\n",
              "      <td>166.108799</td>\n",
              "      <td>66.130766</td>\n",
              "    </tr>\n",
              "  </tbody>\n",
              "</table>\n",
              "<p>1677 rows × 22 columns</p>\n",
              "</div>\n",
              "      <button class=\"colab-df-convert\" onclick=\"convertToInteractive('df-5fb81c96-57f7-4a90-a902-5debbf225bd8')\"\n",
              "              title=\"Convert this dataframe to an interactive table.\"\n",
              "              style=\"display:none;\">\n",
              "        \n",
              "  <svg xmlns=\"http://www.w3.org/2000/svg\" height=\"24px\"viewBox=\"0 0 24 24\"\n",
              "       width=\"24px\">\n",
              "    <path d=\"M0 0h24v24H0V0z\" fill=\"none\"/>\n",
              "    <path d=\"M18.56 5.44l.94 2.06.94-2.06 2.06-.94-2.06-.94-.94-2.06-.94 2.06-2.06.94zm-11 1L8.5 8.5l.94-2.06 2.06-.94-2.06-.94L8.5 2.5l-.94 2.06-2.06.94zm10 10l.94 2.06.94-2.06 2.06-.94-2.06-.94-.94-2.06-.94 2.06-2.06.94z\"/><path d=\"M17.41 7.96l-1.37-1.37c-.4-.4-.92-.59-1.43-.59-.52 0-1.04.2-1.43.59L10.3 9.45l-7.72 7.72c-.78.78-.78 2.05 0 2.83L4 21.41c.39.39.9.59 1.41.59.51 0 1.02-.2 1.41-.59l7.78-7.78 2.81-2.81c.8-.78.8-2.07 0-2.86zM5.41 20L4 18.59l7.72-7.72 1.47 1.35L5.41 20z\"/>\n",
              "  </svg>\n",
              "      </button>\n",
              "      \n",
              "  <style>\n",
              "    .colab-df-container {\n",
              "      display:flex;\n",
              "      flex-wrap:wrap;\n",
              "      gap: 12px;\n",
              "    }\n",
              "\n",
              "    .colab-df-convert {\n",
              "      background-color: #E8F0FE;\n",
              "      border: none;\n",
              "      border-radius: 50%;\n",
              "      cursor: pointer;\n",
              "      display: none;\n",
              "      fill: #1967D2;\n",
              "      height: 32px;\n",
              "      padding: 0 0 0 0;\n",
              "      width: 32px;\n",
              "    }\n",
              "\n",
              "    .colab-df-convert:hover {\n",
              "      background-color: #E2EBFA;\n",
              "      box-shadow: 0px 1px 2px rgba(60, 64, 67, 0.3), 0px 1px 3px 1px rgba(60, 64, 67, 0.15);\n",
              "      fill: #174EA6;\n",
              "    }\n",
              "\n",
              "    [theme=dark] .colab-df-convert {\n",
              "      background-color: #3B4455;\n",
              "      fill: #D2E3FC;\n",
              "    }\n",
              "\n",
              "    [theme=dark] .colab-df-convert:hover {\n",
              "      background-color: #434B5C;\n",
              "      box-shadow: 0px 1px 3px 1px rgba(0, 0, 0, 0.15);\n",
              "      filter: drop-shadow(0px 1px 2px rgba(0, 0, 0, 0.3));\n",
              "      fill: #FFFFFF;\n",
              "    }\n",
              "  </style>\n",
              "\n",
              "      <script>\n",
              "        const buttonEl =\n",
              "          document.querySelector('#df-5fb81c96-57f7-4a90-a902-5debbf225bd8 button.colab-df-convert');\n",
              "        buttonEl.style.display =\n",
              "          google.colab.kernel.accessAllowed ? 'block' : 'none';\n",
              "\n",
              "        async function convertToInteractive(key) {\n",
              "          const element = document.querySelector('#df-5fb81c96-57f7-4a90-a902-5debbf225bd8');\n",
              "          const dataTable =\n",
              "            await google.colab.kernel.invokeFunction('convertToInteractive',\n",
              "                                                     [key], {});\n",
              "          if (!dataTable) return;\n",
              "\n",
              "          const docLinkHtml = 'Like what you see? Visit the ' +\n",
              "            '<a target=\"_blank\" href=https://colab.research.google.com/notebooks/data_table.ipynb>data table notebook</a>'\n",
              "            + ' to learn more about interactive tables.';\n",
              "          element.innerHTML = '';\n",
              "          dataTable['output_type'] = 'display_data';\n",
              "          await google.colab.output.renderOutput(dataTable, element);\n",
              "          const docLink = document.createElement('div');\n",
              "          docLink.innerHTML = docLinkHtml;\n",
              "          element.appendChild(docLink);\n",
              "        }\n",
              "      </script>\n",
              "    </div>\n",
              "  </div>\n",
              "  "
            ]
          },
          "metadata": {},
          "execution_count": 814
        }
      ],
      "source": [
        "def technical_indicators(df):\n",
        "  df['Volume']=df['Volume']/1000000\n",
        "  df_close=df['Close']\n",
        "  df_close=pd.DataFrame(df_close, columns=['Close'])\n",
        "  df11=df_close.reset_index()\n",
        "  #RSI\n",
        "  df11['change'] = df11['Close'].diff()\n",
        "  df['change']=df11['change']\n",
        "    #SMA  #10days\n",
        "  df['SMA10'] = df11['Close'].rolling(10).mean()\n",
        "    #EMA\n",
        "  df11['EWMA30'] = df11['Close'].ewm(span=10).mean()\n",
        "\n",
        "  # df['delta']=(df['change']>0)*1.\n",
        "  def rma(x, n):\n",
        "      \"\"\"Running moving average\"\"\"\n",
        "      a = np.full_like(x, np.nan)\n",
        "      a[n] = x[1:n+1].mean()\n",
        "      for i in range(n+1, len(x)):\n",
        "          a[i] = (a[i-1] * (n - 1) + x[i]) / n\n",
        "      return a\n",
        "\n",
        "  df11['gain'] = df11.change.mask(df11.change < 0, 0.0)\n",
        "  df11['loss'] = -df11.change.mask(df11.change > 0, -0.0)\n",
        "  df11['avg_gain'] = rma(df11.gain.to_numpy(), 14)        \n",
        "  df11['avg_loss'] = rma(df11.loss.to_numpy(), 14)     \n",
        "  df11['rs'] = df11.avg_gain / df11.avg_loss\n",
        "  df11['rsi'] = 100 - (100 / (1 + df11.rs))\n",
        "\n",
        "   #stochastic oscillator\n",
        "  df['14-high'] = df['High'].rolling(14).max()\n",
        "  df['14-low'] = df['Low'].rolling(14).min()\n",
        "  df['%K'] = (df['Close'] - df['14-low'])*100/(df['14-high'] - df['14-low'])\n",
        "  df['%D'] = df['%K'].rolling(3).mean() \n",
        "\n",
        "  #MACD\n",
        "  k = df['Close'].ewm(span=12, adjust=False, min_periods=12).mean()\n",
        "  d = df['Close'].ewm(span=26, adjust=False, min_periods=26).mean()\n",
        "  macd = k - d\n",
        "  macd_s = macd.ewm(span=9, adjust=False, min_periods=9).mean()\n",
        "  macd_h = macd - macd_s\n",
        "\n",
        "  df['macd'] = df.index.map(macd)\n",
        "  df['macd_h'] = df.index.map(macd_h)\n",
        "  df['macd_s'] = df.index.map(macd_s)\n",
        "    #A/D\n",
        "  df['cmfv'] = ((df['Close']-df['Low'])-(df['High']-df['Close']))/df['High']-df['Low']*df['Volume']\n",
        "  df['A/D'] = df['cmfv'].cumsum()\n",
        "\n",
        "    #OBV\n",
        "  df['obv'] = (np.sign(df['Close'].diff()) * df['Volume']).fillna(0).cumsum()\n",
        "  #ROC\n",
        "  N=df['Close'].diff(13)\n",
        "  D=df['Close'].shift(13)\n",
        "  df['ROC'] = pd.Series(100*N/D)\n",
        "\n",
        "  #william R\n",
        "  highh = df['High'].rolling(14).max() \n",
        "  lowl = df['Low'].rolling(14).min()\n",
        "  df['wr'] = -100 * ((highh - df['Close']) / (highh - lowl))\n",
        "\n",
        "  #disparity index\n",
        "  ma = df['Close'].rolling(14).mean()\n",
        "  df['disparity'] = ((df['Close'] - ma) / ma) * 1000\n",
        "\n",
        "\n",
        "  df11.drop(columns=['Close','change','index','gain','loss','avg_gain','avg_loss','rs'], inplace=True)\n",
        "  df_cat=pd.concat([df, df11], axis=1)\n",
        "  df_cat.fillna(method='bfill', axis=0, inplace=True)\n",
        "  df_cat.fillna(method='ffill', axis=0, inplace=True)\n",
        "  return df_cat\n",
        "\n",
        "dir=[\"AAPL\"]\n",
        "dfs=[]\n",
        "for i in range(len(dir)):\n",
        "  Stock = pd.read_csv(dir[i]+\".csv\")\n",
        "  USED_LENGTH=int(0.5*len(Stock))\n",
        "  Stock = (Stock.iloc[USED_LENGTH:]).reset_index()    #only use generate prediction\n",
        "  df=technical_indicators(Stock).drop(columns=['Date','Adj Close','index'])\n",
        "  dfs.append(df)\n",
        "\n",
        "\n",
        "print(\"Used length\", USED_LENGTH)\n",
        "assert(len(dfs)==len(dir))\n",
        "\n",
        "FEATURE=dfs[0].shape[-1]\n",
        "print(FEATURE)\n",
        "print(dfs[0].columns)\n",
        "dfs[0]\n"
      ]
    },
    {
      "cell_type": "code",
      "execution_count": 815,
      "metadata": {
        "colab": {
          "base_uri": "https://localhost:8080/"
        },
        "id": "yl2rpSlrkMNT",
        "outputId": "109b10ba-1c1a-40d7-eeb4-4a11a2d8c1ea"
      },
      "outputs": [
        {
          "output_type": "stream",
          "name": "stdout",
          "text": [
            "(1677, 22)\n"
          ]
        }
      ],
      "source": [
        "#Normalize time series\n",
        "# Scalers = [ StandardScaler() for _ in range(len(dfs)) ]\n",
        "dfs_standard=[]\n",
        "for i in range(len(dfs)):\n",
        "  dataset_standard = dfs[i]#Scalers[i].fit_transform(dfs[i])\n",
        "  dfs_standard.append(dataset_standard)\n",
        "\n",
        "print(dfs_standard[0].shape)"
      ]
    },
    {
      "cell_type": "code",
      "execution_count": 816,
      "metadata": {
        "colab": {
          "base_uri": "https://localhost:8080/",
          "height": 448
        },
        "id": "8HcpCzTJ8mzq",
        "outputId": "8a342291-244b-48a5-e9c2-769fcb1acf76"
      },
      "outputs": [
        {
          "output_type": "execute_result",
          "data": {
            "text/plain": [
              "[<matplotlib.lines.Line2D at 0x7f6342516050>]"
            ]
          },
          "metadata": {},
          "execution_count": 816
        },
        {
          "output_type": "display_data",
          "data": {
            "text/plain": [
              "<Figure size 640x480 with 1 Axes>"
            ],
            "image/png": "[encoded data removed]"
          },
          "metadata": {}
        }
      ],
      "source": [
        "stock_price_array=np.array(dfs_standard[0])[:,3]   #Price   3\n",
        "plt.plot(stock_price_array, linewidth=0.8)\n",
        "\n",
        "# plt.annotate(\"AAPL\",xy=(0,30),textcoords='offset points', fontsize=20)"
      ]
    },
    {
      "cell_type": "code",
      "source": [
        "stock_price_array=np.array(dfs_standard[0])[:,3]\n",
        "stock_array=np.array(dfs_standard[0])\n",
        "print(stock_array.shape)"
      ],
      "metadata": {
        "colab": {
          "base_uri": "https://localhost:8080/"
        },
        "id": "-Ju-aoWylWwJ",
        "outputId": "b2953fc6-be81-4358-8745-0ff6b2c20e53"
      },
      "execution_count": 817,
      "outputs": [
        {
          "output_type": "stream",
          "name": "stdout",
          "text": [
            "(1677, 22)\n"
          ]
        }
      ]
    },
    {
      "cell_type": "markdown",
      "source": [
        "### **Train Test Split**"
      ],
      "metadata": {
        "id": "HIcs6e2yM3ds"
      }
    },
    {
      "cell_type": "code",
      "execution_count": 818,
      "metadata": {
        "id": "oECKPjy9aOES",
        "colab": {
          "base_uri": "https://localhost:8080/",
          "height": 557
        },
        "outputId": "c9ce4d83-692d-47c2-b051-911647462700"
      },
      "outputs": [
        {
          "output_type": "stream",
          "name": "stdout",
          "text": [
            "1006\n",
            "X_train length 1006\n",
            "X_test length 671\n"
          ]
        },
        {
          "output_type": "stream",
          "name": "stderr",
          "text": [
            "<ipython-input-818-c1aa4a35eb3e>:17: UserWarning: You have used the `textcoords` kwarg, but not the `xytext` kwarg.  This can lead to surprising results.\n",
            "  plt.annotate(\"AAPL\",xy=(0,20),textcoords='offset points', fontsize=20)\n"
          ]
        },
        {
          "output_type": "execute_result",
          "data": {
            "text/plain": [
              "Text(0, 20, 'AAPL')"
            ]
          },
          "metadata": {},
          "execution_count": 818
        },
        {
          "output_type": "display_data",
          "data": {
            "text/plain": [
              "<Figure size 640x480 with 1 Axes>"
            ],
            "image/png": "[encoded data removed]"
          },
          "metadata": {}
        }
      ],
      "source": [
        "used_length=int(len(stock_array)*0.6)\n",
        "\n",
        "stock_price_train=stock_price_array[:used_length]\n",
        "stock_train=stock_array.copy()[:used_length]\n",
        "\n",
        "stock_price_test=stock_price_array[used_length:]\n",
        "stock_test=stock_array[used_length:]\n",
        "\n",
        "print(used_length)\n",
        "\n",
        "print(\"X_train length\", len(stock_train))\n",
        "print(\"X_test length\", len(stock_test))\n",
        "\n",
        "plt.plot(stock_price_train,label='Training')\n",
        "plt.plot(np.arange(len(stock_price_train),len(stock_array)),stock_price_test, label='Testing')\n",
        "plt.legend()\n",
        "plt.annotate(\"AAPL\",xy=(0,20),textcoords='offset points', fontsize=20)"
      ]
    },
    {
      "cell_type": "markdown",
      "source": [
        "### **Use Transformer Generated Prediction**"
      ],
      "metadata": {
        "id": "HH44sovXB6r5"
      }
    },
    {
      "cell_type": "code",
      "execution_count": 819,
      "metadata": {
        "colab": {
          "base_uri": "https://localhost:8080/"
        },
        "id": "9WGw7Zlu9dYE",
        "outputId": "9b46120f-e479-426d-9acb-9fbf20613c79"
      },
      "outputs": [
        {
          "output_type": "execute_result",
          "data": {
            "text/plain": [
              "(1006, 22)"
            ]
          },
          "metadata": {},
          "execution_count": 819
        }
      ],
      "source": [
        "stock_train.shape"
      ]
    },
    {
      "cell_type": "code",
      "source": [
        "transformer_pred = np.array(pd.read_csv(\"AAPL_Pred.csv\"))[USED_LENGTH:, 1:]\n",
        "print(transformer_pred.shape)\n",
        "transformer_pred_train=transformer_pred[:used_length]\n",
        "transformer_pred_test=transformer_pred[used_length:]\n",
        "\n",
        "print(\"pred train len\",transformer_pred_train.shape)\n",
        "print(\"pred test len\",transformer_pred_test.shape)"
      ],
      "metadata": {
        "colab": {
          "base_uri": "https://localhost:8080/"
        },
        "id": "EJ6p-OlonQuu",
        "outputId": "c0d46c39-0fd2-49ad-8b6e-8c69a9246c5b"
      },
      "execution_count": 820,
      "outputs": [
        {
          "output_type": "stream",
          "name": "stdout",
          "text": [
            "(1677, 7)\n",
            "pred train len (1006, 7)\n",
            "pred test len (671, 7)\n"
          ]
        }
      ]
    },
    {
      "cell_type": "markdown",
      "source": [
        "### **Visualize Actual & Prediction**"
      ],
      "metadata": {
        "id": "Q8vekBBjM9Vm"
      }
    },
    {
      "cell_type": "code",
      "execution_count": 821,
      "metadata": {
        "colab": {
          "base_uri": "https://localhost:8080/",
          "height": 448
        },
        "id": "utEuH3PD5d6T",
        "outputId": "ef07d14f-e69f-4a68-a592-9f71d0791a38"
      },
      "outputs": [
        {
          "output_type": "execute_result",
          "data": {
            "text/plain": [
              "<matplotlib.legend.Legend at 0x7f63424120e0>"
            ]
          },
          "metadata": {},
          "execution_count": 821
        },
        {
          "output_type": "display_data",
          "data": {
            "text/plain": [
              "<Figure size 640x480 with 1 Axes>"
            ],
            "image/png": "[encoded data removed]"
          },
          "metadata": {}
        }
      ],
      "source": [
        "plt.plot(stock_price_train,label='Actual price Train', color='royalblue')\n",
        "plt.plot(np.arange(len(stock_price_train),len(stock_price_train)+len(stock_price_test)),stock_price_test,label='Actual price Test', color='green')\n",
        "plt.plot(transformer_pred_train[:,0], label='Generated prediction train',linewidth=0.8, color='tomato')\n",
        "plt.plot(np.arange(len(stock_price_train),len(stock_price_train)+len(stock_price_test)),transformer_pred_test[:,0], label='Generated prediction test',linewidth=0.8, color='tomato')\n",
        "plt.legend()"
      ]
    },
    {
      "cell_type": "code",
      "source": [
        "stock_price_train.max()"
      ],
      "metadata": {
        "colab": {
          "base_uri": "https://localhost:8080/"
        },
        "id": "xDhSVMtdrCTQ",
        "outputId": "d2c5fd6c-9eae-41b6-bc31-d6c437262f4f"
      },
      "execution_count": 822,
      "outputs": [
        {
          "output_type": "execute_result",
          "data": {
            "text/plain": [
              "126.522499"
            ]
          },
          "metadata": {},
          "execution_count": 822
        }
      ]
    },
    {
      "cell_type": "code",
      "source": [
        "transformer_pred[0]   #each day we have a window of prediction of next 7 days"
      ],
      "metadata": {
        "colab": {
          "base_uri": "https://localhost:8080/"
        },
        "id": "_Hu-HzHxpbNS",
        "outputId": "3f450172-f7fe-4290-ffb3-de5c11a1bb07"
      },
      "execution_count": 823,
      "outputs": [
        {
          "output_type": "execute_result",
          "data": {
            "text/plain": [
              "array([25.217367, 25.249771, 25.186594, 25.253185, 25.226475, 25.187412,\n",
              "       25.199465])"
            ]
          },
          "metadata": {},
          "execution_count": 823
        }
      ]
    },
    {
      "cell_type": "markdown",
      "source": [
        "### **Create Trading Game**"
      ],
      "metadata": {
        "id": "goW8NBgpCCSu"
      }
    },
    {
      "cell_type": "code",
      "execution_count": 824,
      "metadata": {
        "id": "LrDCrwSl6hNj"
      },
      "outputs": [],
      "source": [
        "TRANSACTION=0.0001\n",
        "CONTEXT=30\n",
        "LOOK_FORWARD=7\n",
        "class Game:  # Create tradin game step day by day through the stock, look at a window of prices, and try to make actions at each timestep\n",
        "    def __init__(self, w=CONTEXT, stock=stock_train, stock_price=stock_price_train, transformer_pred=transformer_pred_train):\n",
        "        self.w = w #window size\n",
        "        self.stock=stock\n",
        "        self.stock_price=stock_price\n",
        "        self.transformer_pred=transformer_pred\n",
        "        self.reset() \n",
        "\n",
        "    def reset(self):\n",
        "        # restart game, initialize game state\n",
        "        self.money=1000000 \n",
        "        self.positions=10000   # shares holding\n",
        "\n",
        "        self.today=CONTEXT-LOOK_FORWARD-1      #30- 7-1   =22           0~22,      22 ,     23~29\n",
        "        self.inital_property=self.positions*self.stock_price[self.today]+self.money  #initial total investment = 10,000 shares + cash\n",
        "\n",
        "        \n",
        "        self.window_right=self.w-1   #29\n",
        "        self.window_left=0         \n",
        "        \n",
        "        self.today_price = self.stock_price[self.today]        \n",
        "        self.window = self.stock_price[ self.window_left:self.today+1] #price    0~14\n",
        "\n",
        "        self.window_all=self.stock[ self.window_left:self.today+1]  #22 features\n",
        "        \n",
        "        self.previous_reward=0  #to store and plot the mean reward during each game to see if improves\n",
        "        self.yesterday_property= self.inital_property\n",
        "        self.profit=0 \n",
        "        \n",
        "        \n",
        "        self.money_record=[self.money]*CONTEXT\n",
        "        self.positions_record=[self.positions]*CONTEXT\n",
        "\n",
        "        self.money_window=self.money_record[self.window_left:self.today+1]\n",
        "        self.positions_window=self.positions_record[self.window_left:self.today+1]\n",
        "\n",
        "        self.window_pred=self.transformer_pred[self.today]   # transformer predictions\n",
        "\n",
        "        \n",
        "    def play_step(self, action):\n",
        "        self.yesterday_price=self.money\n",
        "        self.yesterday_property=(self.money + self.today_price*self.positions )\n",
        "\n",
        "        # 2. make a move, compute money, update positions\n",
        "        self.money=self.money - self.today_price * action\n",
        "         #update positions\n",
        "        self.positions += action     #shares in hand\n",
        "\n",
        "        self.money_record.append(self.money)\n",
        "        self.positions_record.append(self.positions)\n",
        "\n",
        "        self.today += 1  # update the head and window\n",
        "        self.today_price=self.stock_price[self.today] \n",
        "        #move window forward\n",
        "        self.window_left += 1 \n",
        "        self.window_right += 1 \n",
        "\n",
        "        self.window=self.stock_price[self.window_left:self.today+1]       #past prices\n",
        "\n",
        "        self.window_all=self.stock[self.window_left:self.today+1]         #past indicators\n",
        "\n",
        "        self.window_pred=self.transformer_pred[self.today+1]   # transformer predictions\n",
        "\n",
        "\n",
        "        self.money_window=self.money_record[self.window_left:self.today+1]\n",
        "        self.positions_window=self.positions_record[self.window_left:self.today+1]\n",
        "\n",
        "\n",
        "        # 3. check if game over\n",
        "        game_over = False\n",
        "\n",
        "        if self.is_collision():\n",
        "            \n",
        "            game_over = True\n",
        "            reward = (self.money + self.today_price*self.positions ) - self.yesterday_property      -  abs(action)*TRANSACTION\n",
        "            # reward/=10\n",
        "            reward = reward+ 20*(self.window_pred.mean() - self.window_pred[0]) * action\n",
        "            #calculate profit at the end of each game\n",
        "            self.profit= ((self.money + self.today_price*self.positions )-self.inital_property) /self.inital_property  #profitability at the end of each game\n",
        "            \n",
        "            return reward, game_over\n",
        "\n",
        "        #the reward function will be defined as the difference between the portfolio value \n",
        "        #at the end of the time step and the portfolio value at the beginning of the time step.\n",
        "\n",
        "        reward= (self.money + self.today_price*self.positions ) - self.yesterday_property            -  abs(action)*TRANSACTION\n",
        "        # reward/=10\n",
        "        \n",
        "        # print(\"curriculum\",0.1*(self.right_mean-self.left_mean)*action \n",
        "        reward= reward+ 20*(self.window_pred.mean()- self.window_pred[0]) * action \n",
        "                #curriculum1: if right mean > left mean, and you buy today, then reward the agent, vice versa for sell\n",
        "                \n",
        "        return reward, game_over\n",
        "\n",
        "\n",
        "    def is_collision(self):\n",
        "        # hits boundary \n",
        "        if self.window_right>len(self.stock_price)-2:\n",
        "            return 1\n",
        "        return 0\n"
      ]
    },
    {
      "cell_type": "code",
      "source": [
        "stock_train.shape"
      ],
      "metadata": {
        "colab": {
          "base_uri": "https://localhost:8080/"
        },
        "id": "5l6ZPjXEH9LL",
        "outputId": "60b22ca4-6282-441e-d22a-5e71496e0d43"
      },
      "execution_count": 825,
      "outputs": [
        {
          "output_type": "execute_result",
          "data": {
            "text/plain": [
              "(1006, 22)"
            ]
          },
          "metadata": {},
          "execution_count": 825
        }
      ]
    },
    {
      "cell_type": "markdown",
      "source": [
        "### **Define State, Action Space**"
      ],
      "metadata": {
        "id": "K_oIAmGoBp8E"
      }
    },
    {
      "cell_type": "code",
      "execution_count": 826,
      "metadata": {
        "colab": {
          "base_uri": "https://localhost:8080/"
        },
        "id": "ZDSyHgyEnpXQ",
        "outputId": "0e42cf64-3874-4f12-b462-323838181b16"
      },
      "outputs": [
        {
          "output_type": "stream",
          "name": "stdout",
          "text": [
            "State size: 24\n",
            "Action_size: 11\n",
            "Action_space: [-2000, -1600, -1200, -800, -400, 0, 400, 800, 1200, 1600, 2000]\n"
          ]
        }
      ],
      "source": [
        "STATE_SIZE=2+ stock_train.shape[-1] #prices in window + position and money in hand\n",
        "print(\"State size:\", STATE_SIZE)  # state size is of length CONTEXT  * customized dimensions \n",
        "ACTION_SPACE=np.arange(-2000,2001,400).tolist()    #actions\n",
        "ACTION_SIZE=len(ACTION_SPACE)\n",
        "print(\"Action_size:\", ACTION_SIZE)\n",
        "print(\"Action_space:\", ACTION_SPACE)"
      ]
    },
    {
      "cell_type": "markdown",
      "source": [
        "### **Build Double Q leaning**"
      ],
      "metadata": {
        "id": "aq8dd4vlCHbp"
      }
    },
    {
      "cell_type": "code",
      "execution_count": 827,
      "metadata": {
        "id": "HWA0gUw0QXiQ"
      },
      "outputs": [],
      "source": [
        "MAX_MEMORY = 10000 # record 40000 state, action, reward, next_state, done tuples\n",
        "BATCH_SIZE = 512\n",
        "criterion = nn.SmoothL1Loss()\n",
        "LR = 0.001\n",
        "GAMMA=0.999\n",
        "TAU=0.5\n",
        "Q_UPDATE_FREQ=20\n",
        "#Qnet for a given state action pair gives value\n",
        "class QNetwork(nn.Module):\n",
        "    def __init__(self, state_size=STATE_SIZE, action_size=ACTION_SIZE, hidden_size=256):\n",
        "        super(QNetwork, self).__init__()\n",
        "        self.embedding=nn.Sequential(\n",
        "        nn.Conv1d(state_size, hidden_size, kernel_size=5, stride=1, padding=2, bias=False ),\n",
        "        nn.GELU(),\n",
        "        nn.BatchNorm1d(hidden_size),\n",
        "\n",
        "        nn.Conv1d(hidden_size, hidden_size, kernel_size=3, stride=1, padding=1, bias=False ),\n",
        "        nn.BatchNorm1d(hidden_size),\n",
        "        )\n",
        "\n",
        "        self.fc=nn.Sequential(\n",
        "            \n",
        "        nn.Linear(hidden_size, hidden_size),\n",
        "        nn.GELU(),\n",
        "        nn.Linear(hidden_size, hidden_size),\n",
        "        nn.GELU(),\n",
        "        nn.Linear(hidden_size, hidden_size),\n",
        "        nn.GELU()\n",
        "        )\n",
        "        self.Linear_out=nn.Linear(hidden_size * CONTEXT, action_size)\n",
        "    def forward(self, x):\n",
        "        #batch * feature * length \n",
        "        out=self.embedding(torch.transpose(x,1,2))  \n",
        "        out=self.fc(torch.transpose(out,1,2))\n",
        "\n",
        "        out=self.Linear_out(    out.flatten(1)   )\n",
        "        return out\n",
        "\n",
        "class DoubleDQN:\n",
        "    def __init__(self, state_size=STATE_SIZE, action_size=ACTION_SIZE, hidden_size=256, lr=LR, tau=TAU,\n",
        "                 q_update_freq=Q_UPDATE_FREQ, \n",
        "                 ):\n",
        "        self.q_net = QNetwork(state_size, action_size, hidden_size)\n",
        "        self.target_q_net = QNetwork(state_size, action_size, hidden_size)\n",
        "        self.target_q_net.load_state_dict(self.q_net.state_dict())\n",
        "\n",
        "        self.optimizer = optim.Adam(self.q_net.parameters(), lr=lr)\n",
        "        self.tau = tau\n",
        "        self.total_steps=0\n",
        "        self.q_update_freq=q_update_freq\n",
        "\n",
        "    def soft_update(self):\n",
        "        if self.total_steps % self.q_update_freq==0:\n",
        "          for target_param, param in zip(self.target_q_net.parameters(), self.q_net.parameters()):\n",
        "              target_param.data.copy_(self.tau * param.data + (1-self.tau) * target_param.data)\n",
        "\n",
        "    def train_step(self, state, action, reward, next_state, done):\n",
        "      self.total_steps += 1\n",
        "\n",
        "      states_tensor = torch.FloatTensor(state)  #batch_size * state_size \n",
        "      actions_tensor = torch.LongTensor(action)  #batch_size\n",
        "      rewards_tensor = torch.FloatTensor(reward) #batch_size\n",
        "      next_states_tensor = torch.FloatTensor(next_state)  #batch_size * state_size \n",
        "      dones_tensor = torch.BoolTensor(done)  #batch_size\n",
        "\n",
        "      with torch.no_grad():\n",
        "        q_next=self.target_q_net(next_states_tensor) #use 2-Qnet to estimate target Q\n",
        "        max_q_next,_ = torch.max(q_next, dim=1)\n",
        "        q_target = rewards_tensor + GAMMA * max_q_next * (~dones_tensor)\n",
        "\n",
        "      q_pred = self.q_net(states_tensor)    #use 1-Qnet to get current Q rped\n",
        "      actions_index=[]\n",
        "      for b in range(BATCH_SIZE):\n",
        "        actions_index.append(ACTION_SPACE.index(actions_tensor[b]))\n",
        "      actions_index=torch.tensor(actions_index, dtype=torch.int64)\n",
        "\n",
        "      q_values_pred_selected = q_pred.gather(1, actions_index.unsqueeze(1)).squeeze(1)\n",
        "\n",
        "      loss = criterion(q_values_pred_selected, q_target) /(BATCH_SIZE)           \n",
        "\n",
        "      self.optimizer.zero_grad()\n",
        "      loss.backward()\n",
        "      torch.nn.utils.clip_grad_norm_(self.q_net.parameters(), 1e+8)\n",
        "      self.optimizer.step()\n",
        "\n",
        "      self.soft_update()\n",
        "\n",
        "      return loss.item()"
      ]
    },
    {
      "cell_type": "markdown",
      "source": [
        "### **Create Agent that play the game and sample experiences to train**"
      ],
      "metadata": {
        "id": "3Nlbmo4dCa8T"
      }
    },
    {
      "cell_type": "code",
      "execution_count": 828,
      "metadata": {
        "id": "a1b7ocD8enyk"
      },
      "outputs": [],
      "source": [
        "class Agent:\n",
        "    def __init__(self):\n",
        "        self.n_games = 0\n",
        "        self.trainer = DoubleDQN() \n",
        "        self.memory = deque(maxlen=MAX_MEMORY) # a collection of past experiences \n",
        "\n",
        "    def get_state(self, game):\n",
        "\n",
        "        window_all=np.array(game.window_all )\n",
        "        money_window=(np.array(game.money_window)/10000).reshape(-1,1)   #your money\n",
        "        positions_window=(np.array(game.positions_window)/100).reshape(-1,1)\n",
        "        \n",
        "        pred_window = np.array(game.window_pred ).reshape(-1,1)\n",
        "\n",
        "        assert(game.money>=0.0)\n",
        "        assert(game.positions>=0.0)\n",
        "\n",
        "        state= np.concatenate( [positions_window, money_window, window_all], axis=-1  ) # 23, 24\n",
        "\n",
        "        pred_window_repeat=np.repeat(pred_window, state.shape[-1], axis=-1)   #7, 24\n",
        "\n",
        "        state=np.concatenate([state, pred_window_repeat], axis=0)   #30, 24\n",
        "\n",
        "        return state\n",
        "\n",
        "    def remember(self, state, action, reward, next_state, done):\n",
        "        # state=(state- np.mean(state,axis=0))/np.std(state,axis=0) #normalize\n",
        "        reward/=100\n",
        "        self.memory.append((state, action, reward, next_state, done)) # popleft if MAX_MEMORY is reached\n",
        "\n",
        "\n",
        "    def train_batch_experience(self):\n",
        "\n",
        "        if len(self.memory) >= BATCH_SIZE:\n",
        "            batch_sample = random.sample(self.memory, BATCH_SIZE)  # list of tuples\n",
        "            #pass in batch to train\n",
        "            states, actions, rewards, next_states, dones = zip(*batch_sample)\n",
        "            # print(\"states\", states.shape)\n",
        "            loss=self.trainer.train_step(states, actions, rewards, next_states, dones)\n",
        "            return loss\n",
        "        return 0.\n",
        "            \n",
        "    def get_action(self, state, game):    # e p s i l o n greedy---------------------------------------------------------------------------------\n",
        "        #80% possibility of taking random action. decrease in time\n",
        "        self.epsilon = 100 - self.n_games//2   #2 games reduce 1% chance of choosing action other than the best action\n",
        "        if self.epsilon<6:\n",
        "          self.epsilon=6 #not allowing below 10%  randomness\n",
        "        position=game.positions\n",
        "        money=game.money\n",
        "\n",
        "        today_price=game.today_price\n",
        "\n",
        "        final_move=0.\n",
        "        #explore random actions\n",
        "        if random.randint(0, 100) < max(self.epsilon,0) or (len(self.memory) <= BATCH_SIZE):\n",
        "            actions=np.array(ACTION_SPACE)\n",
        "            final_move=np.random.choice(actions)  \n",
        "            #cannot buy more than the money you have, find closest value in the action space\n",
        "            if final_move>0 and final_move*today_price >= money:\n",
        "              for a in reversed(ACTION_SPACE): # find action that doesn't use up all your money in action space\n",
        "                if a>=0 and a*today_price < money:\n",
        "                  return a\n",
        "              \n",
        "            if final_move<0 and final_move<-position:    \n",
        "              for a in ACTION_SPACE:  #find action that doesn't sell all your shares in action space\n",
        "                if a<=0 and a+position>=0:\n",
        "                  return a\n",
        "\n",
        "        #take max q action\n",
        "        else:\n",
        "            state_input = torch.tensor(state, dtype=torch.float).unsqueeze(0)\n",
        "            # print(\"QpredstateL\",state_input.shape)\n",
        "            Q_pred= self.trainer.q_net(state_input)\n",
        "            move = torch.argmax(Q_pred).item() # \n",
        "            #allowable=np.clip(move, -position, money//today_price)    \n",
        "            final_move=ACTION_SPACE[move]\n",
        "            \n",
        "            #cannot buy more than the money you have, find closest value in the action space\n",
        "            if final_move>0 and final_move*today_price > money:\n",
        "              for a in reversed(ACTION_SPACE):\n",
        "                if a>=0 and a*today_price< money: #find action that doesn't use up all your money in action space\n",
        "                  # print(\"action\", a, today_price, money)\n",
        "                  return a\n",
        "            \n",
        "            if final_move<0 and final_move<-position:   \n",
        "              for a in ACTION_SPACE: #find action that doesn't sell all your shares in action space\n",
        "                if a<=0 and a+position>=0:\n",
        "                  return a\n",
        "\n",
        "        if final_move>0 and final_move*today_price >= money:\n",
        "          # print(\"action\", a, today_price, money)\n",
        "          return 0.\n",
        "        if final_move<0 and final_move<-position:\n",
        "          return 0.\n",
        "\n",
        "        return final_move\n",
        "\n",
        "actions=[]\n",
        "plot_profit=[]\n",
        "plot_reward=[]\n",
        "plot_loss=[]\n",
        "agent = Agent()\n",
        "def train():\n",
        "    rewards = []\n",
        "    record = 0\n",
        "    game = Game(w=CONTEXT, stock=stock_train, stock_price=stock_price_train, transformer_pred=transformer_pred_train)\n",
        "    epoch=200000 #a very large number just to keep the game running\n",
        "    optimizer=agent.trainer.optimizer\n",
        "    scheduler = torch.optim.lr_scheduler.StepLR(optimizer, step_size=stock_price_train.shape[0]*3, gamma=0.995)\n",
        "    for i in tqdm( range(1,epoch+1) ):\n",
        "        \n",
        "        curr_lr = float(optimizer.param_groups[0]['lr'])\n",
        "        state_old = agent.get_state(game)\n",
        "        action = agent.get_action(state_old, game)\n",
        "        actions.append(action)\n",
        "        \n",
        "        reward, done= game.play_step(action)\n",
        "#--------------------------------------------------------------------------------------------------------------------\n",
        "        state_new = agent.get_state(game)\n",
        "        # memory stored for replay\n",
        "        agent.remember(state_old, action, reward, state_new, done)\n",
        "        #loss=agent.train_single_experience(state_old, action, reward, state_new, done)\n",
        "\n",
        "          \n",
        "        rewards.append(reward)\n",
        "        profit=game.profit\n",
        "\n",
        "        if done:\n",
        "            mean_reward=np.mean(rewards)\n",
        "            plot_reward.append(mean_reward)\n",
        "            rewards=[]\n",
        "            # train minibatch\n",
        "            loss=agent.train_batch_experience()\n",
        "            plot_loss.append(loss)\n",
        "            game.reset()\n",
        "            agent.n_games += 1\n",
        "            \n",
        "            if profit > record:\n",
        "                record = profit\n",
        "               # agent.model.save()\n",
        "\n",
        "\n",
        "            print('Game', agent.n_games,\"mean Reward\", round(mean_reward,2), 'Profit', round(profit*100,2) ,'Record:', round(record*100,2), \"eps\",agent.epsilon,\"lr\",round(curr_lr,6), \"loss\", round(loss,6))\n",
        "\n",
        "            plot_profit.append(profit)\n",
        "        scheduler.step()\n"
      ]
    },
    {
      "cell_type": "code",
      "execution_count": 829,
      "metadata": {
        "id": "tJSIc_qou-fB"
      },
      "outputs": [],
      "source": [
        "# from google.colab import drive\n",
        "# drive.mount('/content/drive')"
      ]
    },
    {
      "cell_type": "code",
      "execution_count": 830,
      "metadata": {
        "id": "IEs_zwUHuPSZ"
      },
      "outputs": [],
      "source": [
        "# PATH = \"/content/drive/MyDrive/checkpoint01\"\n",
        "# torch.save(agent.trainer.q_net.state_dict(), PATH)"
      ]
    },
    {
      "cell_type": "code",
      "execution_count": 831,
      "metadata": {
        "id": "kl0mB0bad4g9"
      },
      "outputs": [],
      "source": [
        "gc.collect()\n",
        "torch.cuda.empty_cache()"
      ]
    },
    {
      "cell_type": "markdown",
      "source": [
        "### **Train and see Rewards and Profits**"
      ],
      "metadata": {
        "id": "HpqWXJJ-CpPd"
      }
    },
    {
      "cell_type": "code",
      "execution_count": 832,
      "metadata": {
        "id": "F1RNb_5xJAyp",
        "colab": {
          "base_uri": "https://localhost:8080/"
        },
        "outputId": "db960345-dbb9-45d4-bdcd-a8f41bf53259"
      },
      "outputs": [
        {
          "output_type": "stream",
          "name": "stderr",
          "text": [
            "  0%|          | 0/200000 [00:00<?, ?it/s]/usr/local/lib/python3.10/dist-packages/torch/optim/lr_scheduler.py:139: UserWarning: Detected call of `lr_scheduler.step()` before `optimizer.step()`. In PyTorch 1.1.0 and later, you should call them in the opposite order: `optimizer.step()` before `lr_scheduler.step()`.  Failure to do this will result in PyTorch skipping the first value of the learning rate schedule. See more details at https://pytorch.org/docs/stable/optim.html#how-to-adjust-learning-rate\n",
            "  warnings.warn(\"Detected call of `lr_scheduler.step()` before `optimizer.step()`. \"\n",
            "  1%|          | 1370/200000 [00:02<06:10, 536.63it/s]"
          ]
        },
        {
          "output_type": "stream",
          "name": "stdout",
          "text": [
            "Game 1 mean Reward 3602.96 Profit 186.95 Record: 186.95 eps 100 lr 0.001 loss 0.407626\n"
          ]
        },
        {
          "output_type": "stream",
          "name": "stderr",
          "text": [
            "  1%|▏         | 2604/200000 [00:04<05:35, 588.37it/s]"
          ]
        },
        {
          "output_type": "stream",
          "name": "stdout",
          "text": [
            "Game 2 mean Reward 2061.03 Profit 129.57 Record: 186.95 eps 100 lr 0.001 loss 0.381173\n"
          ]
        },
        {
          "output_type": "stream",
          "name": "stderr",
          "text": [
            "  2%|▏         | 3506/200000 [00:06<05:09, 633.99it/s]"
          ]
        },
        {
          "output_type": "stream",
          "name": "stdout",
          "text": [
            "Game 3 mean Reward 787.89 Profit 73.5 Record: 186.95 eps 99 lr 0.001 loss 0.342816\n"
          ]
        },
        {
          "output_type": "stream",
          "name": "stderr",
          "text": [
            "  2%|▏         | 4307/200000 [00:08<05:24, 603.64it/s]"
          ]
        },
        {
          "output_type": "stream",
          "name": "stdout",
          "text": [
            "Game 4 mean Reward 2065.57 Profit 157.83 Record: 186.95 eps 99 lr 0.000995 loss 0.357476\n"
          ]
        },
        {
          "output_type": "stream",
          "name": "stderr",
          "text": [
            "  3%|▎         | 5569/200000 [00:09<04:50, 670.34it/s]"
          ]
        },
        {
          "output_type": "stream",
          "name": "stdout",
          "text": [
            "Game 5 mean Reward 3263.49 Profit 199.05 Record: 199.05 eps 98 lr 0.000995 loss 0.386069\n"
          ]
        },
        {
          "output_type": "stream",
          "name": "stderr",
          "text": [
            "  3%|▎         | 6278/200000 [00:11<05:35, 578.20it/s]"
          ]
        },
        {
          "output_type": "stream",
          "name": "stdout",
          "text": [
            "Game 6 mean Reward 1879.78 Profit 161.68 Record: 199.05 eps 98 lr 0.000995 loss 0.329484\n"
          ]
        },
        {
          "output_type": "stream",
          "name": "stderr",
          "text": [
            "  4%|▎         | 7319/200000 [00:13<05:08, 625.27it/s]"
          ]
        },
        {
          "output_type": "stream",
          "name": "stdout",
          "text": [
            "Game 7 mean Reward 1982.29 Profit 183.81 Record: 199.05 eps 97 lr 0.00099 loss 0.354589\n"
          ]
        },
        {
          "output_type": "stream",
          "name": "stderr",
          "text": [
            "  4%|▍         | 8115/200000 [00:15<08:44, 365.79it/s]"
          ]
        },
        {
          "output_type": "stream",
          "name": "stdout",
          "text": [
            "Game 8 mean Reward 2197.98 Profit 163.03 Record: 199.05 eps 97 lr 0.00099 loss 0.31129\n"
          ]
        },
        {
          "output_type": "stream",
          "name": "stderr",
          "text": [
            "  5%|▍         | 9185/200000 [00:17<07:11, 442.41it/s]"
          ]
        },
        {
          "output_type": "stream",
          "name": "stdout",
          "text": [
            "Game 9 mean Reward 1680.41 Profit 138.75 Record: 199.05 eps 96 lr 0.00099 loss 0.338342\n"
          ]
        },
        {
          "output_type": "stream",
          "name": "stderr",
          "text": [
            "  5%|▌         | 10132/200000 [00:19<06:23, 494.54it/s]"
          ]
        },
        {
          "output_type": "stream",
          "name": "stdout",
          "text": [
            "Game 10 mean Reward 1907.19 Profit 165.71 Record: 199.05 eps 96 lr 0.000985 loss 0.342141\n"
          ]
        },
        {
          "output_type": "stream",
          "name": "stderr",
          "text": [
            "  6%|▌         | 11337/200000 [00:21<05:21, 587.15it/s]"
          ]
        },
        {
          "output_type": "stream",
          "name": "stdout",
          "text": [
            "Game 11 mean Reward 3819.26 Profit 284.39 Record: 284.39 eps 95 lr 0.000985 loss 0.404994\n"
          ]
        },
        {
          "output_type": "stream",
          "name": "stderr",
          "text": [
            "  6%|▌         | 12292/200000 [00:23<05:21, 584.29it/s]"
          ]
        },
        {
          "output_type": "stream",
          "name": "stdout",
          "text": [
            "Game 12 mean Reward 1877.3 Profit 199.88 Record: 284.39 eps 95 lr 0.000985 loss 0.373893\n"
          ]
        },
        {
          "output_type": "stream",
          "name": "stderr",
          "text": [
            "  7%|▋         | 13295/200000 [00:25<05:32, 561.56it/s]"
          ]
        },
        {
          "output_type": "stream",
          "name": "stdout",
          "text": [
            "Game 13 mean Reward 3825.03 Profit 199.8 Record: 284.39 eps 94 lr 0.00098 loss 0.375102\n"
          ]
        },
        {
          "output_type": "stream",
          "name": "stderr",
          "text": [
            "  7%|▋         | 14034/200000 [00:27<07:11, 430.55it/s]"
          ]
        },
        {
          "output_type": "stream",
          "name": "stdout",
          "text": [
            "Game 14 mean Reward 2243.09 Profit 189.45 Record: 284.39 eps 94 lr 0.00098 loss 0.358775\n"
          ]
        },
        {
          "output_type": "stream",
          "name": "stderr",
          "text": [
            "  7%|▋         | 14967/200000 [00:29<08:40, 355.56it/s]"
          ]
        },
        {
          "output_type": "stream",
          "name": "stdout",
          "text": [
            "Game 15 mean Reward 1804.5 Profit 206.53 Record: 284.39 eps 93 lr 0.00098 loss 0.362524\n"
          ]
        },
        {
          "output_type": "stream",
          "name": "stderr",
          "text": [
            "  8%|▊         | 16010/200000 [00:31<06:43, 456.22it/s]"
          ]
        },
        {
          "output_type": "stream",
          "name": "stdout",
          "text": [
            "Game 16 mean Reward 2726.93 Profit 253.77 Record: 284.39 eps 93 lr 0.000975 loss 0.39375\n"
          ]
        },
        {
          "output_type": "stream",
          "name": "stderr",
          "text": [
            "  8%|▊         | 16950/200000 [00:33<06:43, 453.24it/s]"
          ]
        },
        {
          "output_type": "stream",
          "name": "stdout",
          "text": [
            "Game 17 mean Reward 2359.02 Profit 168.68 Record: 284.39 eps 92 lr 0.000975 loss 0.434252\n"
          ]
        },
        {
          "output_type": "stream",
          "name": "stderr",
          "text": [
            "  9%|▉         | 17824/200000 [00:35<07:02, 431.02it/s]"
          ]
        },
        {
          "output_type": "stream",
          "name": "stdout",
          "text": [
            "Game 18 mean Reward 1332.48 Profit 162.32 Record: 284.39 eps 92 lr 0.000975 loss 0.464615\n"
          ]
        },
        {
          "output_type": "stream",
          "name": "stderr",
          "text": [
            "  9%|▉         | 18769/200000 [00:37<06:25, 469.77it/s]"
          ]
        },
        {
          "output_type": "stream",
          "name": "stdout",
          "text": [
            "Game 19 mean Reward 2534.19 Profit 261.61 Record: 284.39 eps 91 lr 0.00097 loss 0.485109\n"
          ]
        },
        {
          "output_type": "stream",
          "name": "stderr",
          "text": [
            " 10%|▉         | 19762/200000 [00:39<06:13, 482.74it/s]"
          ]
        },
        {
          "output_type": "stream",
          "name": "stdout",
          "text": [
            "Game 20 mean Reward 3260.54 Profit 270.3 Record: 284.39 eps 91 lr 0.00097 loss 0.470366\n"
          ]
        },
        {
          "output_type": "stream",
          "name": "stderr",
          "text": [
            " 10%|█         | 20744/200000 [00:42<10:51, 275.20it/s]"
          ]
        },
        {
          "output_type": "stream",
          "name": "stdout",
          "text": [
            "Game 21 mean Reward 2031.85 Profit 208.69 Record: 284.39 eps 90 lr 0.00097 loss 0.490948\n"
          ]
        },
        {
          "output_type": "stream",
          "name": "stderr",
          "text": [
            " 11%|█         | 21743/200000 [00:44<07:37, 389.26it/s]"
          ]
        },
        {
          "output_type": "stream",
          "name": "stdout",
          "text": [
            "Game 22 mean Reward 3118.69 Profit 266.03 Record: 284.39 eps 90 lr 0.000966 loss 0.454306\n"
          ]
        },
        {
          "output_type": "stream",
          "name": "stderr",
          "text": [
            " 11%|█▏        | 22731/200000 [00:45<06:04, 486.01it/s]"
          ]
        },
        {
          "output_type": "stream",
          "name": "stdout",
          "text": [
            "Game 23 mean Reward 3125.98 Profit 248.02 Record: 284.39 eps 89 lr 0.000966 loss 0.477934\n"
          ]
        },
        {
          "output_type": "stream",
          "name": "stderr",
          "text": [
            " 12%|█▏        | 23816/200000 [00:47<05:52, 499.74it/s]"
          ]
        },
        {
          "output_type": "stream",
          "name": "stdout",
          "text": [
            "Game 24 mean Reward 2708.94 Profit 245.93 Record: 284.39 eps 89 lr 0.000966 loss 0.496612\n"
          ]
        },
        {
          "output_type": "stream",
          "name": "stderr",
          "text": [
            " 12%|█▏        | 24849/200000 [00:49<05:45, 506.62it/s]"
          ]
        },
        {
          "output_type": "stream",
          "name": "stdout",
          "text": [
            "Game 25 mean Reward 3273.84 Profit 269.2 Record: 284.39 eps 88 lr 0.000961 loss 0.395723\n"
          ]
        },
        {
          "output_type": "stream",
          "name": "stderr",
          "text": [
            " 13%|█▎        | 25706/200000 [00:51<06:25, 451.62it/s]"
          ]
        },
        {
          "output_type": "stream",
          "name": "stdout",
          "text": [
            "Game 26 mean Reward 4563.9 Profit 247.58 Record: 284.39 eps 88 lr 0.000961 loss 0.521178\n"
          ]
        },
        {
          "output_type": "stream",
          "name": "stderr",
          "text": [
            " 13%|█▎        | 26544/200000 [00:53<08:55, 324.04it/s]"
          ]
        },
        {
          "output_type": "stream",
          "name": "stdout",
          "text": [
            "Game 27 mean Reward 3600.0 Profit 261.6 Record: 284.39 eps 87 lr 0.000961 loss 0.524544\n"
          ]
        },
        {
          "output_type": "stream",
          "name": "stderr",
          "text": [
            " 14%|█▍        | 27586/200000 [00:56<08:38, 332.43it/s]"
          ]
        },
        {
          "output_type": "stream",
          "name": "stdout",
          "text": [
            "Game 28 mean Reward 2636.17 Profit 256.66 Record: 284.39 eps 87 lr 0.000956 loss 0.45223\n"
          ]
        },
        {
          "output_type": "stream",
          "name": "stderr",
          "text": [
            " 14%|█▍        | 28563/200000 [00:58<08:25, 339.15it/s]"
          ]
        },
        {
          "output_type": "stream",
          "name": "stdout",
          "text": [
            "Game 29 mean Reward 4659.22 Profit 306.71 Record: 306.71 eps 86 lr 0.000956 loss 0.487022\n"
          ]
        },
        {
          "output_type": "stream",
          "name": "stderr",
          "text": [
            " 15%|█▍        | 29554/200000 [01:00<08:28, 335.10it/s]"
          ]
        },
        {
          "output_type": "stream",
          "name": "stdout",
          "text": [
            "Game 30 mean Reward 3286.74 Profit 257.64 Record: 306.71 eps 86 lr 0.000956 loss 0.499175\n"
          ]
        },
        {
          "output_type": "stream",
          "name": "stderr",
          "text": [
            " 15%|█▌        | 30585/200000 [01:02<06:36, 427.26it/s]"
          ]
        },
        {
          "output_type": "stream",
          "name": "stdout",
          "text": [
            "Game 31 mean Reward 3478.04 Profit 239.11 Record: 306.71 eps 85 lr 0.000951 loss 0.52911\n"
          ]
        },
        {
          "output_type": "stream",
          "name": "stderr",
          "text": [
            " 16%|█▌        | 31481/200000 [01:04<07:16, 386.04it/s]"
          ]
        },
        {
          "output_type": "stream",
          "name": "stdout",
          "text": [
            "Game 32 mean Reward 2105.17 Profit 178.03 Record: 306.71 eps 85 lr 0.000951 loss 0.532118\n"
          ]
        },
        {
          "output_type": "stream",
          "name": "stderr",
          "text": [
            " 16%|█▌        | 32398/200000 [01:07<10:46, 259.32it/s]"
          ]
        },
        {
          "output_type": "stream",
          "name": "stdout",
          "text": [
            "Game 33 mean Reward 2521.64 Profit 179.32 Record: 306.71 eps 84 lr 0.000951 loss 0.458939\n"
          ]
        },
        {
          "output_type": "stream",
          "name": "stderr",
          "text": [
            " 17%|█▋        | 33396/200000 [01:09<08:11, 338.67it/s]"
          ]
        },
        {
          "output_type": "stream",
          "name": "stdout",
          "text": [
            "Game 34 mean Reward 3105.56 Profit 209.49 Record: 306.71 eps 84 lr 0.000951 loss 0.570947\n"
          ]
        },
        {
          "output_type": "stream",
          "name": "stderr",
          "text": [
            " 17%|█▋        | 34457/200000 [01:11<07:13, 381.49it/s]"
          ]
        },
        {
          "output_type": "stream",
          "name": "stdout",
          "text": [
            "Game 35 mean Reward 3335.01 Profit 266.94 Record: 306.71 eps 83 lr 0.000946 loss 0.449708\n"
          ]
        },
        {
          "output_type": "stream",
          "name": "stderr",
          "text": [
            " 18%|█▊        | 35294/200000 [01:13<07:41, 356.53it/s]"
          ]
        },
        {
          "output_type": "stream",
          "name": "stdout",
          "text": [
            "Game 36 mean Reward 2859.81 Profit 165.6 Record: 306.71 eps 83 lr 0.000946 loss 0.527259\n"
          ]
        },
        {
          "output_type": "stream",
          "name": "stderr",
          "text": [
            " 18%|█▊        | 36468/200000 [01:16<06:37, 411.26it/s]"
          ]
        },
        {
          "output_type": "stream",
          "name": "stdout",
          "text": [
            "Game 37 mean Reward 3964.54 Profit 255.6 Record: 306.71 eps 82 lr 0.000946 loss 0.517024\n"
          ]
        },
        {
          "output_type": "stream",
          "name": "stderr",
          "text": [
            " 19%|█▊        | 37212/200000 [01:17<09:29, 285.87it/s]"
          ]
        },
        {
          "output_type": "stream",
          "name": "stdout",
          "text": [
            "Game 38 mean Reward 3966.69 Profit 239.37 Record: 306.71 eps 82 lr 0.000942 loss 0.512876\n"
          ]
        },
        {
          "output_type": "stream",
          "name": "stderr",
          "text": [
            " 19%|█▉        | 38255/200000 [01:21<11:39, 231.19it/s]"
          ]
        },
        {
          "output_type": "stream",
          "name": "stdout",
          "text": [
            "Game 39 mean Reward 2913.47 Profit 240.82 Record: 306.71 eps 81 lr 0.000942 loss 0.496344\n"
          ]
        },
        {
          "output_type": "stream",
          "name": "stderr",
          "text": [
            " 20%|█▉        | 39351/200000 [01:23<07:03, 379.31it/s]"
          ]
        },
        {
          "output_type": "stream",
          "name": "stdout",
          "text": [
            "Game 40 mean Reward 3688.49 Profit 286.93 Record: 306.71 eps 81 lr 0.000942 loss 0.480106\n"
          ]
        },
        {
          "output_type": "stream",
          "name": "stderr",
          "text": [
            " 20%|██        | 40281/200000 [01:25<07:03, 377.16it/s]"
          ]
        },
        {
          "output_type": "stream",
          "name": "stdout",
          "text": [
            "Game 41 mean Reward 3696.06 Profit 248.46 Record: 306.71 eps 80 lr 0.000937 loss 0.474449\n"
          ]
        },
        {
          "output_type": "stream",
          "name": "stderr",
          "text": [
            " 21%|██        | 41176/200000 [01:27<07:16, 364.16it/s]"
          ]
        },
        {
          "output_type": "stream",
          "name": "stdout",
          "text": [
            "Game 42 mean Reward 2645.66 Profit 232.29 Record: 306.71 eps 80 lr 0.000937 loss 0.458131\n"
          ]
        },
        {
          "output_type": "stream",
          "name": "stderr",
          "text": [
            " 21%|██        | 42169/200000 [01:29<06:30, 404.38it/s]"
          ]
        },
        {
          "output_type": "stream",
          "name": "stdout",
          "text": [
            "Game 43 mean Reward 2920.83 Profit 242.91 Record: 306.71 eps 79 lr 0.000937 loss 0.524273\n"
          ]
        },
        {
          "output_type": "stream",
          "name": "stderr",
          "text": [
            " 22%|██▏       | 43099/200000 [01:31<10:48, 242.09it/s] "
          ]
        },
        {
          "output_type": "stream",
          "name": "stdout",
          "text": [
            "Game 44 mean Reward 3174.51 Profit 254.61 Record: 306.71 eps 79 lr 0.000932 loss 0.556545\n"
          ]
        },
        {
          "output_type": "stream",
          "name": "stderr",
          "text": [
            " 22%|██▏       | 44132/200000 [01:34<09:30, 273.26it/s]"
          ]
        },
        {
          "output_type": "stream",
          "name": "stdout",
          "text": [
            "Game 45 mean Reward 3691.13 Profit 260.29 Record: 306.71 eps 78 lr 0.000932 loss 0.453338\n"
          ]
        },
        {
          "output_type": "stream",
          "name": "stderr",
          "text": [
            " 23%|██▎       | 45075/200000 [01:36<07:52, 327.64it/s]"
          ]
        },
        {
          "output_type": "stream",
          "name": "stdout",
          "text": [
            "Game 46 mean Reward 2571.21 Profit 257.43 Record: 306.71 eps 78 lr 0.000932 loss 0.583867\n"
          ]
        },
        {
          "output_type": "stream",
          "name": "stderr",
          "text": [
            " 23%|██▎       | 46159/200000 [01:38<07:30, 341.31it/s]"
          ]
        },
        {
          "output_type": "stream",
          "name": "stdout",
          "text": [
            "Game 47 mean Reward 2211.45 Profit 203.03 Record: 306.71 eps 77 lr 0.000928 loss 0.519977\n"
          ]
        },
        {
          "output_type": "stream",
          "name": "stderr",
          "text": [
            " 24%|██▎       | 47035/200000 [01:40<07:42, 330.57it/s]"
          ]
        },
        {
          "output_type": "stream",
          "name": "stdout",
          "text": [
            "Game 48 mean Reward 3063.66 Profit 232.05 Record: 306.71 eps 77 lr 0.000928 loss 0.553325\n"
          ]
        },
        {
          "output_type": "stream",
          "name": "stderr",
          "text": [
            " 24%|██▍       | 48029/200000 [01:43<08:51, 285.99it/s]"
          ]
        },
        {
          "output_type": "stream",
          "name": "stdout",
          "text": [
            "Game 49 mean Reward 2519.61 Profit 174.91 Record: 306.71 eps 76 lr 0.000928 loss 0.491111\n"
          ]
        },
        {
          "output_type": "stream",
          "name": "stderr",
          "text": [
            " 24%|██▍       | 48995/200000 [01:46<14:46, 170.37it/s]"
          ]
        },
        {
          "output_type": "stream",
          "name": "stdout",
          "text": [
            "Game 50 mean Reward 2335.77 Profit 165.48 Record: 306.71 eps 76 lr 0.000923 loss 0.417055\n"
          ]
        },
        {
          "output_type": "stream",
          "name": "stderr",
          "text": [
            " 25%|██▍       | 49994/200000 [01:48<07:48, 320.51it/s]"
          ]
        },
        {
          "output_type": "stream",
          "name": "stdout",
          "text": [
            "Game 51 mean Reward 2893.94 Profit 210.9 Record: 306.71 eps 75 lr 0.000923 loss 0.455489\n"
          ]
        },
        {
          "output_type": "stream",
          "name": "stderr",
          "text": [
            " 25%|██▌       | 50975/200000 [01:51<07:16, 341.15it/s]"
          ]
        },
        {
          "output_type": "stream",
          "name": "stdout",
          "text": [
            "Game 52 mean Reward 1606.74 Profit 145.98 Record: 306.71 eps 75 lr 0.000923 loss 0.460979\n"
          ]
        },
        {
          "output_type": "stream",
          "name": "stderr",
          "text": [
            " 26%|██▌       | 51950/200000 [01:53<08:07, 303.57it/s]"
          ]
        },
        {
          "output_type": "stream",
          "name": "stdout",
          "text": [
            "Game 53 mean Reward 3443.53 Profit 263.83 Record: 306.71 eps 74 lr 0.000918 loss 0.484526\n"
          ]
        },
        {
          "output_type": "stream",
          "name": "stderr",
          "text": [
            " 26%|██▋       | 52907/200000 [01:55<07:25, 330.01it/s]"
          ]
        },
        {
          "output_type": "stream",
          "name": "stdout",
          "text": [
            "Game 54 mean Reward 3644.99 Profit 287.04 Record: 306.71 eps 74 lr 0.000918 loss 0.451109\n"
          ]
        },
        {
          "output_type": "stream",
          "name": "stderr",
          "text": [
            " 27%|██▋       | 53819/200000 [01:58<12:12, 199.63it/s]"
          ]
        },
        {
          "output_type": "stream",
          "name": "stdout",
          "text": [
            "Game 55 mean Reward 4011.16 Profit 278.91 Record: 306.71 eps 73 lr 0.000918 loss 0.499512\n"
          ]
        },
        {
          "output_type": "stream",
          "name": "stderr",
          "text": [
            " 27%|██▋       | 54806/200000 [02:01<09:16, 260.69it/s]"
          ]
        },
        {
          "output_type": "stream",
          "name": "stdout",
          "text": [
            "Game 56 mean Reward 3197.59 Profit 222.79 Record: 306.71 eps 73 lr 0.000914 loss 0.527997\n"
          ]
        },
        {
          "output_type": "stream",
          "name": "stderr",
          "text": [
            " 28%|██▊       | 55763/200000 [02:03<09:41, 248.25it/s]"
          ]
        },
        {
          "output_type": "stream",
          "name": "stdout",
          "text": [
            "Game 57 mean Reward 3036.17 Profit 276.25 Record: 306.71 eps 72 lr 0.000914 loss 0.493982\n"
          ]
        },
        {
          "output_type": "stream",
          "name": "stderr",
          "text": [
            " 28%|██▊       | 56737/200000 [02:05<09:16, 257.45it/s]"
          ]
        },
        {
          "output_type": "stream",
          "name": "stdout",
          "text": [
            "Game 58 mean Reward 2834.17 Profit 233.11 Record: 306.71 eps 72 lr 0.000914 loss 0.459958\n"
          ]
        },
        {
          "output_type": "stream",
          "name": "stderr",
          "text": [
            " 29%|██▉       | 57851/200000 [02:08<07:25, 319.33it/s]"
          ]
        },
        {
          "output_type": "stream",
          "name": "stdout",
          "text": [
            "Game 59 mean Reward 3617.32 Profit 282.49 Record: 306.71 eps 71 lr 0.000909 loss 0.50427\n"
          ]
        },
        {
          "output_type": "stream",
          "name": "stderr",
          "text": [
            " 29%|██▉       | 58667/200000 [02:10<13:58, 168.45it/s]"
          ]
        },
        {
          "output_type": "stream",
          "name": "stdout",
          "text": [
            "Game 60 mean Reward 3671.95 Profit 290.88 Record: 306.71 eps 71 lr 0.000909 loss 0.594237\n"
          ]
        },
        {
          "output_type": "stream",
          "name": "stderr",
          "text": [
            " 30%|██▉       | 59669/200000 [02:13<10:41, 218.61it/s]"
          ]
        },
        {
          "output_type": "stream",
          "name": "stdout",
          "text": [
            "Game 61 mean Reward 3455.03 Profit 293.89 Record: 306.71 eps 70 lr 0.000909 loss 0.536299\n"
          ]
        },
        {
          "output_type": "stream",
          "name": "stderr",
          "text": [
            " 30%|███       | 60629/200000 [02:16<09:52, 235.21it/s]"
          ]
        },
        {
          "output_type": "stream",
          "name": "stdout",
          "text": [
            "Game 62 mean Reward 4212.38 Profit 298.9 Record: 306.71 eps 70 lr 0.000905 loss 0.503559\n"
          ]
        },
        {
          "output_type": "stream",
          "name": "stderr",
          "text": [
            " 31%|███       | 61706/200000 [02:18<08:11, 281.10it/s]"
          ]
        },
        {
          "output_type": "stream",
          "name": "stdout",
          "text": [
            "Game 63 mean Reward 3093.6 Profit 276.16 Record: 306.71 eps 69 lr 0.000905 loss 0.577847\n"
          ]
        },
        {
          "output_type": "stream",
          "name": "stderr",
          "text": [
            " 31%|███▏      | 62698/200000 [02:21<08:04, 283.13it/s]"
          ]
        },
        {
          "output_type": "stream",
          "name": "stdout",
          "text": [
            "Game 64 mean Reward 4033.57 Profit 285.3 Record: 306.71 eps 69 lr 0.000905 loss 0.643949\n"
          ]
        },
        {
          "output_type": "stream",
          "name": "stderr",
          "text": [
            " 32%|███▏      | 63496/200000 [02:23<15:52, 143.25it/s]"
          ]
        },
        {
          "output_type": "stream",
          "name": "stdout",
          "text": [
            "Game 65 mean Reward 3453.24 Profit 248.12 Record: 306.71 eps 68 lr 0.0009 loss 0.534374\n"
          ]
        },
        {
          "output_type": "stream",
          "name": "stderr",
          "text": [
            " 32%|███▏      | 64581/200000 [02:26<09:02, 249.69it/s]"
          ]
        },
        {
          "output_type": "stream",
          "name": "stdout",
          "text": [
            "Game 66 mean Reward 4424.77 Profit 302.18 Record: 306.71 eps 68 lr 0.0009 loss 0.54517\n"
          ]
        },
        {
          "output_type": "stream",
          "name": "stderr",
          "text": [
            " 33%|███▎      | 65599/200000 [02:29<08:06, 276.49it/s]"
          ]
        },
        {
          "output_type": "stream",
          "name": "stdout",
          "text": [
            "Game 67 mean Reward 3661.68 Profit 309.09 Record: 309.09 eps 67 lr 0.0009 loss 0.602179\n"
          ]
        },
        {
          "output_type": "stream",
          "name": "stderr",
          "text": [
            " 33%|███▎      | 66542/200000 [02:31<08:26, 263.45it/s]"
          ]
        },
        {
          "output_type": "stream",
          "name": "stdout",
          "text": [
            "Game 68 mean Reward 3747.49 Profit 281.69 Record: 309.09 eps 67 lr 0.0009 loss 0.616285\n"
          ]
        },
        {
          "output_type": "stream",
          "name": "stderr",
          "text": [
            " 34%|███▎      | 67491/200000 [02:33<09:09, 241.03it/s]"
          ]
        },
        {
          "output_type": "stream",
          "name": "stdout",
          "text": [
            "Game 69 mean Reward 3346.62 Profit 290.02 Record: 309.09 eps 66 lr 0.000896 loss 0.624085\n"
          ]
        },
        {
          "output_type": "stream",
          "name": "stderr",
          "text": [
            " 34%|███▍      | 68413/200000 [02:36<14:00, 156.62it/s]"
          ]
        },
        {
          "output_type": "stream",
          "name": "stdout",
          "text": [
            "Game 70 mean Reward 3169.17 Profit 286.25 Record: 309.09 eps 66 lr 0.000896 loss 0.617791\n"
          ]
        },
        {
          "output_type": "stream",
          "name": "stderr",
          "text": [
            " 35%|███▍      | 69404/200000 [02:39<09:05, 239.26it/s]"
          ]
        },
        {
          "output_type": "stream",
          "name": "stdout",
          "text": [
            "Game 71 mean Reward 3277.45 Profit 273.68 Record: 309.09 eps 65 lr 0.000896 loss 0.578186\n"
          ]
        },
        {
          "output_type": "stream",
          "name": "stderr",
          "text": [
            " 35%|███▌      | 70400/200000 [02:41<07:37, 283.46it/s]"
          ]
        },
        {
          "output_type": "stream",
          "name": "stdout",
          "text": [
            "Game 72 mean Reward 2925.03 Profit 252.8 Record: 309.09 eps 65 lr 0.000891 loss 0.575325\n"
          ]
        },
        {
          "output_type": "stream",
          "name": "stderr",
          "text": [
            " 36%|███▌      | 71380/200000 [02:44<07:19, 292.72it/s]"
          ]
        },
        {
          "output_type": "stream",
          "name": "stdout",
          "text": [
            "Game 73 mean Reward 3316.23 Profit 278.24 Record: 309.09 eps 64 lr 0.000891 loss 0.555012\n"
          ]
        },
        {
          "output_type": "stream",
          "name": "stderr",
          "text": [
            " 36%|███▌      | 72319/200000 [02:46<10:21, 205.37it/s]"
          ]
        },
        {
          "output_type": "stream",
          "name": "stdout",
          "text": [
            "Game 74 mean Reward 3621.89 Profit 258.34 Record: 309.09 eps 64 lr 0.000891 loss 0.541042\n"
          ]
        },
        {
          "output_type": "stream",
          "name": "stderr",
          "text": [
            " 37%|███▋      | 73327/200000 [02:49<13:40, 154.34it/s]"
          ]
        },
        {
          "output_type": "stream",
          "name": "stdout",
          "text": [
            "Game 75 mean Reward 2709.55 Profit 255.61 Record: 309.09 eps 63 lr 0.000887 loss 0.545929\n"
          ]
        },
        {
          "output_type": "stream",
          "name": "stderr",
          "text": [
            " 37%|███▋      | 74323/200000 [02:52<09:29, 220.73it/s]"
          ]
        },
        {
          "output_type": "stream",
          "name": "stdout",
          "text": [
            "Game 76 mean Reward 4229.01 Profit 273.12 Record: 309.09 eps 63 lr 0.000887 loss 0.531728\n"
          ]
        },
        {
          "output_type": "stream",
          "name": "stderr",
          "text": [
            " 38%|███▊      | 75273/200000 [02:54<08:07, 255.60it/s]"
          ]
        },
        {
          "output_type": "stream",
          "name": "stdout",
          "text": [
            "Game 77 mean Reward 4145.7 Profit 285.97 Record: 309.09 eps 62 lr 0.000887 loss 0.531742\n"
          ]
        },
        {
          "output_type": "stream",
          "name": "stderr",
          "text": [
            " 38%|███▊      | 76285/200000 [02:57<07:37, 270.64it/s]"
          ]
        },
        {
          "output_type": "stream",
          "name": "stdout",
          "text": [
            "Game 78 mean Reward 3517.33 Profit 288.23 Record: 309.09 eps 62 lr 0.000882 loss 0.534523\n"
          ]
        },
        {
          "output_type": "stream",
          "name": "stderr",
          "text": [
            " 39%|███▊      | 77243/200000 [02:59<08:22, 244.48it/s]"
          ]
        },
        {
          "output_type": "stream",
          "name": "stdout",
          "text": [
            "Game 79 mean Reward 3884.52 Profit 285.49 Record: 309.09 eps 61 lr 0.000882 loss 0.56235\n"
          ]
        },
        {
          "output_type": "stream",
          "name": "stderr",
          "text": [
            " 39%|███▉      | 78191/200000 [03:03<15:58, 127.15it/s]"
          ]
        },
        {
          "output_type": "stream",
          "name": "stdout",
          "text": [
            "Game 80 mean Reward 4673.03 Profit 287.58 Record: 309.09 eps 61 lr 0.000882 loss 0.591922\n"
          ]
        },
        {
          "output_type": "stream",
          "name": "stderr",
          "text": [
            " 40%|███▉      | 79210/200000 [03:06<09:35, 209.88it/s]"
          ]
        },
        {
          "output_type": "stream",
          "name": "stdout",
          "text": [
            "Game 81 mean Reward 4366.18 Profit 294.88 Record: 309.09 eps 60 lr 0.000878 loss 0.492539\n"
          ]
        },
        {
          "output_type": "stream",
          "name": "stderr",
          "text": [
            " 40%|████      | 80128/200000 [03:08<08:46, 227.51it/s]"
          ]
        },
        {
          "output_type": "stream",
          "name": "stdout",
          "text": [
            "Game 82 mean Reward 4007.22 Profit 290.02 Record: 309.09 eps 60 lr 0.000878 loss 0.600365\n"
          ]
        },
        {
          "output_type": "stream",
          "name": "stderr",
          "text": [
            " 41%|████      | 81098/200000 [03:11<08:58, 220.70it/s]"
          ]
        },
        {
          "output_type": "stream",
          "name": "stdout",
          "text": [
            "Game 83 mean Reward 3588.5 Profit 307.62 Record: 309.09 eps 59 lr 0.000878 loss 0.582881\n"
          ]
        },
        {
          "output_type": "stream",
          "name": "stderr",
          "text": [
            " 41%|████      | 82094/200000 [03:13<08:56, 219.91it/s]"
          ]
        },
        {
          "output_type": "stream",
          "name": "stdout",
          "text": [
            "Game 84 mean Reward 4629.5 Profit 297.61 Record: 309.09 eps 59 lr 0.000873 loss 0.549014\n"
          ]
        },
        {
          "output_type": "stream",
          "name": "stderr",
          "text": [
            " 42%|████▏     | 83082/200000 [03:17<12:33, 155.24it/s]"
          ]
        },
        {
          "output_type": "stream",
          "name": "stdout",
          "text": [
            "Game 85 mean Reward 4589.12 Profit 304.57 Record: 309.09 eps 58 lr 0.000873 loss 0.590769\n"
          ]
        },
        {
          "output_type": "stream",
          "name": "stderr",
          "text": [
            " 42%|████▏     | 84080/200000 [03:19<08:09, 236.59it/s]"
          ]
        },
        {
          "output_type": "stream",
          "name": "stdout",
          "text": [
            "Game 86 mean Reward 4100.78 Profit 297.0 Record: 309.09 eps 58 lr 0.000873 loss 0.594861\n"
          ]
        },
        {
          "output_type": "stream",
          "name": "stderr",
          "text": [
            " 43%|████▎     | 85034/200000 [03:22<07:56, 241.31it/s]"
          ]
        },
        {
          "output_type": "stream",
          "name": "stdout",
          "text": [
            "Game 87 mean Reward 4179.15 Profit 290.55 Record: 309.09 eps 57 lr 0.000869 loss 0.584901\n"
          ]
        },
        {
          "output_type": "stream",
          "name": "stderr",
          "text": [
            " 43%|████▎     | 86099/200000 [03:24<07:53, 240.52it/s]"
          ]
        },
        {
          "output_type": "stream",
          "name": "stdout",
          "text": [
            "Game 88 mean Reward 3955.71 Profit 301.87 Record: 309.09 eps 57 lr 0.000869 loss 0.619149\n"
          ]
        },
        {
          "output_type": "stream",
          "name": "stderr",
          "text": [
            " 43%|████▎     | 86948/200000 [03:28<13:35, 138.55it/s]"
          ]
        },
        {
          "output_type": "stream",
          "name": "stdout",
          "text": [
            "Game 89 mean Reward 3647.67 Profit 291.24 Record: 309.09 eps 56 lr 0.000869 loss 0.603309\n"
          ]
        },
        {
          "output_type": "stream",
          "name": "stderr",
          "text": [
            " 44%|████▍     | 87983/200000 [03:30<09:19, 200.23it/s]"
          ]
        },
        {
          "output_type": "stream",
          "name": "stdout",
          "text": [
            "Game 90 mean Reward 4348.94 Profit 303.46 Record: 309.09 eps 56 lr 0.000865 loss 0.601514\n"
          ]
        },
        {
          "output_type": "stream",
          "name": "stderr",
          "text": [
            " 44%|████▍     | 88969/200000 [03:33<09:02, 204.64it/s]"
          ]
        },
        {
          "output_type": "stream",
          "name": "stdout",
          "text": [
            "Game 91 mean Reward 4111.69 Profit 308.03 Record: 309.09 eps 55 lr 0.000865 loss 0.62538\n"
          ]
        },
        {
          "output_type": "stream",
          "name": "stderr",
          "text": [
            " 45%|████▍     | 89898/200000 [03:36<07:53, 232.51it/s]"
          ]
        },
        {
          "output_type": "stream",
          "name": "stdout",
          "text": [
            "Game 92 mean Reward 3930.12 Profit 290.73 Record: 309.09 eps 55 lr 0.000865 loss 0.606008\n"
          ]
        },
        {
          "output_type": "stream",
          "name": "stderr",
          "text": [
            " 45%|████▌     | 90882/200000 [03:38<08:22, 217.28it/s]"
          ]
        },
        {
          "output_type": "stream",
          "name": "stdout",
          "text": [
            "Game 93 mean Reward 4734.24 Profit 291.34 Record: 309.09 eps 54 lr 0.00086 loss 0.570562\n"
          ]
        },
        {
          "output_type": "stream",
          "name": "stderr",
          "text": [
            " 46%|████▌     | 91842/200000 [03:42<13:13, 136.25it/s]"
          ]
        },
        {
          "output_type": "stream",
          "name": "stdout",
          "text": [
            "Game 94 mean Reward 4287.05 Profit 294.32 Record: 309.09 eps 54 lr 0.00086 loss 0.583863\n"
          ]
        },
        {
          "output_type": "stream",
          "name": "stderr",
          "text": [
            " 46%|████▋     | 92854/200000 [03:45<09:10, 194.59it/s]"
          ]
        },
        {
          "output_type": "stream",
          "name": "stdout",
          "text": [
            "Game 95 mean Reward 3946.08 Profit 298.37 Record: 309.09 eps 53 lr 0.00086 loss 0.595464\n"
          ]
        },
        {
          "output_type": "stream",
          "name": "stderr",
          "text": [
            " 47%|████▋     | 93771/200000 [03:47<09:52, 179.34it/s]"
          ]
        },
        {
          "output_type": "stream",
          "name": "stdout",
          "text": [
            "Game 96 mean Reward 4902.79 Profit 301.1 Record: 309.09 eps 53 lr 0.000856 loss 0.559089\n"
          ]
        },
        {
          "output_type": "stream",
          "name": "stderr",
          "text": [
            " 47%|████▋     | 94776/200000 [03:50<09:17, 188.89it/s]"
          ]
        },
        {
          "output_type": "stream",
          "name": "stdout",
          "text": [
            "Game 97 mean Reward 3658.91 Profit 307.6 Record: 309.09 eps 52 lr 0.000856 loss 0.595928\n"
          ]
        },
        {
          "output_type": "stream",
          "name": "stderr",
          "text": [
            " 48%|████▊     | 95748/200000 [03:54<12:00, 144.66it/s]"
          ]
        },
        {
          "output_type": "stream",
          "name": "stdout",
          "text": [
            "Game 98 mean Reward 4105.63 Profit 309.4 Record: 309.4 eps 52 lr 0.000856 loss 0.592757\n"
          ]
        },
        {
          "output_type": "stream",
          "name": "stderr",
          "text": [
            " 48%|████▊     | 96778/200000 [03:57<08:10, 210.46it/s]"
          ]
        },
        {
          "output_type": "stream",
          "name": "stdout",
          "text": [
            "Game 99 mean Reward 3471.57 Profit 308.97 Record: 309.4 eps 51 lr 0.000852 loss 0.599832\n"
          ]
        },
        {
          "output_type": "stream",
          "name": "stderr",
          "text": [
            " 49%|████▉     | 97678/200000 [03:59<08:23, 203.20it/s]"
          ]
        },
        {
          "output_type": "stream",
          "name": "stdout",
          "text": [
            "Game 100 mean Reward 3571.25 Profit 306.8 Record: 309.4 eps 51 lr 0.000852 loss 0.680913\n"
          ]
        },
        {
          "output_type": "stream",
          "name": "stderr",
          "text": [
            " 49%|████▉     | 98657/200000 [04:02<09:48, 172.26it/s]"
          ]
        },
        {
          "output_type": "stream",
          "name": "stdout",
          "text": [
            "Game 101 mean Reward 3815.54 Profit 305.75 Record: 309.4 eps 50 lr 0.000852 loss 0.61496\n"
          ]
        },
        {
          "output_type": "stream",
          "name": "stderr",
          "text": [
            " 50%|████▉     | 99611/200000 [04:05<13:48, 121.10it/s]"
          ]
        },
        {
          "output_type": "stream",
          "name": "stdout",
          "text": [
            "Game 102 mean Reward 4595.1 Profit 301.79 Record: 309.4 eps 50 lr 0.000852 loss 0.597985\n"
          ]
        },
        {
          "output_type": "stream",
          "name": "stderr",
          "text": [
            " 50%|█████     | 100638/200000 [04:09<11:10, 148.10it/s]"
          ]
        },
        {
          "output_type": "stream",
          "name": "stdout",
          "text": [
            "Game 103 mean Reward 4386.51 Profit 307.46 Record: 309.4 eps 49 lr 0.000848 loss 0.547333\n"
          ]
        },
        {
          "output_type": "stream",
          "name": "stderr",
          "text": [
            " 51%|█████     | 101663/200000 [04:11<07:26, 220.23it/s]"
          ]
        },
        {
          "output_type": "stream",
          "name": "stdout",
          "text": [
            "Game 104 mean Reward 3832.85 Profit 300.77 Record: 309.4 eps 49 lr 0.000848 loss 0.620541\n"
          ]
        },
        {
          "output_type": "stream",
          "name": "stderr",
          "text": [
            " 51%|█████▏    | 102557/200000 [04:14<10:59, 147.67it/s]"
          ]
        },
        {
          "output_type": "stream",
          "name": "stdout",
          "text": [
            "Game 105 mean Reward 3931.51 Profit 305.11 Record: 309.4 eps 48 lr 0.000848 loss 0.615095\n"
          ]
        },
        {
          "output_type": "stream",
          "name": "stderr",
          "text": [
            " 52%|█████▏    | 103569/200000 [04:17<08:03, 199.39it/s]"
          ]
        },
        {
          "output_type": "stream",
          "name": "stdout",
          "text": [
            "Game 106 mean Reward 3632.31 Profit 295.06 Record: 309.4 eps 48 lr 0.000843 loss 0.528735\n"
          ]
        },
        {
          "output_type": "stream",
          "name": "stderr",
          "text": [
            " 52%|█████▏    | 104538/200000 [04:21<13:54, 114.39it/s]"
          ]
        },
        {
          "output_type": "stream",
          "name": "stdout",
          "text": [
            "Game 107 mean Reward 4478.46 Profit 300.9 Record: 309.4 eps 47 lr 0.000843 loss 0.638625\n"
          ]
        },
        {
          "output_type": "stream",
          "name": "stderr",
          "text": [
            " 53%|█████▎    | 105483/200000 [04:23<07:51, 200.46it/s]"
          ]
        },
        {
          "output_type": "stream",
          "name": "stdout",
          "text": [
            "Game 108 mean Reward 3635.81 Profit 301.58 Record: 309.4 eps 47 lr 0.000843 loss 0.616568\n"
          ]
        },
        {
          "output_type": "stream",
          "name": "stderr",
          "text": [
            " 53%|█████▎    | 106483/200000 [04:26<08:56, 174.15it/s]"
          ]
        },
        {
          "output_type": "stream",
          "name": "stdout",
          "text": [
            "Game 109 mean Reward 4037.69 Profit 295.05 Record: 309.4 eps 46 lr 0.000839 loss 0.612115\n"
          ]
        },
        {
          "output_type": "stream",
          "name": "stderr",
          "text": [
            " 54%|█████▍    | 107500/200000 [04:29<08:43, 176.70it/s]"
          ]
        },
        {
          "output_type": "stream",
          "name": "stdout",
          "text": [
            "Game 110 mean Reward 3936.47 Profit 308.96 Record: 309.4 eps 46 lr 0.000839 loss 0.609891\n"
          ]
        },
        {
          "output_type": "stream",
          "name": "stderr",
          "text": [
            " 54%|█████▍    | 108401/200000 [04:33<17:41, 86.30it/s] "
          ]
        },
        {
          "output_type": "stream",
          "name": "stdout",
          "text": [
            "Game 111 mean Reward 3760.8 Profit 297.6 Record: 309.4 eps 45 lr 0.000839 loss 0.574552\n"
          ]
        },
        {
          "output_type": "stream",
          "name": "stderr",
          "text": [
            " 55%|█████▍    | 109380/200000 [04:36<08:45, 172.34it/s]"
          ]
        },
        {
          "output_type": "stream",
          "name": "stdout",
          "text": [
            "Game 112 mean Reward 4380.18 Profit 300.49 Record: 309.4 eps 45 lr 0.000835 loss 0.610377\n"
          ]
        },
        {
          "output_type": "stream",
          "name": "stderr",
          "text": [
            " 55%|█████▌    | 110410/200000 [04:38<07:00, 212.96it/s]"
          ]
        },
        {
          "output_type": "stream",
          "name": "stdout",
          "text": [
            "Game 113 mean Reward 4203.9 Profit 302.35 Record: 309.4 eps 44 lr 0.000835 loss 0.549108\n"
          ]
        },
        {
          "output_type": "stream",
          "name": "stderr",
          "text": [
            " 56%|█████▌    | 111409/200000 [04:41<07:40, 192.26it/s]"
          ]
        },
        {
          "output_type": "stream",
          "name": "stdout",
          "text": [
            "Game 114 mean Reward 3347.79 Profit 291.76 Record: 309.4 eps 44 lr 0.000835 loss 0.581876\n"
          ]
        },
        {
          "output_type": "stream",
          "name": "stderr",
          "text": [
            " 56%|█████▌    | 112317/200000 [04:45<12:14, 119.42it/s]"
          ]
        },
        {
          "output_type": "stream",
          "name": "stdout",
          "text": [
            "Game 115 mean Reward 3795.91 Profit 310.67 Record: 310.67 eps 43 lr 0.000831 loss 0.622704\n"
          ]
        },
        {
          "output_type": "stream",
          "name": "stderr",
          "text": [
            " 57%|█████▋    | 113345/200000 [04:48<08:09, 177.15it/s]"
          ]
        },
        {
          "output_type": "stream",
          "name": "stdout",
          "text": [
            "Game 116 mean Reward 4062.92 Profit 304.56 Record: 310.67 eps 43 lr 0.000831 loss 0.626101\n"
          ]
        },
        {
          "output_type": "stream",
          "name": "stderr",
          "text": [
            " 57%|█████▋    | 114278/200000 [04:50<07:29, 190.90it/s]"
          ]
        },
        {
          "output_type": "stream",
          "name": "stdout",
          "text": [
            "Game 117 mean Reward 4247.78 Profit 295.62 Record: 310.67 eps 42 lr 0.000831 loss 0.574754\n"
          ]
        },
        {
          "output_type": "stream",
          "name": "stderr",
          "text": [
            " 58%|█████▊    | 115251/200000 [04:53<08:22, 168.70it/s]"
          ]
        },
        {
          "output_type": "stream",
          "name": "stdout",
          "text": [
            "Game 118 mean Reward 3666.95 Profit 296.7 Record: 310.67 eps 42 lr 0.000827 loss 0.622727\n"
          ]
        },
        {
          "output_type": "stream",
          "name": "stderr",
          "text": [
            " 58%|█████▊    | 116211/200000 [04:57<11:41, 119.51it/s]"
          ]
        },
        {
          "output_type": "stream",
          "name": "stdout",
          "text": [
            "Game 119 mean Reward 4033.55 Profit 302.87 Record: 310.67 eps 41 lr 0.000827 loss 0.603552\n"
          ]
        },
        {
          "output_type": "stream",
          "name": "stderr",
          "text": [
            " 59%|█████▊    | 117249/200000 [05:00<09:25, 146.39it/s]"
          ]
        },
        {
          "output_type": "stream",
          "name": "stdout",
          "text": [
            "Game 120 mean Reward 4446.81 Profit 301.0 Record: 310.67 eps 41 lr 0.000827 loss 0.600634\n"
          ]
        },
        {
          "output_type": "stream",
          "name": "stderr",
          "text": [
            " 59%|█████▉    | 118179/200000 [05:03<08:04, 168.71it/s]"
          ]
        },
        {
          "output_type": "stream",
          "name": "stdout",
          "text": [
            "Game 121 mean Reward 3601.57 Profit 307.95 Record: 310.67 eps 40 lr 0.000822 loss 0.611642\n"
          ]
        },
        {
          "output_type": "stream",
          "name": "stderr",
          "text": [
            " 60%|█████▉    | 119154/200000 [05:06<08:33, 157.34it/s]"
          ]
        },
        {
          "output_type": "stream",
          "name": "stdout",
          "text": [
            "Game 122 mean Reward 4008.29 Profit 309.09 Record: 310.67 eps 40 lr 0.000822 loss 0.613256\n"
          ]
        },
        {
          "output_type": "stream",
          "name": "stderr",
          "text": [
            " 60%|██████    | 120150/200000 [05:09<07:12, 184.46it/s]"
          ]
        },
        {
          "output_type": "stream",
          "name": "stdout",
          "text": [
            "Game 123 mean Reward 3665.76 Profit 303.32 Record: 310.67 eps 39 lr 0.000822 loss 0.546213\n"
          ]
        },
        {
          "output_type": "stream",
          "name": "stderr",
          "text": [
            " 61%|██████    | 121107/200000 [05:13<11:22, 115.53it/s]"
          ]
        },
        {
          "output_type": "stream",
          "name": "stdout",
          "text": [
            "Game 124 mean Reward 3978.4 Profit 296.68 Record: 310.67 eps 39 lr 0.000818 loss 0.606252\n"
          ]
        },
        {
          "output_type": "stream",
          "name": "stderr",
          "text": [
            " 61%|██████    | 122089/200000 [05:16<08:52, 146.37it/s]"
          ]
        },
        {
          "output_type": "stream",
          "name": "stdout",
          "text": [
            "Game 125 mean Reward 4189.94 Profit 302.7 Record: 310.67 eps 38 lr 0.000818 loss 0.569928\n"
          ]
        },
        {
          "output_type": "stream",
          "name": "stderr",
          "text": [
            " 62%|██████▏   | 123046/200000 [05:19<09:20, 137.27it/s]"
          ]
        },
        {
          "output_type": "stream",
          "name": "stdout",
          "text": [
            "Game 126 mean Reward 3380.75 Profit 306.93 Record: 310.67 eps 38 lr 0.000818 loss 0.540811\n"
          ]
        },
        {
          "output_type": "stream",
          "name": "stderr",
          "text": [
            " 62%|██████▏   | 123997/200000 [05:22<09:51, 128.42it/s]"
          ]
        },
        {
          "output_type": "stream",
          "name": "stdout",
          "text": [
            "Game 127 mean Reward 3918.04 Profit 298.85 Record: 310.67 eps 37 lr 0.000814 loss 0.609473\n"
          ]
        },
        {
          "output_type": "stream",
          "name": "stderr",
          "text": [
            " 63%|██████▎   | 125021/200000 [05:26<12:31, 99.73it/s]"
          ]
        },
        {
          "output_type": "stream",
          "name": "stdout",
          "text": [
            "Game 128 mean Reward 3626.04 Profit 308.16 Record: 310.67 eps 37 lr 0.000814 loss 0.582271\n"
          ]
        },
        {
          "output_type": "stream",
          "name": "stderr",
          "text": [
            " 63%|██████▎   | 126007/200000 [05:29<06:38, 185.48it/s]"
          ]
        },
        {
          "output_type": "stream",
          "name": "stdout",
          "text": [
            "Game 129 mean Reward 3547.92 Profit 312.49 Record: 312.49 eps 36 lr 0.000814 loss 0.633951\n"
          ]
        },
        {
          "output_type": "stream",
          "name": "stderr",
          "text": [
            " 63%|██████▎   | 126988/200000 [05:32<06:33, 185.40it/s]"
          ]
        },
        {
          "output_type": "stream",
          "name": "stdout",
          "text": [
            "Game 130 mean Reward 4088.27 Profit 304.61 Record: 312.49 eps 36 lr 0.00081 loss 0.623067\n"
          ]
        },
        {
          "output_type": "stream",
          "name": "stderr",
          "text": [
            " 64%|██████▍   | 127925/200000 [05:34<09:29, 126.47it/s]"
          ]
        },
        {
          "output_type": "stream",
          "name": "stdout",
          "text": [
            "Game 131 mean Reward 3829.16 Profit 305.68 Record: 312.49 eps 35 lr 0.00081 loss 0.52924\n"
          ]
        },
        {
          "output_type": "stream",
          "name": "stderr",
          "text": [
            " 64%|██████▍   | 128929/200000 [05:39<12:07, 97.65it/s]"
          ]
        },
        {
          "output_type": "stream",
          "name": "stdout",
          "text": [
            "Game 132 mean Reward 4488.5 Profit 307.8 Record: 312.49 eps 35 lr 0.00081 loss 0.587224\n"
          ]
        },
        {
          "output_type": "stream",
          "name": "stderr",
          "text": [
            " 65%|██████▍   | 129941/200000 [05:42<06:39, 175.46it/s]"
          ]
        },
        {
          "output_type": "stream",
          "name": "stdout",
          "text": [
            "Game 133 mean Reward 4020.55 Profit 300.46 Record: 312.49 eps 34 lr 0.000806 loss 0.577818\n"
          ]
        },
        {
          "output_type": "stream",
          "name": "stderr",
          "text": [
            " 65%|██████▌   | 130861/200000 [05:45<06:56, 166.17it/s]"
          ]
        },
        {
          "output_type": "stream",
          "name": "stdout",
          "text": [
            "Game 134 mean Reward 4642.16 Profit 308.52 Record: 312.49 eps 34 lr 0.000806 loss 0.560083\n"
          ]
        },
        {
          "output_type": "stream",
          "name": "stderr",
          "text": [
            " 66%|██████▌   | 131851/200000 [05:48<06:18, 180.05it/s]"
          ]
        },
        {
          "output_type": "stream",
          "name": "stdout",
          "text": [
            "Game 135 mean Reward 3838.08 Profit 288.44 Record: 312.49 eps 33 lr 0.000806 loss 0.624098\n"
          ]
        },
        {
          "output_type": "stream",
          "name": "stderr",
          "text": [
            " 66%|██████▋   | 132829/200000 [05:51<11:08, 100.49it/s]"
          ]
        },
        {
          "output_type": "stream",
          "name": "stdout",
          "text": [
            "Game 136 mean Reward 3482.61 Profit 284.04 Record: 312.49 eps 33 lr 0.000806 loss 0.584795\n"
          ]
        },
        {
          "output_type": "stream",
          "name": "stderr",
          "text": [
            " 67%|██████▋   | 133803/200000 [05:54<06:33, 168.31it/s]"
          ]
        },
        {
          "output_type": "stream",
          "name": "stdout",
          "text": [
            "Game 137 mean Reward 3506.73 Profit 273.48 Record: 312.49 eps 32 lr 0.000802 loss 0.615637\n"
          ]
        },
        {
          "output_type": "stream",
          "name": "stderr",
          "text": [
            " 67%|██████▋   | 134768/200000 [05:58<08:31, 127.59it/s]"
          ]
        },
        {
          "output_type": "stream",
          "name": "stdout",
          "text": [
            "Game 138 mean Reward 4118.55 Profit 307.95 Record: 312.49 eps 32 lr 0.000802 loss 0.591204\n"
          ]
        },
        {
          "output_type": "stream",
          "name": "stderr",
          "text": [
            " 68%|██████▊   | 135703/200000 [06:01<10:35, 101.19it/s]"
          ]
        },
        {
          "output_type": "stream",
          "name": "stdout",
          "text": [
            "Game 139 mean Reward 3986.16 Profit 300.44 Record: 312.49 eps 31 lr 0.000802 loss 0.51821\n"
          ]
        },
        {
          "output_type": "stream",
          "name": "stderr",
          "text": [
            " 68%|██████▊   | 136690/200000 [06:05<09:01, 116.84it/s]"
          ]
        },
        {
          "output_type": "stream",
          "name": "stdout",
          "text": [
            "Game 140 mean Reward 3856.69 Profit 297.54 Record: 312.49 eps 31 lr 0.000798 loss 0.611233\n"
          ]
        },
        {
          "output_type": "stream",
          "name": "stderr",
          "text": [
            " 69%|██████▉   | 137711/200000 [06:08<07:18, 142.09it/s]"
          ]
        },
        {
          "output_type": "stream",
          "name": "stdout",
          "text": [
            "Game 141 mean Reward 3707.49 Profit 298.53 Record: 312.49 eps 30 lr 0.000798 loss 0.573157\n"
          ]
        },
        {
          "output_type": "stream",
          "name": "stderr",
          "text": [
            " 69%|██████▉   | 138695/200000 [06:12<07:03, 144.81it/s]"
          ]
        },
        {
          "output_type": "stream",
          "name": "stdout",
          "text": [
            "Game 142 mean Reward 3991.32 Profit 301.19 Record: 312.49 eps 30 lr 0.000798 loss 0.567946\n"
          ]
        },
        {
          "output_type": "stream",
          "name": "stderr",
          "text": [
            " 70%|██████▉   | 139634/200000 [06:16<11:20, 88.66it/s]"
          ]
        },
        {
          "output_type": "stream",
          "name": "stdout",
          "text": [
            "Game 143 mean Reward 4181.3 Profit 298.99 Record: 312.49 eps 29 lr 0.000794 loss 0.611748\n"
          ]
        },
        {
          "output_type": "stream",
          "name": "stderr",
          "text": [
            " 70%|███████   | 140622/200000 [06:19<07:22, 134.20it/s]"
          ]
        },
        {
          "output_type": "stream",
          "name": "stdout",
          "text": [
            "Game 144 mean Reward 3780.18 Profit 302.97 Record: 312.49 eps 29 lr 0.000794 loss 0.567118\n"
          ]
        },
        {
          "output_type": "stream",
          "name": "stderr",
          "text": [
            " 71%|███████   | 141592/200000 [06:23<08:06, 120.05it/s]"
          ]
        },
        {
          "output_type": "stream",
          "name": "stdout",
          "text": [
            "Game 145 mean Reward 3455.64 Profit 308.39 Record: 312.49 eps 28 lr 0.000794 loss 0.605944\n"
          ]
        },
        {
          "output_type": "stream",
          "name": "stderr",
          "text": [
            " 71%|███████▏  | 142567/200000 [06:26<06:30, 147.14it/s]"
          ]
        },
        {
          "output_type": "stream",
          "name": "stdout",
          "text": [
            "Game 146 mean Reward 3932.04 Profit 309.12 Record: 312.49 eps 28 lr 0.00079 loss 0.599353\n"
          ]
        },
        {
          "output_type": "stream",
          "name": "stderr",
          "text": [
            " 72%|███████▏  | 143565/200000 [06:30<08:51, 106.26it/s]"
          ]
        },
        {
          "output_type": "stream",
          "name": "stdout",
          "text": [
            "Game 147 mean Reward 3987.83 Profit 304.24 Record: 312.49 eps 27 lr 0.00079 loss 0.58174\n"
          ]
        },
        {
          "output_type": "stream",
          "name": "stderr",
          "text": [
            " 72%|███████▏  | 144563/200000 [06:33<06:21, 145.42it/s]"
          ]
        },
        {
          "output_type": "stream",
          "name": "stdout",
          "text": [
            "Game 148 mean Reward 3573.77 Profit 293.61 Record: 312.49 eps 27 lr 0.00079 loss 0.58223\n"
          ]
        },
        {
          "output_type": "stream",
          "name": "stderr",
          "text": [
            " 73%|███████▎  | 145511/200000 [06:37<06:40, 135.98it/s]"
          ]
        },
        {
          "output_type": "stream",
          "name": "stdout",
          "text": [
            "Game 149 mean Reward 1788.6 Profit 160.38 Record: 312.49 eps 26 lr 0.000786 loss 0.590777\n"
          ]
        },
        {
          "output_type": "stream",
          "name": "stderr",
          "text": [
            " 73%|███████▎  | 146452/200000 [06:40<10:27, 85.40it/s] "
          ]
        },
        {
          "output_type": "stream",
          "name": "stdout",
          "text": [
            "Game 150 mean Reward -341.66 Profit 0.36 Record: 312.49 eps 26 lr 0.000786 loss 0.518835\n"
          ]
        },
        {
          "output_type": "stream",
          "name": "stderr",
          "text": [
            " 74%|███████▎  | 147429/200000 [06:44<07:22, 118.89it/s]"
          ]
        },
        {
          "output_type": "stream",
          "name": "stdout",
          "text": [
            "Game 151 mean Reward -227.42 Profit 0.08 Record: 312.49 eps 25 lr 0.000786 loss 0.534559\n"
          ]
        },
        {
          "output_type": "stream",
          "name": "stderr",
          "text": [
            " 74%|███████▍  | 148446/200000 [06:47<06:08, 139.88it/s]"
          ]
        },
        {
          "output_type": "stream",
          "name": "stdout",
          "text": [
            "Game 152 mean Reward -91.66 Profit 5.29 Record: 312.49 eps 25 lr 0.000782 loss 0.481042\n"
          ]
        },
        {
          "output_type": "stream",
          "name": "stderr",
          "text": [
            " 75%|███████▍  | 149392/200000 [06:50<05:20, 157.84it/s]"
          ]
        },
        {
          "output_type": "stream",
          "name": "stdout",
          "text": [
            "Game 153 mean Reward -244.13 Profit 1.24 Record: 312.49 eps 24 lr 0.000782 loss 0.429207\n"
          ]
        },
        {
          "output_type": "stream",
          "name": "stderr",
          "text": [
            " 75%|███████▌  | 150352/200000 [06:55<09:14, 89.51it/s]"
          ]
        },
        {
          "output_type": "stream",
          "name": "stdout",
          "text": [
            "Game 154 mean Reward 3295.27 Profit 214.63 Record: 312.49 eps 24 lr 0.000782 loss 0.367989\n"
          ]
        },
        {
          "output_type": "stream",
          "name": "stderr",
          "text": [
            " 76%|███████▌  | 151397/200000 [06:58<05:50, 138.63it/s]"
          ]
        },
        {
          "output_type": "stream",
          "name": "stdout",
          "text": [
            "Game 155 mean Reward 4227.46 Profit 318.08 Record: 318.08 eps 23 lr 0.000778 loss 0.364305\n"
          ]
        },
        {
          "output_type": "stream",
          "name": "stderr",
          "text": [
            " 76%|███████▌  | 152308/200000 [07:02<08:36, 92.42it/s]"
          ]
        },
        {
          "output_type": "stream",
          "name": "stdout",
          "text": [
            "Game 156 mean Reward 4298.67 Profit 308.8 Record: 318.08 eps 23 lr 0.000778 loss 0.378552\n"
          ]
        },
        {
          "output_type": "stream",
          "name": "stderr",
          "text": [
            " 77%|███████▋  | 153272/200000 [07:05<08:10, 95.23it/s] "
          ]
        },
        {
          "output_type": "stream",
          "name": "stdout",
          "text": [
            "Game 157 mean Reward 3920.47 Profit 305.03 Record: 318.08 eps 22 lr 0.000778 loss 0.353532\n"
          ]
        },
        {
          "output_type": "stream",
          "name": "stderr",
          "text": [
            " 77%|███████▋  | 154302/200000 [07:09<06:42, 113.57it/s]"
          ]
        },
        {
          "output_type": "stream",
          "name": "stdout",
          "text": [
            "Game 158 mean Reward 4381.21 Profit 301.7 Record: 318.08 eps 22 lr 0.000774 loss 0.334901\n"
          ]
        },
        {
          "output_type": "stream",
          "name": "stderr",
          "text": [
            " 78%|███████▊  | 155256/200000 [07:12<04:58, 149.65it/s]"
          ]
        },
        {
          "output_type": "stream",
          "name": "stdout",
          "text": [
            "Game 159 mean Reward 4331.49 Profit 301.28 Record: 318.08 eps 21 lr 0.000774 loss 0.371668\n"
          ]
        },
        {
          "output_type": "stream",
          "name": "stderr",
          "text": [
            " 78%|███████▊  | 156217/200000 [07:16<05:19, 137.08it/s]"
          ]
        },
        {
          "output_type": "stream",
          "name": "stdout",
          "text": [
            "Game 160 mean Reward 3794.63 Profit 297.96 Record: 318.08 eps 21 lr 0.000774 loss 0.370179\n"
          ]
        },
        {
          "output_type": "stream",
          "name": "stderr",
          "text": [
            " 79%|███████▊  | 157205/200000 [07:20<07:28, 95.42it/s]"
          ]
        },
        {
          "output_type": "stream",
          "name": "stdout",
          "text": [
            "Game 161 mean Reward 3574.37 Profit 301.1 Record: 318.08 eps 20 lr 0.000771 loss 0.453362\n"
          ]
        },
        {
          "output_type": "stream",
          "name": "stderr",
          "text": [
            " 79%|███████▉  | 158220/200000 [07:23<04:33, 152.95it/s]"
          ]
        },
        {
          "output_type": "stream",
          "name": "stdout",
          "text": [
            "Game 162 mean Reward 3499.57 Profit 304.26 Record: 318.08 eps 20 lr 0.000771 loss 0.503935\n"
          ]
        },
        {
          "output_type": "stream",
          "name": "stderr",
          "text": [
            " 80%|███████▉  | 159185/200000 [07:27<05:20, 127.47it/s]"
          ]
        },
        {
          "output_type": "stream",
          "name": "stdout",
          "text": [
            "Game 163 mean Reward 4226.72 Profit 302.33 Record: 318.08 eps 19 lr 0.000771 loss 0.59962\n"
          ]
        },
        {
          "output_type": "stream",
          "name": "stderr",
          "text": [
            " 80%|████████  | 160168/200000 [07:30<04:57, 133.77it/s]"
          ]
        },
        {
          "output_type": "stream",
          "name": "stdout",
          "text": [
            "Game 164 mean Reward 4020.39 Profit 298.56 Record: 318.08 eps 19 lr 0.000767 loss 0.546815\n"
          ]
        },
        {
          "output_type": "stream",
          "name": "stderr",
          "text": [
            " 81%|████████  | 161132/200000 [07:34<07:02, 92.04it/s]"
          ]
        },
        {
          "output_type": "stream",
          "name": "stdout",
          "text": [
            "Game 165 mean Reward 4025.48 Profit 301.25 Record: 318.08 eps 18 lr 0.000767 loss 0.638861\n"
          ]
        },
        {
          "output_type": "stream",
          "name": "stderr",
          "text": [
            " 81%|████████  | 162099/200000 [07:37<04:23, 143.84it/s]"
          ]
        },
        {
          "output_type": "stream",
          "name": "stdout",
          "text": [
            "Game 166 mean Reward 3983.98 Profit 300.65 Record: 318.08 eps 18 lr 0.000767 loss 0.526965\n"
          ]
        },
        {
          "output_type": "stream",
          "name": "stderr",
          "text": [
            " 82%|████████▏ | 163045/200000 [07:41<05:19, 115.66it/s]"
          ]
        },
        {
          "output_type": "stream",
          "name": "stdout",
          "text": [
            "Game 167 mean Reward 3283.49 Profit 294.42 Record: 318.08 eps 17 lr 0.000763 loss 0.561919\n"
          ]
        },
        {
          "output_type": "stream",
          "name": "stderr",
          "text": [
            " 82%|████████▏ | 164005/200000 [07:45<07:16, 82.40it/s] "
          ]
        },
        {
          "output_type": "stream",
          "name": "stdout",
          "text": [
            "Game 168 mean Reward 4091.4 Profit 304.19 Record: 318.08 eps 17 lr 0.000763 loss 0.574706\n"
          ]
        },
        {
          "output_type": "stream",
          "name": "stderr",
          "text": [
            " 82%|████████▏ | 164995/200000 [07:49<04:39, 125.34it/s]"
          ]
        },
        {
          "output_type": "stream",
          "name": "stdout",
          "text": [
            "Game 169 mean Reward 4100.54 Profit 297.77 Record: 318.08 eps 16 lr 0.000763 loss 0.594839\n"
          ]
        },
        {
          "output_type": "stream",
          "name": "stderr",
          "text": [
            " 83%|████████▎ | 165988/200000 [07:52<04:27, 126.96it/s]"
          ]
        },
        {
          "output_type": "stream",
          "name": "stdout",
          "text": [
            "Game 170 mean Reward 3549.18 Profit 298.67 Record: 318.08 eps 16 lr 0.000763 loss 0.561511\n"
          ]
        },
        {
          "output_type": "stream",
          "name": "stderr",
          "text": [
            " 83%|████████▎ | 166966/200000 [07:56<04:45, 115.56it/s]"
          ]
        },
        {
          "output_type": "stream",
          "name": "stdout",
          "text": [
            "Game 171 mean Reward 3581.26 Profit 295.1 Record: 318.08 eps 15 lr 0.000759 loss 0.583569\n"
          ]
        },
        {
          "output_type": "stream",
          "name": "stderr",
          "text": [
            " 84%|████████▍ | 167960/200000 [08:00<06:06, 87.40it/s]"
          ]
        },
        {
          "output_type": "stream",
          "name": "stdout",
          "text": [
            "Game 172 mean Reward 4207.62 Profit 304.1 Record: 318.08 eps 15 lr 0.000759 loss 0.555511\n"
          ]
        },
        {
          "output_type": "stream",
          "name": "stderr",
          "text": [
            " 84%|████████▍ | 168930/200000 [08:04<04:11, 123.52it/s]"
          ]
        },
        {
          "output_type": "stream",
          "name": "stdout",
          "text": [
            "Game 173 mean Reward 4313.82 Profit 301.17 Record: 318.08 eps 14 lr 0.000759 loss 0.613565\n"
          ]
        },
        {
          "output_type": "stream",
          "name": "stderr",
          "text": [
            " 85%|████████▍ | 169905/200000 [08:07<04:02, 124.26it/s]"
          ]
        },
        {
          "output_type": "stream",
          "name": "stdout",
          "text": [
            "Game 174 mean Reward 4137.18 Profit 296.55 Record: 318.08 eps 14 lr 0.000755 loss 0.627241\n"
          ]
        },
        {
          "output_type": "stream",
          "name": "stderr",
          "text": [
            " 85%|████████▌ | 170871/200000 [08:12<06:13, 78.00it/s]"
          ]
        },
        {
          "output_type": "stream",
          "name": "stdout",
          "text": [
            "Game 175 mean Reward 4018.72 Profit 299.49 Record: 318.08 eps 13 lr 0.000755 loss 0.541168\n"
          ]
        },
        {
          "output_type": "stream",
          "name": "stderr",
          "text": [
            " 86%|████████▌ | 171871/200000 [08:15<03:33, 131.66it/s]"
          ]
        },
        {
          "output_type": "stream",
          "name": "stdout",
          "text": [
            "Game 176 mean Reward 3933.58 Profit 298.38 Record: 318.08 eps 13 lr 0.000755 loss 0.557574\n"
          ]
        },
        {
          "output_type": "stream",
          "name": "stderr",
          "text": [
            " 86%|████████▋ | 172842/200000 [08:18<03:14, 139.80it/s]"
          ]
        },
        {
          "output_type": "stream",
          "name": "stdout",
          "text": [
            "Game 177 mean Reward 4194.46 Profit 297.94 Record: 318.08 eps 12 lr 0.000751 loss 0.60284\n"
          ]
        },
        {
          "output_type": "stream",
          "name": "stderr",
          "text": [
            " 87%|████████▋ | 173798/200000 [08:22<04:23, 99.59it/s]"
          ]
        },
        {
          "output_type": "stream",
          "name": "stdout",
          "text": [
            "Game 178 mean Reward 3973.68 Profit 297.48 Record: 318.08 eps 12 lr 0.000751 loss 0.622985\n"
          ]
        },
        {
          "output_type": "stream",
          "name": "stderr",
          "text": [
            " 87%|████████▋ | 174779/200000 [08:27<04:48, 87.51it/s]"
          ]
        },
        {
          "output_type": "stream",
          "name": "stdout",
          "text": [
            "Game 179 mean Reward 3718.64 Profit 293.5 Record: 318.08 eps 11 lr 0.000751 loss 0.553877\n"
          ]
        },
        {
          "output_type": "stream",
          "name": "stderr",
          "text": [
            " 88%|████████▊ | 175758/200000 [08:30<03:24, 118.66it/s]"
          ]
        },
        {
          "output_type": "stream",
          "name": "stdout",
          "text": [
            "Game 180 mean Reward 3602.75 Profit 298.67 Record: 318.08 eps 11 lr 0.000748 loss 0.652682\n"
          ]
        },
        {
          "output_type": "stream",
          "name": "stderr",
          "text": [
            " 88%|████████▊ | 176714/200000 [08:34<03:09, 123.13it/s]"
          ]
        },
        {
          "output_type": "stream",
          "name": "stdout",
          "text": [
            "Game 181 mean Reward 3937.68 Profit 300.07 Record: 318.08 eps 10 lr 0.000748 loss 0.598236\n"
          ]
        },
        {
          "output_type": "stream",
          "name": "stderr",
          "text": [
            " 89%|████████▉ | 177708/200000 [08:38<05:07, 72.55it/s]"
          ]
        },
        {
          "output_type": "stream",
          "name": "stdout",
          "text": [
            "Game 182 mean Reward 4271.14 Profit 301.5 Record: 318.08 eps 10 lr 0.000748 loss 0.636786\n"
          ]
        },
        {
          "output_type": "stream",
          "name": "stderr",
          "text": [
            " 89%|████████▉ | 178664/200000 [08:42<03:11, 111.67it/s]"
          ]
        },
        {
          "output_type": "stream",
          "name": "stdout",
          "text": [
            "Game 183 mean Reward 3759.04 Profit 297.7 Record: 318.08 eps 9 lr 0.000744 loss 0.540956\n"
          ]
        },
        {
          "output_type": "stream",
          "name": "stderr",
          "text": [
            " 90%|████████▉ | 179671/200000 [08:46<02:45, 122.82it/s]"
          ]
        },
        {
          "output_type": "stream",
          "name": "stdout",
          "text": [
            "Game 184 mean Reward 4033.13 Profit 299.81 Record: 318.08 eps 9 lr 0.000744 loss 0.533791\n"
          ]
        },
        {
          "output_type": "stream",
          "name": "stderr",
          "text": [
            " 90%|█████████ | 180601/200000 [08:50<04:05, 79.17it/s] "
          ]
        },
        {
          "output_type": "stream",
          "name": "stdout",
          "text": [
            "Game 185 mean Reward 4866.59 Profit 297.62 Record: 318.08 eps 8 lr 0.000744 loss 0.53654\n"
          ]
        },
        {
          "output_type": "stream",
          "name": "stderr",
          "text": [
            " 91%|█████████ | 181592/200000 [08:53<02:16, 134.89it/s]"
          ]
        },
        {
          "output_type": "stream",
          "name": "stdout",
          "text": [
            "Game 186 mean Reward 4397.88 Profit 300.39 Record: 318.08 eps 8 lr 0.00074 loss 0.596637\n"
          ]
        },
        {
          "output_type": "stream",
          "name": "stderr",
          "text": [
            " 91%|█████████▏| 182601/200000 [08:57<02:18, 125.94it/s]"
          ]
        },
        {
          "output_type": "stream",
          "name": "stdout",
          "text": [
            "Game 187 mean Reward 4007.68 Profit 300.07 Record: 318.08 eps 7 lr 0.00074 loss 0.60225\n"
          ]
        },
        {
          "output_type": "stream",
          "name": "stderr",
          "text": [
            " 92%|█████████▏| 183548/200000 [09:00<02:13, 123.00it/s]"
          ]
        },
        {
          "output_type": "stream",
          "name": "stdout",
          "text": [
            "Game 188 mean Reward 3994.03 Profit 300.39 Record: 318.08 eps 7 lr 0.00074 loss 0.563322\n"
          ]
        },
        {
          "output_type": "stream",
          "name": "stderr",
          "text": [
            " 92%|█████████▏| 184542/200000 [09:05<03:19, 77.49it/s]"
          ]
        },
        {
          "output_type": "stream",
          "name": "stdout",
          "text": [
            "Game 189 mean Reward 3978.36 Profit 297.96 Record: 318.08 eps 6 lr 0.000737 loss 0.535133\n"
          ]
        },
        {
          "output_type": "stream",
          "name": "stderr",
          "text": [
            " 93%|█████████▎| 185492/200000 [09:08<01:56, 124.27it/s]"
          ]
        },
        {
          "output_type": "stream",
          "name": "stdout",
          "text": [
            "Game 190 mean Reward 3818.94 Profit 299.15 Record: 318.08 eps 6 lr 0.000737 loss 0.648683\n"
          ]
        },
        {
          "output_type": "stream",
          "name": "stderr",
          "text": [
            " 93%|█████████▎| 186474/200000 [09:12<02:01, 111.16it/s]"
          ]
        },
        {
          "output_type": "stream",
          "name": "stdout",
          "text": [
            "Game 191 mean Reward 3860.9 Profit 300.17 Record: 318.08 eps 6 lr 0.000737 loss 0.559209\n"
          ]
        },
        {
          "output_type": "stream",
          "name": "stderr",
          "text": [
            " 94%|█████████▎| 187430/200000 [09:16<03:25, 61.11it/s]"
          ]
        },
        {
          "output_type": "stream",
          "name": "stdout",
          "text": [
            "Game 192 mean Reward 4148.24 Profit 300.34 Record: 318.08 eps 6 lr 0.000733 loss 0.567315\n"
          ]
        },
        {
          "output_type": "stream",
          "name": "stderr",
          "text": [
            " 94%|█████████▍| 188430/200000 [09:20<01:34, 122.27it/s]"
          ]
        },
        {
          "output_type": "stream",
          "name": "stdout",
          "text": [
            "Game 193 mean Reward 4165.52 Profit 300.4 Record: 318.08 eps 6 lr 0.000733 loss 0.589352\n"
          ]
        },
        {
          "output_type": "stream",
          "name": "stderr",
          "text": [
            " 95%|█████████▍| 189408/200000 [09:24<01:32, 114.04it/s]"
          ]
        },
        {
          "output_type": "stream",
          "name": "stdout",
          "text": [
            "Game 194 mean Reward 4057.13 Profit 300.19 Record: 318.08 eps 6 lr 0.000733 loss 0.618226\n"
          ]
        },
        {
          "output_type": "stream",
          "name": "stderr",
          "text": [
            " 95%|█████████▌| 190357/200000 [09:28<01:37, 99.01it/s]"
          ]
        },
        {
          "output_type": "stream",
          "name": "stdout",
          "text": [
            "Game 195 mean Reward 3975.81 Profit 298.7 Record: 318.08 eps 6 lr 0.000729 loss 0.542918\n"
          ]
        },
        {
          "output_type": "stream",
          "name": "stderr",
          "text": [
            " 96%|█████████▌| 191373/200000 [09:32<01:17, 111.78it/s]"
          ]
        },
        {
          "output_type": "stream",
          "name": "stdout",
          "text": [
            "Game 196 mean Reward 4147.36 Profit 298.18 Record: 318.08 eps 6 lr 0.000729 loss 0.552898\n"
          ]
        },
        {
          "output_type": "stream",
          "name": "stderr",
          "text": [
            " 96%|█████████▌| 192352/200000 [09:35<01:02, 122.05it/s]"
          ]
        },
        {
          "output_type": "stream",
          "name": "stdout",
          "text": [
            "Game 197 mean Reward 3937.93 Profit 301.09 Record: 318.08 eps 6 lr 0.000729 loss 0.520016\n"
          ]
        },
        {
          "output_type": "stream",
          "name": "stderr",
          "text": [
            " 97%|█████████▋| 193328/200000 [09:39<00:54, 122.00it/s]"
          ]
        },
        {
          "output_type": "stream",
          "name": "stdout",
          "text": [
            "Game 198 mean Reward 3842.55 Profit 296.75 Record: 318.08 eps 6 lr 0.000726 loss 0.521222\n"
          ]
        },
        {
          "output_type": "stream",
          "name": "stderr",
          "text": [
            " 97%|█████████▋| 194303/200000 [09:44<01:21, 69.95it/s]"
          ]
        },
        {
          "output_type": "stream",
          "name": "stdout",
          "text": [
            "Game 199 mean Reward 3987.06 Profit 300.04 Record: 318.08 eps 6 lr 0.000726 loss 0.548599\n"
          ]
        },
        {
          "output_type": "stream",
          "name": "stderr",
          "text": [
            " 98%|█████████▊| 195245/200000 [09:48<00:56, 83.76it/s] "
          ]
        },
        {
          "output_type": "stream",
          "name": "stdout",
          "text": [
            "Game 200 mean Reward 4176.35 Profit 305.17 Record: 318.08 eps 6 lr 0.000726 loss 0.546843\n"
          ]
        },
        {
          "output_type": "stream",
          "name": "stderr",
          "text": [
            " 98%|█████████▊| 196233/200000 [09:52<00:36, 101.95it/s]"
          ]
        },
        {
          "output_type": "stream",
          "name": "stdout",
          "text": [
            "Game 201 mean Reward 3858.34 Profit 308.72 Record: 318.08 eps 6 lr 0.000722 loss 0.63847\n"
          ]
        },
        {
          "output_type": "stream",
          "name": "stderr",
          "text": [
            " 99%|█████████▊| 197201/200000 [09:57<00:45, 61.73it/s]"
          ]
        },
        {
          "output_type": "stream",
          "name": "stdout",
          "text": [
            "Game 202 mean Reward 4320.38 Profit 307.34 Record: 318.08 eps 6 lr 0.000722 loss 0.585122\n"
          ]
        },
        {
          "output_type": "stream",
          "name": "stderr",
          "text": [
            " 99%|█████████▉| 198196/200000 [10:01<00:17, 101.40it/s]"
          ]
        },
        {
          "output_type": "stream",
          "name": "stdout",
          "text": [
            "Game 203 mean Reward 3972.15 Profit 307.49 Record: 318.08 eps 6 lr 0.000722 loss 0.554939\n"
          ]
        },
        {
          "output_type": "stream",
          "name": "stderr",
          "text": [
            "100%|█████████▉| 199148/200000 [10:04<00:09, 89.91it/s] "
          ]
        },
        {
          "output_type": "stream",
          "name": "stdout",
          "text": [
            "Game 204 mean Reward 3721.07 Profit 307.95 Record: 318.08 eps 6 lr 0.000722 loss 0.629952\n"
          ]
        },
        {
          "output_type": "stream",
          "name": "stderr",
          "text": [
            "100%|██████████| 200000/200000 [10:06<00:00, 329.63it/s]\n"
          ]
        }
      ],
      "source": [
        "train()\n",
        "#profit is the percentage of cumulated money through the money over money that I had in hand before the game\n",
        "#mean reward is the average daily dollar returns in each game"
      ]
    },
    {
      "cell_type": "code",
      "execution_count": 833,
      "metadata": {
        "colab": {
          "base_uri": "https://localhost:8080/",
          "height": 418
        },
        "id": "hBXrA3AAq_xI",
        "outputId": "df3a57d2-a4b7-474f-f17b-af06581f8b84"
      },
      "outputs": [
        {
          "output_type": "execute_result",
          "data": {
            "text/plain": [
              "[Text(0.5, 0, 'Games'), Text(0, 0.5, 'Smooth L1 Loss')]"
            ]
          },
          "metadata": {},
          "execution_count": 833
        },
        {
          "output_type": "display_data",
          "data": {
            "text/plain": [
              "<Figure size 2400x700 with 3 Axes>"
            ],
            "image/png": "[encoded data removed]"
          },
          "metadata": {}
        }
      ],
      "source": [
        "fig, ax=plt.subplots(1,3, figsize=(24,7))\n",
        "ax[0].plot(np.array(plot_profit)*100,  linewidth=1) #profit as a percentage\n",
        "ax[0].set(xlabel='Games', ylabel='Profit percent')\n",
        "\n",
        "ax[1].plot(plot_reward, linewidth=1, color='orange')\n",
        "ax[1].set(xlabel='Games', ylabel='Mean reward dollars')\n",
        "\n",
        "ax[2].plot(plot_loss, linewidth=1, color='royalblue')\n",
        "ax[2].set(xlabel='Games', ylabel='Smooth L1 Loss')"
      ]
    },
    {
      "cell_type": "markdown",
      "source": [
        "## **Visualize Actions**, **Positive: BUY, Negative: SELL**"
      ],
      "metadata": {
        "id": "1S8S461uBjKb"
      }
    },
    {
      "cell_type": "code",
      "execution_count": 834,
      "metadata": {
        "colab": {
          "base_uri": "https://localhost:8080/",
          "height": 770
        },
        "id": "zge9evjfnNOH",
        "outputId": "74ebeaea-3ca1-4920-c65f-d52f34cf4aca"
      },
      "outputs": [
        {
          "output_type": "stream",
          "name": "stderr",
          "text": [
            "<ipython-input-834-e173f20f7b44>:17: UserWarning: You have used the `textcoords` kwarg, but not the `xytext` kwarg.  This can lead to surprising results.\n",
            "  plt.annotate(\"Game\"+str(game_i),xy=(0,60), textcoords='offset points', fontsize=30)\n"
          ]
        },
        {
          "output_type": "execute_result",
          "data": {
            "text/plain": [
              "Text(0, 60, 'Game180')"
            ]
          },
          "metadata": {},
          "execution_count": 834
        },
        {
          "output_type": "display_data",
          "data": {
            "text/plain": [
              "<Figure size 1000x800 with 1 Axes>"
            ],
            "image/png": "[encoded data removed]"
          },
          "metadata": {}
        }
      ],
      "source": [
        "plt.figure(figsize=(10,8))\n",
        "game_i=180 #input this to see actions in game i\n",
        "game_length=stock_price_train.shape[0]-CONTEXT  #length of stock price\n",
        "# np.pad(stock_price, (CONTEXT//2,CONTEXT//2),'constant', constant_values=(stock_price[0], stock_price[-1]))\n",
        "#visualize actions\n",
        "# plt.plot(np.array(actions[game_length*game_i:game_length*(game_i+1)])/50,linewidth=1, color='tomato', label='Actions')\n",
        "plt.bar(x=np.arange(0,game_length), height=np.array(actions[game_length*game_i:game_length*(game_i+1)])/10, label='Actions', color='lightskyblue', alpha=0.8)\n",
        "#plot stock price\n",
        "plt.plot(stock_price_train, linewidth=0.8, color=\"blue\", label='Stock Price')\n",
        "\n",
        "#plt.axhline(y = 0, color = 'r', linestyle = '-')\n",
        "plt.xticks(np.arange(0,stock_price_train.shape[0],50))\n",
        "plt.ylabel(\"Stock Price vs AI Actions\")\n",
        "plt.xlabel(\"Time\")\n",
        "plt.grid(True)\n",
        "plt.legend()\n",
        "plt.annotate(\"Game\"+str(game_i),xy=(0,60), textcoords='offset points', fontsize=30)"
      ]
    },
    {
      "cell_type": "markdown",
      "source": [
        "### **Test on unseen graph**"
      ],
      "metadata": {
        "id": "QshXQnQQNTU6"
      }
    },
    {
      "cell_type": "code",
      "source": [
        "agent.n_games=10000\n",
        "actions_test=[]\n",
        "plot_profit_test=[]\n",
        "plot_reward_test=[]\n",
        "def test():\n",
        "    rewards = []\n",
        "    record = 0\n",
        "    game = Game(w=CONTEXT, stock=stock_test, stock_price=stock_price_test, transformer_pred=transformer_pred_test)\n",
        "    epoch=5000 #a very large number just to keep the game running\n",
        "    for i in tqdm( range(1,epoch+1) ):\n",
        "        \n",
        "        state_old = agent.get_state(game)\n",
        "        action = agent.get_action(state_old, game)\n",
        "        actions_test.append(action)\n",
        "        \n",
        "        reward, done= game.play_step(action)\n",
        "#--------------------------------------------------------------------------------------------------------------------\n",
        "        state_new = agent.get_state(game)\n",
        "\n",
        "        rewards.append(reward)\n",
        "        profit=game.profit\n",
        "\n",
        "        if done:\n",
        "            mean_reward=np.mean(rewards)\n",
        "            plot_reward_test.append(mean_reward)\n",
        "            rewards=[]\n",
        "            game.reset()\n",
        "            agent.n_games += 1\n",
        "            if profit > record:\n",
        "                record = profit\n",
        "\n",
        "            print('Game', agent.n_games,\"mean Reward\", round(mean_reward,2), 'Profit', round(profit*100,2) ,'Record:', round(record*100,2), \"eps\",agent.epsilon)\n",
        "\n",
        "            plot_profit.append(profit)\n",
        "\n"
      ],
      "metadata": {
        "id": "JIhLb8GGF63A"
      },
      "execution_count": 835,
      "outputs": []
    },
    {
      "cell_type": "code",
      "source": [
        "test()"
      ],
      "metadata": {
        "colab": {
          "base_uri": "https://localhost:8080/"
        },
        "id": "A-Ww8sXWPw1O",
        "outputId": "cb3a6626-2f8e-48a5-d701-fe6956be4edc"
      },
      "execution_count": 836,
      "outputs": [
        {
          "output_type": "stream",
          "name": "stderr",
          "text": [
            " 14%|█▍        | 721/5000 [00:01<00:08, 518.27it/s]"
          ]
        },
        {
          "output_type": "stream",
          "name": "stdout",
          "text": [
            "Game 10001 mean Reward 2487.62 Profit 42.94 Record: 42.94 eps 6\n"
          ]
        },
        {
          "output_type": "stream",
          "name": "stderr",
          "text": [
            " 27%|██▋       | 1348/5000 [00:02<00:08, 417.61it/s]"
          ]
        },
        {
          "output_type": "stream",
          "name": "stdout",
          "text": [
            "Game 10002 mean Reward 1537.85 Profit 44.19 Record: 44.19 eps 6\n"
          ]
        },
        {
          "output_type": "stream",
          "name": "stderr",
          "text": [
            " 40%|███▉      | 1993/5000 [00:04<00:07, 389.97it/s]"
          ]
        },
        {
          "output_type": "stream",
          "name": "stdout",
          "text": [
            "Game 10003 mean Reward 2369.09 Profit 46.35 Record: 46.35 eps 6\n"
          ]
        },
        {
          "output_type": "stream",
          "name": "stderr",
          "text": [
            " 52%|█████▏    | 2609/5000 [00:05<00:06, 356.91it/s]"
          ]
        },
        {
          "output_type": "stream",
          "name": "stdout",
          "text": [
            "Game 10004 mean Reward 2332.26 Profit 43.86 Record: 46.35 eps 6\n"
          ]
        },
        {
          "output_type": "stream",
          "name": "stderr",
          "text": [
            " 65%|██████▌   | 3259/5000 [00:07<00:03, 481.87it/s]"
          ]
        },
        {
          "output_type": "stream",
          "name": "stdout",
          "text": [
            "Game 10005 mean Reward 1805.03 Profit 42.97 Record: 46.35 eps 6\n"
          ]
        },
        {
          "output_type": "stream",
          "name": "stderr",
          "text": [
            " 78%|███████▊  | 3912/5000 [00:08<00:02, 390.36it/s]"
          ]
        },
        {
          "output_type": "stream",
          "name": "stdout",
          "text": [
            "Game 10006 mean Reward 2361.42 Profit 43.04 Record: 46.35 eps 6\n"
          ]
        },
        {
          "output_type": "stream",
          "name": "stderr",
          "text": [
            " 91%|█████████ | 4545/5000 [00:10<00:01, 366.01it/s]"
          ]
        },
        {
          "output_type": "stream",
          "name": "stdout",
          "text": [
            "Game 10007 mean Reward 1595.18 Profit 43.65 Record: 46.35 eps 6\n"
          ]
        },
        {
          "output_type": "stream",
          "name": "stderr",
          "text": [
            "100%|██████████| 5000/5000 [00:11<00:00, 428.90it/s]\n"
          ]
        }
      ]
    },
    {
      "cell_type": "code",
      "source": [
        "plt.figure(figsize=(10,8))\n",
        "game_i=2 #input this to see actions in game i\n",
        "game_length=stock_price_test.shape[0]-CONTEXT  #length of stock price\n",
        "plt.bar(x=np.arange(0,game_length), height=np.array(actions_test[game_length*game_i:game_length*(game_i+1)])/10, label='Actions', color='lightskyblue', alpha=0.8)\n",
        "#plot stock price\n",
        "plt.plot(stock_price_test, linewidth=0.8, color=\"blue\", label='Stock Price')\n",
        "\n",
        "#plt.axhline(y = 0, color = 'r', linestyle = '-')\n",
        "plt.xticks(np.arange(0,stock_price_test.shape[0],50))\n",
        "plt.ylabel(\"Stock Price vs AI Actions\")\n",
        "plt.xlabel(\"Time\")\n",
        "plt.grid(True)\n",
        "plt.legend()\n",
        "plt.annotate(\"Game\"+str(game_i),xy=(0,60), textcoords='offset points', fontsize=30)"
      ],
      "metadata": {
        "colab": {
          "base_uri": "https://localhost:8080/",
          "height": 774
        },
        "id": "o904S2haLf1_",
        "outputId": "69a48f2d-951a-40af-fb45-71aecd72df5b"
      },
      "execution_count": 838,
      "outputs": [
        {
          "output_type": "stream",
          "name": "stderr",
          "text": [
            "<ipython-input-838-7ea978125d5b>:14: UserWarning: You have used the `textcoords` kwarg, but not the `xytext` kwarg.  This can lead to surprising results.\n",
            "  plt.annotate(\"Game\"+str(game_i),xy=(0,60), textcoords='offset points', fontsize=30)\n"
          ]
        },
        {
          "output_type": "execute_result",
          "data": {
            "text/plain": [
              "Text(0, 60, 'Game2')"
            ]
          },
          "metadata": {},
          "execution_count": 838
        },
        {
          "output_type": "display_data",
          "data": {
            "text/plain": [
              "<Figure size 1000x800 with 1 Axes>"
            ],
            "image/png": "[encoded data removed]"
          },
          "metadata": {}
        }
      ]
    },
    {
      "cell_type": "code",
      "source": [],
      "metadata": {
        "id": "ZM3oL49cYvqd"
      },
      "execution_count": 837,
      "outputs": []
    }
  ],
  "metadata": {
    "colab": {
      "provenance": []
    },
    "kernelspec": {
      "display_name": "Python 3",
      "name": "python3"
    },
    "language_info": {
      "name": "python"
    }
  },
  "nbformat": 4,
  "nbformat_minor": 0
}